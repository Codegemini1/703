{
 "cells": [
  {
   "cell_type": "code",
   "execution_count": 1,
   "id": "db521dbe-2fff-4da4-bcc5-cdcbd5d9fad7",
   "metadata": {},
   "outputs": [],
   "source": [
    "l = [1,2,3,4,5,6,7,8]"
   ]
  },
  {
   "cell_type": "code",
   "execution_count": 2,
   "id": "fc686aa6-9630-4165-bda6-9389a1e78a51",
   "metadata": {},
   "outputs": [],
   "source": [
    "# Slice this list from 1 to 4 numbers"
   ]
  },
  {
   "cell_type": "code",
   "execution_count": 3,
   "id": "fb0def56-065e-41ca-b8a6-2bb1fc7bb034",
   "metadata": {},
   "outputs": [
    {
     "data": {
      "text/plain": [
       "[1, 2, 3, 4]"
      ]
     },
     "execution_count": 3,
     "metadata": {},
     "output_type": "execute_result"
    }
   ],
   "source": [
    "l[0:4] #start point : End point's next index"
   ]
  },
  {
   "cell_type": "code",
   "execution_count": 4,
   "id": "e2aad374-c3ad-4e8b-a007-8c5364c75d4a",
   "metadata": {},
   "outputs": [],
   "source": [
    "names = ['Om','Sham','ramesh','suresh']"
   ]
  },
  {
   "cell_type": "code",
   "execution_count": 5,
   "id": "0f7942fc-2fba-4323-b6f4-45f67d04d82c",
   "metadata": {},
   "outputs": [
    {
     "data": {
      "text/plain": [
       "['Om', 'Sham', 'ramesh']"
      ]
     },
     "execution_count": 5,
     "metadata": {},
     "output_type": "execute_result"
    }
   ],
   "source": [
    "names[0:3]"
   ]
  },
  {
   "cell_type": "code",
   "execution_count": 7,
   "id": "d0116b17-3773-4870-948f-c0064fc1b0d7",
   "metadata": {},
   "outputs": [
    {
     "data": {
      "text/plain": [
       "['Sham', 'ramesh']"
      ]
     },
     "execution_count": 7,
     "metadata": {},
     "output_type": "execute_result"
    }
   ],
   "source": [
    "names[1:3]"
   ]
  },
  {
   "cell_type": "code",
   "execution_count": 8,
   "id": "b2bdb8e2-c9f5-4e3f-8bcc-5710e5c89699",
   "metadata": {},
   "outputs": [
    {
     "data": {
      "text/plain": [
       "[1, 2, 3, 4, 5, 6, 7, 8]"
      ]
     },
     "execution_count": 8,
     "metadata": {},
     "output_type": "execute_result"
    }
   ],
   "source": [
    "l"
   ]
  },
  {
   "cell_type": "code",
   "execution_count": 9,
   "id": "575d720d-e5d6-48e2-8e80-bff7e34baf32",
   "metadata": {},
   "outputs": [
    {
     "data": {
      "text/plain": [
       "[3, 4, 5, 6]"
      ]
     },
     "execution_count": 9,
     "metadata": {},
     "output_type": "execute_result"
    }
   ],
   "source": [
    "l[2:6]"
   ]
  },
  {
   "cell_type": "code",
   "execution_count": 10,
   "id": "e5928b1c-2d99-458b-9afc-505f222e0bd5",
   "metadata": {},
   "outputs": [
    {
     "data": {
      "text/plain": [
       "[1, 2, 3, 4]"
      ]
     },
     "execution_count": 10,
     "metadata": {},
     "output_type": "execute_result"
    }
   ],
   "source": [
    "l[0:4]"
   ]
  },
  {
   "cell_type": "code",
   "execution_count": 11,
   "id": "cf17050b-c050-4237-a9c3-887668112bd1",
   "metadata": {},
   "outputs": [
    {
     "data": {
      "text/plain": [
       "[1, 2, 3, 4]"
      ]
     },
     "execution_count": 11,
     "metadata": {},
     "output_type": "execute_result"
    }
   ],
   "source": [
    "l[0:4:1] # Strat point:EndPoint:Jump size"
   ]
  },
  {
   "cell_type": "code",
   "execution_count": 12,
   "id": "6f77f717-9aad-4e93-a568-f355dfcbec58",
   "metadata": {},
   "outputs": [
    {
     "data": {
      "text/plain": [
       "[1, 2, 3, 4, 5, 6, 7, 8]"
      ]
     },
     "execution_count": 12,
     "metadata": {},
     "output_type": "execute_result"
    }
   ],
   "source": [
    "l"
   ]
  },
  {
   "cell_type": "code",
   "execution_count": 13,
   "id": "fe76134d-e4e0-49d2-9b0b-67a86ace0cc1",
   "metadata": {},
   "outputs": [
    {
     "data": {
      "text/plain": [
       "[1, 2, 3, 4, 5, 6, 7, 8]"
      ]
     },
     "execution_count": 13,
     "metadata": {},
     "output_type": "execute_result"
    }
   ],
   "source": [
    "l[:] #Start to end all"
   ]
  },
  {
   "cell_type": "code",
   "execution_count": 14,
   "id": "48c7e31a-85a5-48ff-aec1-19a8be2fd32a",
   "metadata": {},
   "outputs": [
    {
     "data": {
      "text/plain": [
       "[1, 3, 5, 7]"
      ]
     },
     "execution_count": 14,
     "metadata": {},
     "output_type": "execute_result"
    }
   ],
   "source": [
    "l[::2]"
   ]
  },
  {
   "cell_type": "code",
   "execution_count": 16,
   "id": "cd7437bb-84ca-4a4c-9d1d-e66522950df6",
   "metadata": {},
   "outputs": [
    {
     "data": {
      "text/plain": [
       "[1, 3, 5, 7]"
      ]
     },
     "execution_count": 16,
     "metadata": {},
     "output_type": "execute_result"
    }
   ],
   "source": [
    "l[0:8:2]"
   ]
  },
  {
   "cell_type": "code",
   "execution_count": 17,
   "id": "d865ebf4-3c47-453e-95c5-b356ab6e7444",
   "metadata": {},
   "outputs": [
    {
     "data": {
      "text/plain": [
       "[2, 3, 4, 5, 6, 7, 8]"
      ]
     },
     "execution_count": 17,
     "metadata": {},
     "output_type": "execute_result"
    }
   ],
   "source": [
    "l[1:]"
   ]
  },
  {
   "cell_type": "code",
   "execution_count": 18,
   "id": "59fec076-b020-4c20-9119-da5ec95f9819",
   "metadata": {},
   "outputs": [
    {
     "data": {
      "text/plain": [
       "[4, 5, 6, 7, 8]"
      ]
     },
     "execution_count": 18,
     "metadata": {},
     "output_type": "execute_result"
    }
   ],
   "source": [
    "l[3:]"
   ]
  },
  {
   "cell_type": "code",
   "execution_count": 20,
   "id": "fe7a2051-5155-4f96-a358-68379dd30022",
   "metadata": {},
   "outputs": [
    {
     "data": {
      "text/plain": [
       "[2, 4, 6, 8]"
      ]
     },
     "execution_count": 20,
     "metadata": {},
     "output_type": "execute_result"
    }
   ],
   "source": [
    "l[1::2]"
   ]
  },
  {
   "cell_type": "code",
   "execution_count": 21,
   "id": "4c37433c-36bc-41d0-888b-d08268fc7db7",
   "metadata": {},
   "outputs": [
    {
     "data": {
      "text/plain": [
       "[1, 4, 7]"
      ]
     },
     "execution_count": 21,
     "metadata": {},
     "output_type": "execute_result"
    }
   ],
   "source": [
    "l[::3]"
   ]
  },
  {
   "cell_type": "code",
   "execution_count": 25,
   "id": "7af2c456-d866-40ba-b5f7-0633c759f35b",
   "metadata": {},
   "outputs": [
    {
     "data": {
      "text/plain": [
       "[]"
      ]
     },
     "execution_count": 25,
     "metadata": {},
     "output_type": "execute_result"
    }
   ],
   "source": [
    "l[7:0]"
   ]
  },
  {
   "cell_type": "code",
   "execution_count": 26,
   "id": "84b9511f-07a3-4d2e-a033-f126ba713677",
   "metadata": {},
   "outputs": [
    {
     "data": {
      "text/plain": [
       "[8, 7, 6, 5, 4, 3, 2]"
      ]
     },
     "execution_count": 26,
     "metadata": {},
     "output_type": "execute_result"
    }
   ],
   "source": [
    "l[7:0:-1]"
   ]
  },
  {
   "cell_type": "code",
   "execution_count": 27,
   "id": "d7db873e-a213-41eb-ad2a-fe5f30c02f86",
   "metadata": {},
   "outputs": [
    {
     "data": {
      "text/plain": [
       "[8, 7, 6, 5, 4, 3, 2, 1]"
      ]
     },
     "execution_count": 27,
     "metadata": {},
     "output_type": "execute_result"
    }
   ],
   "source": [
    "l[::-1] # All data in reverse order"
   ]
  },
  {
   "cell_type": "code",
   "execution_count": 28,
   "id": "ed2f0baf-87b2-4c4a-aa32-3ae2e3644932",
   "metadata": {},
   "outputs": [
    {
     "data": {
      "text/plain": [
       "[8, 6, 4, 2]"
      ]
     },
     "execution_count": 28,
     "metadata": {},
     "output_type": "execute_result"
    }
   ],
   "source": [
    "l[::-2]"
   ]
  },
  {
   "cell_type": "code",
   "execution_count": 29,
   "id": "e166a2e2-462d-44de-9ec9-9a7ac5bdff2f",
   "metadata": {},
   "outputs": [
    {
     "data": {
      "text/plain": [
       "[8, 5, 2]"
      ]
     },
     "execution_count": 29,
     "metadata": {},
     "output_type": "execute_result"
    }
   ],
   "source": [
    "l[::-3]"
   ]
  },
  {
   "cell_type": "code",
   "execution_count": 30,
   "id": "a36e1a3e-0767-4a0c-a653-a7144c5b9f4e",
   "metadata": {},
   "outputs": [
    {
     "data": {
      "text/plain": [
       "[1, 2, 3, 4, 5, 6, 7, 8]"
      ]
     },
     "execution_count": 30,
     "metadata": {},
     "output_type": "execute_result"
    }
   ],
   "source": [
    "l"
   ]
  },
  {
   "cell_type": "code",
   "execution_count": 32,
   "id": "2c4a691a-edc4-4892-b0be-2aa68d3b4949",
   "metadata": {},
   "outputs": [
    {
     "data": {
      "text/plain": [
       "[8, 7, 6, 5]"
      ]
     },
     "execution_count": 32,
     "metadata": {},
     "output_type": "execute_result"
    }
   ],
   "source": [
    "l[7:3:-1]"
   ]
  },
  {
   "cell_type": "code",
   "execution_count": 33,
   "id": "a25ce946-0865-4062-8a1d-5a4ddb7f8f49",
   "metadata": {},
   "outputs": [
    {
     "data": {
      "text/plain": [
       "8"
      ]
     },
     "execution_count": 33,
     "metadata": {},
     "output_type": "execute_result"
    }
   ],
   "source": [
    "l[-1]"
   ]
  },
  {
   "cell_type": "code",
   "execution_count": 34,
   "id": "ef6c2cb3-e434-4570-a21f-dafa894d5cf2",
   "metadata": {},
   "outputs": [
    {
     "data": {
      "text/plain": [
       "7"
      ]
     },
     "execution_count": 34,
     "metadata": {},
     "output_type": "execute_result"
    }
   ],
   "source": [
    "l[-2]"
   ]
  },
  {
   "cell_type": "raw",
   "id": "0f0d3853-032b-4cb4-8cc6-c6c65b750743",
   "metadata": {},
   "source": [
    "# l --> Reverse this list by using sliceing operation\n",
    "--> l[::-1]"
   ]
  },
  {
   "cell_type": "code",
   "execution_count": 36,
   "id": "402b74f4-2d2b-4d34-8485-ba250f8b3f92",
   "metadata": {},
   "outputs": [
    {
     "data": {
      "text/plain": [
       "['Om', 'Sham', 'ramesh', 'suresh']"
      ]
     },
     "execution_count": 36,
     "metadata": {},
     "output_type": "execute_result"
    }
   ],
   "source": [
    "names"
   ]
  },
  {
   "cell_type": "code",
   "execution_count": 37,
   "id": "d05b93d2-add1-4a9e-891e-c49c9efb963c",
   "metadata": {},
   "outputs": [
    {
     "data": {
      "text/plain": [
       "['suresh', 'ramesh', 'Sham', 'Om']"
      ]
     },
     "execution_count": 37,
     "metadata": {},
     "output_type": "execute_result"
    }
   ],
   "source": [
    "names[::-1]"
   ]
  },
  {
   "cell_type": "code",
   "execution_count": 38,
   "id": "32142ab3-e426-4faa-8198-21fbf9af0669",
   "metadata": {},
   "outputs": [
    {
     "data": {
      "text/plain": [
       "['suresh', 'ramesh']"
      ]
     },
     "execution_count": 38,
     "metadata": {},
     "output_type": "execute_result"
    }
   ],
   "source": [
    "names[-1:-3:-1]"
   ]
  },
  {
   "cell_type": "code",
   "execution_count": 39,
   "id": "e7a5a9fe-2d3a-44d3-864e-7658f859f4ad",
   "metadata": {},
   "outputs": [
    {
     "data": {
      "text/plain": [
       "['suresh', 'ramesh']"
      ]
     },
     "execution_count": 39,
     "metadata": {},
     "output_type": "execute_result"
    }
   ],
   "source": [
    "names[3:1:-1]"
   ]
  },
  {
   "cell_type": "code",
   "execution_count": null,
   "id": "440d8f50-0e4e-48c9-97a8-106867a0a567",
   "metadata": {},
   "outputs": [],
   "source": [
    "d = ['A','B','C','D','E']\n",
    "--> Write data only from A to D\n",
    "--> Write data from C to E\n",
    "--> Write data A,C,E\n",
    "--> Write list d in reverse order\n",
    "--> Write data from E to B\n",
    "--> Write data from D to B"
   ]
  },
  {
   "cell_type": "code",
   "execution_count": null,
   "id": "576dfd45-ce58-4a97-b6e9-8a4b151dbf28",
   "metadata": {},
   "outputs": [],
   "source": []
  }
 ],
 "metadata": {
  "kernelspec": {
   "display_name": "Python 3 (ipykernel)",
   "language": "python",
   "name": "python3"
  },
  "language_info": {
   "codemirror_mode": {
    "name": "ipython",
    "version": 3
   },
   "file_extension": ".py",
   "mimetype": "text/x-python",
   "name": "python",
   "nbconvert_exporter": "python",
   "pygments_lexer": "ipython3",
   "version": "3.12.4"
  }
 },
 "nbformat": 4,
 "nbformat_minor": 5
}
