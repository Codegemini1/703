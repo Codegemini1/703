{
 "cells": [
  {
   "cell_type": "code",
   "execution_count": 1,
   "id": "58592302-c94f-4686-911a-dae489ebe857",
   "metadata": {},
   "outputs": [],
   "source": [
    "import logging"
   ]
  },
  {
   "cell_type": "code",
   "execution_count": 2,
   "id": "be286c1c-ee4f-464a-9636-0b8952ba3ffa",
   "metadata": {},
   "outputs": [],
   "source": [
    "logging.basicConfig(filename ='functions_logs.log' , level = logging.DEBUG, format = '%(asctime)s %(levelname)s %(message)s')"
   ]
  },
  {
   "cell_type": "code",
   "execution_count": 9,
   "id": "81c88b46-1d49-4908-90a9-4d57f3326499",
   "metadata": {},
   "outputs": [],
   "source": [
    "def addition(a,b):\n",
    "    logging.info('I have entered into addition function')\n",
    "    try:\n",
    "        total = a + b\n",
    "        logging.info(f'Function completed addition of {a} and {b} is {total}')\n",
    "        return total\n",
    "    except Exception as e:\n",
    "        logging.error('Error happened at addition function. Check below line for getting error type')\n",
    "        logging.error(e)"
   ]
  },
  {
   "cell_type": "code",
   "execution_count": 10,
   "id": "db46735f-224d-4335-a27e-7d24ca8044fc",
   "metadata": {},
   "outputs": [
    {
     "data": {
      "text/plain": [
       "6"
      ]
     },
     "execution_count": 10,
     "metadata": {},
     "output_type": "execute_result"
    }
   ],
   "source": [
    "addition(1,5)"
   ]
  },
  {
   "cell_type": "code",
   "execution_count": 11,
   "id": "1de9394a-07fd-4eb7-97ee-5514d1a63082",
   "metadata": {},
   "outputs": [
    {
     "data": {
      "text/plain": [
       "15"
      ]
     },
     "execution_count": 11,
     "metadata": {},
     "output_type": "execute_result"
    }
   ],
   "source": [
    "addition(10,5)"
   ]
  },
  {
   "cell_type": "code",
   "execution_count": 12,
   "id": "bf364c7d-310b-45b5-a9d1-dcbf8b608860",
   "metadata": {},
   "outputs": [],
   "source": [
    "addition(5, 'Hello')"
   ]
  },
  {
   "cell_type": "code",
   "execution_count": 13,
   "id": "58ebe3b7-7160-4a6b-9a9d-0308fd04408b",
   "metadata": {},
   "outputs": [],
   "source": [
    "addition('Hello', 100)"
   ]
  },
  {
   "cell_type": "code",
   "execution_count": 14,
   "id": "355ae26a-34b0-409f-b382-ab3a75dd03d0",
   "metadata": {},
   "outputs": [],
   "source": [
    "# Write 5 functions by using logging"
   ]
  },
  {
   "cell_type": "raw",
   "id": "bfe817f1-fe5e-4ee8-bd53-1b5d9140ce39",
   "metadata": {},
   "source": [
    "Basic Python +\n",
    "File Handling\n",
    "What is file handling ?\n",
    "How to create new file and in which mode ?\n",
    "How to read existing file ?\n",
    "How to read sentences one by one ?\n",
    "Modules & Packages\n",
    "What is modules & Packages ?\n",
    "How to use Module or Package?\n",
    "Exception Handling\n",
    "What is Exception Handling ?\n",
    "Why exception handling is used for ?\n",
    "Logging\n",
    "What is logging ?\n",
    "How Logging is used in projects."
   ]
  },
  {
   "cell_type": "code",
   "execution_count": null,
   "id": "82abc89a-b488-4ad0-a98c-41da4633edd4",
   "metadata": {},
   "outputs": [],
   "source": []
  }
 ],
 "metadata": {
  "kernelspec": {
   "display_name": "Python 3 (ipykernel)",
   "language": "python",
   "name": "python3"
  },
  "language_info": {
   "codemirror_mode": {
    "name": "ipython",
    "version": 3
   },
   "file_extension": ".py",
   "mimetype": "text/x-python",
   "name": "python",
   "nbconvert_exporter": "python",
   "pygments_lexer": "ipython3",
   "version": "3.12.4"
  }
 },
 "nbformat": 4,
 "nbformat_minor": 5
}
