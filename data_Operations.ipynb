{
 "cells": [
  {
   "cell_type": "code",
   "execution_count": 1,
   "id": "a45efca3-053e-4b81-aee6-e9929bbf2cbb",
   "metadata": {},
   "outputs": [],
   "source": [
    "name = 'Vaibhav'"
   ]
  },
  {
   "cell_type": "code",
   "execution_count": 2,
   "id": "d1111450-0256-4785-a80d-cc8a04f2fbd0",
   "metadata": {},
   "outputs": [],
   "source": [
    "sentence = \"Today we are going to learn Operations in python\""
   ]
  },
  {
   "cell_type": "code",
   "execution_count": 3,
   "id": "6615ed18-344e-456d-8295-7491373b4ff6",
   "metadata": {},
   "outputs": [
    {
     "ename": "SyntaxError",
     "evalue": "unterminated string literal (detected at line 1) (1305035348.py, line 1)",
     "output_type": "error",
     "traceback": [
      "\u001b[1;36m  Cell \u001b[1;32mIn[3], line 1\u001b[1;36m\u001b[0m\n\u001b[1;33m    sentence2 = \"This is my line no1.\u001b[0m\n\u001b[1;37m                ^\u001b[0m\n\u001b[1;31mSyntaxError\u001b[0m\u001b[1;31m:\u001b[0m unterminated string literal (detected at line 1)\n"
     ]
    }
   ],
   "source": [
    "sentence2 = \"This is my line no1.\n",
    "This is my line no 2.\n",
    "This is my loine no 3\""
   ]
  },
  {
   "cell_type": "code",
   "execution_count": 4,
   "id": "a21ae970-722c-4077-b2fe-e5aa323f177c",
   "metadata": {},
   "outputs": [],
   "source": [
    "sentence2 = '''This is my line no1.\n",
    "This is my line no 2.\n",
    "This is my loine no 3'''"
   ]
  },
  {
   "cell_type": "code",
   "execution_count": 5,
   "id": "ace9ab57-b09b-41aa-8cfe-4ef71e4bf287",
   "metadata": {},
   "outputs": [],
   "source": [
    "# How you will write down single sentence ?\n",
    "# How you will write down Multiple sentence ?"
   ]
  },
  {
   "cell_type": "markdown",
   "id": "471adbee-01e9-4c38-8eff-ffb6afbaf1da",
   "metadata": {},
   "source": [
    "# Operations"
   ]
  },
  {
   "cell_type": "code",
   "execution_count": 7,
   "id": "5820fdc0-e1d6-4375-9748-620f0fe42817",
   "metadata": {},
   "outputs": [
    {
     "data": {
      "text/plain": [
       "15"
      ]
     },
     "execution_count": 7,
     "metadata": {},
     "output_type": "execute_result"
    }
   ],
   "source": [
    "10 + 5 # Adding 10 with 5"
   ]
  },
  {
   "cell_type": "code",
   "execution_count": 8,
   "id": "55334fd7-c04e-4080-8b95-ea20a7544673",
   "metadata": {},
   "outputs": [
    {
     "data": {
      "text/plain": [
       "15"
      ]
     },
     "execution_count": 8,
     "metadata": {},
     "output_type": "execute_result"
    }
   ],
   "source": [
    "10 + 5 #int + int"
   ]
  },
  {
   "cell_type": "code",
   "execution_count": 9,
   "id": "2a26774e-c73c-436b-95a2-8cc3a87574dd",
   "metadata": {},
   "outputs": [
    {
     "data": {
      "text/plain": [
       "int"
      ]
     },
     "execution_count": 9,
     "metadata": {},
     "output_type": "execute_result"
    }
   ],
   "source": [
    "type(10)"
   ]
  },
  {
   "cell_type": "code",
   "execution_count": 10,
   "id": "1e7c085b-5055-4b30-a352-a3518fb1a5ea",
   "metadata": {},
   "outputs": [
    {
     "data": {
      "text/plain": [
       "11.1"
      ]
     },
     "execution_count": 10,
     "metadata": {},
     "output_type": "execute_result"
    }
   ],
   "source": [
    "10 + 1.1"
   ]
  },
  {
   "cell_type": "code",
   "execution_count": 11,
   "id": "d3d28913-414f-40cb-9f81-9d0744866302",
   "metadata": {},
   "outputs": [
    {
     "ename": "TypeError",
     "evalue": "unsupported operand type(s) for +: 'int' and 'str'",
     "output_type": "error",
     "traceback": [
      "\u001b[1;31m---------------------------------------------------------------------------\u001b[0m",
      "\u001b[1;31mTypeError\u001b[0m                                 Traceback (most recent call last)",
      "Cell \u001b[1;32mIn[11], line 1\u001b[0m\n\u001b[1;32m----> 1\u001b[0m \u001b[38;5;241m5\u001b[39m \u001b[38;5;241m+\u001b[39m \u001b[38;5;124m'\u001b[39m\u001b[38;5;124mHello\u001b[39m\u001b[38;5;124m'\u001b[39m\n",
      "\u001b[1;31mTypeError\u001b[0m: unsupported operand type(s) for +: 'int' and 'str'"
     ]
    }
   ],
   "source": [
    "5 + 'Hello' #Int + str"
   ]
  },
  {
   "cell_type": "code",
   "execution_count": 12,
   "id": "5e81178a-46c0-4663-a9fa-a3380d84256a",
   "metadata": {},
   "outputs": [],
   "source": [
    "# Can we perform addition operation with int and str data ?"
   ]
  },
  {
   "cell_type": "code",
   "execution_count": 13,
   "id": "6b81468b-295d-45e7-a74a-8580a6a0b5d8",
   "metadata": {},
   "outputs": [
    {
     "data": {
      "text/plain": [
       "'HelloPython'"
      ]
     },
     "execution_count": 13,
     "metadata": {},
     "output_type": "execute_result"
    }
   ],
   "source": [
    "\"Hello\" + \"Python\" #str + str"
   ]
  },
  {
   "cell_type": "code",
   "execution_count": 14,
   "id": "8c16088d-21b5-4a29-b481-6d8155391f25",
   "metadata": {},
   "outputs": [
    {
     "data": {
      "text/plain": [
       "'Hello Python'"
      ]
     },
     "execution_count": 14,
     "metadata": {},
     "output_type": "execute_result"
    }
   ],
   "source": [
    "\"Hello\" + \" \" + \"Python\""
   ]
  },
  {
   "cell_type": "code",
   "execution_count": 15,
   "id": "1c9e8670-8466-47c7-8401-1fe8fd7ce815",
   "metadata": {},
   "outputs": [
    {
     "data": {
      "text/plain": [
       "'Hello Python'"
      ]
     },
     "execution_count": 15,
     "metadata": {},
     "output_type": "execute_result"
    }
   ],
   "source": [
    "\"Hello \" + \"Python\" "
   ]
  },
  {
   "cell_type": "code",
   "execution_count": 16,
   "id": "f420d4cb-3e52-439d-ae91-c0a9e4d0dcb7",
   "metadata": {},
   "outputs": [
    {
     "data": {
      "text/plain": [
       "'Hello Python'"
      ]
     },
     "execution_count": 16,
     "metadata": {},
     "output_type": "execute_result"
    }
   ],
   "source": [
    "\"Hello\" + \" Python\" "
   ]
  },
  {
   "cell_type": "code",
   "execution_count": 17,
   "id": "ebe6c623-baa0-4f29-8e4c-1539dd518be4",
   "metadata": {},
   "outputs": [
    {
     "data": {
      "text/plain": [
       "2"
      ]
     },
     "execution_count": 17,
     "metadata": {},
     "output_type": "execute_result"
    }
   ],
   "source": [
    "True + True # Boolean + Boolean"
   ]
  },
  {
   "cell_type": "code",
   "execution_count": 18,
   "id": "92a269e5-e498-40df-95fd-51bcdc91f873",
   "metadata": {},
   "outputs": [
    {
     "data": {
      "text/plain": [
       "1"
      ]
     },
     "execution_count": 18,
     "metadata": {},
     "output_type": "execute_result"
    }
   ],
   "source": [
    "True + False"
   ]
  },
  {
   "cell_type": "code",
   "execution_count": 19,
   "id": "3fd94322-8dba-4b32-8922-32c5c84f95ed",
   "metadata": {},
   "outputs": [
    {
     "data": {
      "text/plain": [
       "0"
      ]
     },
     "execution_count": 19,
     "metadata": {},
     "output_type": "execute_result"
    }
   ],
   "source": [
    "False + False"
   ]
  },
  {
   "cell_type": "code",
   "execution_count": 20,
   "id": "896c81fb-0b99-4d2d-b1c7-b51d2265225f",
   "metadata": {},
   "outputs": [],
   "source": [
    "first_name = 'Vaibhav'"
   ]
  },
  {
   "cell_type": "code",
   "execution_count": 21,
   "id": "b8e3eec5-0c52-4be8-8543-5e107bb468e9",
   "metadata": {},
   "outputs": [],
   "source": [
    "last_name = 'Bhosale'"
   ]
  },
  {
   "cell_type": "code",
   "execution_count": 22,
   "id": "1c34a25f-09d1-4270-9586-425ee33e189c",
   "metadata": {},
   "outputs": [
    {
     "data": {
      "text/plain": [
       "'Vaibhav'"
      ]
     },
     "execution_count": 22,
     "metadata": {},
     "output_type": "execute_result"
    }
   ],
   "source": [
    "first_name"
   ]
  },
  {
   "cell_type": "code",
   "execution_count": 23,
   "id": "a23ba210-4827-4096-8d1e-1bfe00824973",
   "metadata": {},
   "outputs": [
    {
     "data": {
      "text/plain": [
       "'Bhosale'"
      ]
     },
     "execution_count": 23,
     "metadata": {},
     "output_type": "execute_result"
    }
   ],
   "source": [
    "last_name"
   ]
  },
  {
   "cell_type": "code",
   "execution_count": 24,
   "id": "188304c0-137e-4658-b81b-3d631b27d433",
   "metadata": {},
   "outputs": [
    {
     "data": {
      "text/plain": [
       "'VaibhavBhosale'"
      ]
     },
     "execution_count": 24,
     "metadata": {},
     "output_type": "execute_result"
    }
   ],
   "source": [
    "first_name + last_name"
   ]
  },
  {
   "cell_type": "code",
   "execution_count": 25,
   "id": "48aed6af-f117-4ab0-9ae5-11335c027c0b",
   "metadata": {},
   "outputs": [],
   "source": [
    "full_name = first_name + last_name"
   ]
  },
  {
   "cell_type": "code",
   "execution_count": 26,
   "id": "ebfe6dba-f0db-4033-a03e-07deb7759e03",
   "metadata": {},
   "outputs": [
    {
     "data": {
      "text/plain": [
       "'VaibhavBhosale'"
      ]
     },
     "execution_count": 26,
     "metadata": {},
     "output_type": "execute_result"
    }
   ],
   "source": [
    "full_name"
   ]
  },
  {
   "cell_type": "code",
   "execution_count": 27,
   "id": "659c955c-e98b-47ec-ad2f-b210cc40c316",
   "metadata": {},
   "outputs": [],
   "source": [
    "a = 5"
   ]
  },
  {
   "cell_type": "code",
   "execution_count": 28,
   "id": "4bddf900-20d6-45e0-bcaa-3f632d2a10b4",
   "metadata": {},
   "outputs": [],
   "source": [
    "b = 10"
   ]
  },
  {
   "cell_type": "code",
   "execution_count": 29,
   "id": "1ecb9eaa-22fa-4864-9f02-0a52e2314a25",
   "metadata": {},
   "outputs": [],
   "source": [
    "c = a + b"
   ]
  },
  {
   "cell_type": "code",
   "execution_count": 30,
   "id": "475eeb83-bcc7-4bc8-8e4b-2b0854f740df",
   "metadata": {},
   "outputs": [
    {
     "data": {
      "text/plain": [
       "15"
      ]
     },
     "execution_count": 30,
     "metadata": {},
     "output_type": "execute_result"
    }
   ],
   "source": [
    "c"
   ]
  },
  {
   "cell_type": "code",
   "execution_count": 31,
   "id": "f81b46d4-93d1-43a6-b295-fe7eb9119579",
   "metadata": {},
   "outputs": [],
   "source": [
    "d = a * b"
   ]
  },
  {
   "cell_type": "code",
   "execution_count": 32,
   "id": "9a8441ce-8c3e-4551-970c-317312089f4c",
   "metadata": {},
   "outputs": [
    {
     "data": {
      "text/plain": [
       "50"
      ]
     },
     "execution_count": 32,
     "metadata": {},
     "output_type": "execute_result"
    }
   ],
   "source": [
    "d"
   ]
  },
  {
   "cell_type": "code",
   "execution_count": 33,
   "id": "acdbe958-c1c6-437e-a7f2-ab66a13fe12e",
   "metadata": {},
   "outputs": [
    {
     "data": {
      "text/plain": [
       "0.5"
      ]
     },
     "execution_count": 33,
     "metadata": {},
     "output_type": "execute_result"
    }
   ],
   "source": [
    "a / b"
   ]
  },
  {
   "cell_type": "code",
   "execution_count": 34,
   "id": "8ce25d9d-e474-4611-ad99-71faf493c41c",
   "metadata": {},
   "outputs": [],
   "source": [
    "# Input "
   ]
  },
  {
   "cell_type": "code",
   "execution_count": 35,
   "id": "7ba83904-22a1-40ad-b291-443376373701",
   "metadata": {},
   "outputs": [],
   "source": [
    "name = 'Vaibhav'"
   ]
  },
  {
   "cell_type": "code",
   "execution_count": 36,
   "id": "b8926fb2-d0f2-4a8a-90a3-9818ff4ecce9",
   "metadata": {},
   "outputs": [
    {
     "data": {
      "text/plain": [
       "'Vaibhav'"
      ]
     },
     "execution_count": 36,
     "metadata": {},
     "output_type": "execute_result"
    }
   ],
   "source": [
    "name"
   ]
  },
  {
   "cell_type": "code",
   "execution_count": 37,
   "id": "745ae569-640b-4ce6-860a-e6d71a815839",
   "metadata": {},
   "outputs": [
    {
     "name": "stdin",
     "output_type": "stream",
     "text": [
      "Write your first name Rahul\n"
     ]
    }
   ],
   "source": [
    "name = input(\"Write your first name\")"
   ]
  },
  {
   "cell_type": "code",
   "execution_count": 38,
   "id": "e317648f-c38e-4f27-ab4d-ee22de9c1071",
   "metadata": {},
   "outputs": [
    {
     "data": {
      "text/plain": [
       "'Rahul'"
      ]
     },
     "execution_count": 38,
     "metadata": {},
     "output_type": "execute_result"
    }
   ],
   "source": [
    "name"
   ]
  },
  {
   "cell_type": "code",
   "execution_count": 39,
   "id": "f244a866-ab9b-4c7f-958e-d7fdf5dff63b",
   "metadata": {},
   "outputs": [
    {
     "name": "stdin",
     "output_type": "stream",
     "text": [
      "Write your last name Dixit\n"
     ]
    }
   ],
   "source": [
    "last_name = input('Write your last name')"
   ]
  },
  {
   "cell_type": "code",
   "execution_count": 40,
   "id": "36911d2c-9fa6-4870-be92-89c9a9fb68a9",
   "metadata": {},
   "outputs": [
    {
     "data": {
      "text/plain": [
       "'Dixit'"
      ]
     },
     "execution_count": 40,
     "metadata": {},
     "output_type": "execute_result"
    }
   ],
   "source": [
    "last_name"
   ]
  },
  {
   "cell_type": "code",
   "execution_count": 41,
   "id": "651e4f0d-9c91-47f8-9662-55f9747a6953",
   "metadata": {},
   "outputs": [
    {
     "data": {
      "text/plain": [
       "'RahulDixit'"
      ]
     },
     "execution_count": 41,
     "metadata": {},
     "output_type": "execute_result"
    }
   ],
   "source": [
    "name + last_name"
   ]
  },
  {
   "cell_type": "code",
   "execution_count": 42,
   "id": "b035eea7-a79f-4c51-bb81-1005d1d7b125",
   "metadata": {},
   "outputs": [
    {
     "name": "stdin",
     "output_type": "stream",
     "text": [
      " 55\n"
     ]
    }
   ],
   "source": [
    "age = input()"
   ]
  },
  {
   "cell_type": "code",
   "execution_count": 43,
   "id": "7e1ed420-c9dc-47fc-abc0-1729d166b388",
   "metadata": {},
   "outputs": [
    {
     "data": {
      "text/plain": [
       "'55'"
      ]
     },
     "execution_count": 43,
     "metadata": {},
     "output_type": "execute_result"
    }
   ],
   "source": [
    "age"
   ]
  },
  {
   "cell_type": "code",
   "execution_count": 45,
   "id": "43d5f565-e920-4e29-874b-2deba8e4732f",
   "metadata": {},
   "outputs": [
    {
     "data": {
      "text/plain": [
       "str"
      ]
     },
     "execution_count": 45,
     "metadata": {},
     "output_type": "execute_result"
    }
   ],
   "source": [
    "type(age)"
   ]
  },
  {
   "cell_type": "code",
   "execution_count": 46,
   "id": "eb2311a2-6d8d-4b11-90d5-41c065bea6e5",
   "metadata": {},
   "outputs": [
    {
     "name": "stdin",
     "output_type": "stream",
     "text": [
      "Enter your age 45\n"
     ]
    }
   ],
   "source": [
    "age = int(input('Enter your age'))"
   ]
  },
  {
   "cell_type": "code",
   "execution_count": 47,
   "id": "e0e1124b-6543-41fb-95b7-b5ca24a81a7b",
   "metadata": {},
   "outputs": [
    {
     "data": {
      "text/plain": [
       "45"
      ]
     },
     "execution_count": 47,
     "metadata": {},
     "output_type": "execute_result"
    }
   ],
   "source": [
    "age"
   ]
  },
  {
   "cell_type": "code",
   "execution_count": 48,
   "id": "363d6178-8267-4806-8404-1b5e387a568f",
   "metadata": {},
   "outputs": [
    {
     "data": {
      "text/plain": [
       "int"
      ]
     },
     "execution_count": 48,
     "metadata": {},
     "output_type": "execute_result"
    }
   ],
   "source": [
    "type(age)"
   ]
  },
  {
   "cell_type": "code",
   "execution_count": 49,
   "id": "87940fcb-107b-48ac-87c4-bdcbd4a331f7",
   "metadata": {},
   "outputs": [
    {
     "name": "stdin",
     "output_type": "stream",
     "text": [
      "Enter your age hjfgvasjydfg\n"
     ]
    },
    {
     "ename": "ValueError",
     "evalue": "invalid literal for int() with base 10: 'hjfgvasjydfg'",
     "output_type": "error",
     "traceback": [
      "\u001b[1;31m---------------------------------------------------------------------------\u001b[0m",
      "\u001b[1;31mValueError\u001b[0m                                Traceback (most recent call last)",
      "Cell \u001b[1;32mIn[49], line 1\u001b[0m\n\u001b[1;32m----> 1\u001b[0m age \u001b[38;5;241m=\u001b[39m \u001b[38;5;28mint\u001b[39m(\u001b[38;5;28minput\u001b[39m(\u001b[38;5;124m'\u001b[39m\u001b[38;5;124mEnter your age\u001b[39m\u001b[38;5;124m'\u001b[39m))\n",
      "\u001b[1;31mValueError\u001b[0m: invalid literal for int() with base 10: 'hjfgvasjydfg'"
     ]
    }
   ],
   "source": [
    "age = int(input('Enter your age'))"
   ]
  },
  {
   "cell_type": "code",
   "execution_count": 50,
   "id": "e476a2d8-871b-4dec-8fc7-d4208d2c8423",
   "metadata": {},
   "outputs": [
    {
     "name": "stdin",
     "output_type": "stream",
     "text": [
      "Enter your age 65\n"
     ]
    }
   ],
   "source": [
    "age = int(input('Enter your age'))"
   ]
  },
  {
   "cell_type": "code",
   "execution_count": 51,
   "id": "d955d130-4037-414d-9989-e73c410f384a",
   "metadata": {},
   "outputs": [],
   "source": [
    "# Typecasting"
   ]
  },
  {
   "cell_type": "code",
   "execution_count": 52,
   "id": "146d3f32-711b-4f25-bd77-be733da39e0c",
   "metadata": {},
   "outputs": [
    {
     "data": {
      "text/plain": [
       "'5'"
      ]
     },
     "execution_count": 52,
     "metadata": {},
     "output_type": "execute_result"
    }
   ],
   "source": [
    "'5'"
   ]
  },
  {
   "cell_type": "code",
   "execution_count": 53,
   "id": "09283c9c-da81-4693-85c3-d19ebe1df624",
   "metadata": {},
   "outputs": [
    {
     "data": {
      "text/plain": [
       "5"
      ]
     },
     "execution_count": 53,
     "metadata": {},
     "output_type": "execute_result"
    }
   ],
   "source": [
    "int('5')"
   ]
  },
  {
   "cell_type": "code",
   "execution_count": 54,
   "id": "0be7c9c6-a053-4dfd-a99b-4236486a3674",
   "metadata": {},
   "outputs": [
    {
     "ename": "ValueError",
     "evalue": "invalid literal for int() with base 10: 'hello'",
     "output_type": "error",
     "traceback": [
      "\u001b[1;31m---------------------------------------------------------------------------\u001b[0m",
      "\u001b[1;31mValueError\u001b[0m                                Traceback (most recent call last)",
      "Cell \u001b[1;32mIn[54], line 1\u001b[0m\n\u001b[1;32m----> 1\u001b[0m \u001b[38;5;28mint\u001b[39m(\u001b[38;5;124m'\u001b[39m\u001b[38;5;124mhello\u001b[39m\u001b[38;5;124m'\u001b[39m)\n",
      "\u001b[1;31mValueError\u001b[0m: invalid literal for int() with base 10: 'hello'"
     ]
    }
   ],
   "source": [
    "int('hello')"
   ]
  },
  {
   "cell_type": "code",
   "execution_count": 55,
   "id": "342ed421-766e-484a-baed-d8363df9c9af",
   "metadata": {},
   "outputs": [
    {
     "data": {
      "text/plain": [
       "67"
      ]
     },
     "execution_count": 55,
     "metadata": {},
     "output_type": "execute_result"
    }
   ],
   "source": [
    "int('67')"
   ]
  },
  {
   "cell_type": "code",
   "execution_count": null,
   "id": "c001c91f-cebb-4cc7-a9cf-b23a62cbd172",
   "metadata": {},
   "outputs": [],
   "source": []
  }
 ],
 "metadata": {
  "kernelspec": {
   "display_name": "Python 3 (ipykernel)",
   "language": "python",
   "name": "python3"
  },
  "language_info": {
   "codemirror_mode": {
    "name": "ipython",
    "version": 3
   },
   "file_extension": ".py",
   "mimetype": "text/x-python",
   "name": "python",
   "nbconvert_exporter": "python",
   "pygments_lexer": "ipython3",
   "version": "3.12.4"
  }
 },
 "nbformat": 4,
 "nbformat_minor": 5
}
