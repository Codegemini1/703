{
 "cells": [
  {
   "cell_type": "markdown",
   "id": "0a5101da-1711-4f4d-ace2-ec993f9409dd",
   "metadata": {},
   "source": [
    "# List "
   ]
  },
  {
   "cell_type": "markdown",
   "id": "fd878701-26c3-4e46-8b72-fa9f95184344",
   "metadata": {},
   "source": [
    "List is written in square bracket [ ]"
   ]
  },
  {
   "cell_type": "code",
   "execution_count": 1,
   "id": "82927053-64c2-433e-9ba1-e9536495246e",
   "metadata": {},
   "outputs": [],
   "source": [
    "numbers = [1,2,3,4,5]"
   ]
  },
  {
   "cell_type": "code",
   "execution_count": 2,
   "id": "a6abb308-5dbc-43af-acac-653a306df13e",
   "metadata": {},
   "outputs": [
    {
     "data": {
      "text/plain": [
       "[1, 2, 3, 4, 5]"
      ]
     },
     "execution_count": 2,
     "metadata": {},
     "output_type": "execute_result"
    }
   ],
   "source": [
    "numbers"
   ]
  },
  {
   "cell_type": "code",
   "execution_count": 3,
   "id": "5634a0df-7b5c-47dc-b6ac-aa16efefbee3",
   "metadata": {},
   "outputs": [
    {
     "data": {
      "text/plain": [
       "list"
      ]
     },
     "execution_count": 3,
     "metadata": {},
     "output_type": "execute_result"
    }
   ],
   "source": [
    "type(numbers)"
   ]
  },
  {
   "cell_type": "code",
   "execution_count": 4,
   "id": "26d72e0a-169c-4844-aff6-3e2b4236e135",
   "metadata": {},
   "outputs": [],
   "source": [
    "names = ['Om','Sham','ramesh','suresh']"
   ]
  },
  {
   "cell_type": "code",
   "execution_count": 5,
   "id": "cdea356e-4ec4-482a-a1cc-3d7e2df0e27a",
   "metadata": {},
   "outputs": [
    {
     "data": {
      "text/plain": [
       "['Om', 'Sham', 'ramesh', 'suresh']"
      ]
     },
     "execution_count": 5,
     "metadata": {},
     "output_type": "execute_result"
    }
   ],
   "source": [
    "names"
   ]
  },
  {
   "cell_type": "code",
   "execution_count": 6,
   "id": "261558ec-deca-44ed-bfcc-3f720f4e8067",
   "metadata": {},
   "outputs": [],
   "source": [
    "mix_data = [1,10.5,10+5j,'Hello', True]"
   ]
  },
  {
   "cell_type": "code",
   "execution_count": 7,
   "id": "da602021-5115-48a2-befe-b1a5775db3e3",
   "metadata": {},
   "outputs": [
    {
     "data": {
      "text/plain": [
       "[1, 10.5, (10+5j), 'Hello', True]"
      ]
     },
     "execution_count": 7,
     "metadata": {},
     "output_type": "execute_result"
    }
   ],
   "source": [
    "mix_data"
   ]
  },
  {
   "cell_type": "code",
   "execution_count": 8,
   "id": "428f9d3e-8e5c-485a-8de9-95ec592ef58f",
   "metadata": {},
   "outputs": [],
   "source": [
    "# INDEXING"
   ]
  },
  {
   "cell_type": "code",
   "execution_count": 9,
   "id": "b34ea7dd-0e14-4cc5-8d73-1f972676b36e",
   "metadata": {},
   "outputs": [
    {
     "data": {
      "text/plain": [
       "[1, 2, 3, 4, 5]"
      ]
     },
     "execution_count": 9,
     "metadata": {},
     "output_type": "execute_result"
    }
   ],
   "source": [
    "numbers"
   ]
  },
  {
   "cell_type": "code",
   "execution_count": 10,
   "id": "74acf883-a145-4c45-8377-ea652eda26df",
   "metadata": {},
   "outputs": [
    {
     "data": {
      "text/plain": [
       "3"
      ]
     },
     "execution_count": 10,
     "metadata": {},
     "output_type": "execute_result"
    }
   ],
   "source": [
    "numbers[2]"
   ]
  },
  {
   "cell_type": "code",
   "execution_count": 12,
   "id": "769a2a64-2f7d-4027-9416-95ddb810b694",
   "metadata": {},
   "outputs": [
    {
     "data": {
      "text/plain": [
       "['Om', 'Sham', 'ramesh', 'suresh']"
      ]
     },
     "execution_count": 12,
     "metadata": {},
     "output_type": "execute_result"
    }
   ],
   "source": [
    "names"
   ]
  },
  {
   "cell_type": "code",
   "execution_count": 13,
   "id": "cdbb0dcb-5012-4dc5-9465-428597808614",
   "metadata": {},
   "outputs": [
    {
     "data": {
      "text/plain": [
       "'ramesh'"
      ]
     },
     "execution_count": 13,
     "metadata": {},
     "output_type": "execute_result"
    }
   ],
   "source": [
    "names[2]"
   ]
  },
  {
   "cell_type": "code",
   "execution_count": 14,
   "id": "34b92017-cc5f-48ef-9cfe-aad8b7865661",
   "metadata": {},
   "outputs": [
    {
     "data": {
      "text/plain": [
       "'suresh'"
      ]
     },
     "execution_count": 14,
     "metadata": {},
     "output_type": "execute_result"
    }
   ],
   "source": [
    "names[3]"
   ]
  },
  {
   "cell_type": "code",
   "execution_count": 15,
   "id": "d4393078-f96b-4771-891c-fcf41dc3e2ee",
   "metadata": {},
   "outputs": [
    {
     "data": {
      "text/plain": [
       "'Om'"
      ]
     },
     "execution_count": 15,
     "metadata": {},
     "output_type": "execute_result"
    }
   ],
   "source": [
    "names[0]"
   ]
  },
  {
   "cell_type": "code",
   "execution_count": 16,
   "id": "57fadefa-eb3f-46f7-a154-1d8b29eca05e",
   "metadata": {},
   "outputs": [
    {
     "data": {
      "text/plain": [
       "'Sham'"
      ]
     },
     "execution_count": 16,
     "metadata": {},
     "output_type": "execute_result"
    }
   ],
   "source": [
    "names[1]"
   ]
  },
  {
   "cell_type": "code",
   "execution_count": 17,
   "id": "beb30a21-1da4-4692-aef9-ae76bf52d958",
   "metadata": {},
   "outputs": [
    {
     "data": {
      "text/plain": [
       "[1, 10.5, (10+5j), 'Hello', True]"
      ]
     },
     "execution_count": 17,
     "metadata": {},
     "output_type": "execute_result"
    }
   ],
   "source": [
    "mix_data"
   ]
  },
  {
   "cell_type": "code",
   "execution_count": 18,
   "id": "a3bae31f-19f6-4a2d-9bae-69633e55feeb",
   "metadata": {},
   "outputs": [
    {
     "data": {
      "text/plain": [
       "'Hello'"
      ]
     },
     "execution_count": 18,
     "metadata": {},
     "output_type": "execute_result"
    }
   ],
   "source": [
    "mix_data[3]"
   ]
  },
  {
   "cell_type": "code",
   "execution_count": 19,
   "id": "d92d6c7e-ac7f-49b1-8f0c-9f93fdb7074b",
   "metadata": {},
   "outputs": [
    {
     "data": {
      "text/plain": [
       "10.5"
      ]
     },
     "execution_count": 19,
     "metadata": {},
     "output_type": "execute_result"
    }
   ],
   "source": [
    "mix_data[1]"
   ]
  },
  {
   "cell_type": "code",
   "execution_count": null,
   "id": "43e849ad-dbec-4c0a-8597-151be3675152",
   "metadata": {},
   "outputs": [],
   "source": []
  }
 ],
 "metadata": {
  "kernelspec": {
   "display_name": "Python 3 (ipykernel)",
   "language": "python",
   "name": "python3"
  },
  "language_info": {
   "codemirror_mode": {
    "name": "ipython",
    "version": 3
   },
   "file_extension": ".py",
   "mimetype": "text/x-python",
   "name": "python",
   "nbconvert_exporter": "python",
   "pygments_lexer": "ipython3",
   "version": "3.12.4"
  }
 },
 "nbformat": 4,
 "nbformat_minor": 5
}
