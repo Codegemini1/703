{
 "cells": [
  {
   "cell_type": "code",
   "execution_count": 1,
   "id": "6f4b44f3-2bc5-4fec-a7be-e7853132f40b",
   "metadata": {},
   "outputs": [
    {
     "name": "stdout",
     "output_type": "stream",
     "text": [
      " Volume in drive C has no label.\n",
      " Volume Serial Number is B294-EB73\n",
      "\n",
      " Directory of C:\\Users\\Admin\\Downloads\\703\\Python\\file_handling\n",
      "\n",
      "12/16/2024  06:19 PM    <DIR>          .\n",
      "12/16/2024  06:19 PM    <DIR>          ..\n",
      "12/16/2024  06:19 PM    <DIR>          .ipynb_checkpoints\n",
      "12/16/2024  06:18 PM                72 file_handling_1.ipynb\n",
      "12/16/2024  06:12 PM                28 my_file.txt\n",
      "               2 File(s)            100 bytes\n",
      "               3 Dir(s)   8,093,093,888 bytes free\n"
     ]
    }
   ],
   "source": [
    "ls"
   ]
  },
  {
   "cell_type": "markdown",
   "id": "96167010-699b-4d58-a7b7-90272455b7f1",
   "metadata": {},
   "source": [
    "# creating file"
   ]
  },
  {
   "cell_type": "code",
   "execution_count": 2,
   "id": "1709b263-462e-44eb-979a-3a0f50219669",
   "metadata": {},
   "outputs": [],
   "source": [
    "f = open('example.txt', mode = 'w')"
   ]
  },
  {
   "cell_type": "code",
   "execution_count": 3,
   "id": "83a88cdf-779d-4e60-b25c-96ddab619c91",
   "metadata": {},
   "outputs": [
    {
     "data": {
      "text/plain": [
       "21"
      ]
     },
     "execution_count": 3,
     "metadata": {},
     "output_type": "execute_result"
    }
   ],
   "source": [
    "f.write('This is example file.')"
   ]
  },
  {
   "cell_type": "code",
   "execution_count": 4,
   "id": "e083b95e-145c-49c5-b508-7d42042c133a",
   "metadata": {},
   "outputs": [],
   "source": [
    "f.close()"
   ]
  },
  {
   "cell_type": "code",
   "execution_count": 5,
   "id": "ec319693-9697-4a3a-93ec-4e8505ffd910",
   "metadata": {},
   "outputs": [],
   "source": [
    "f = open('example.txt', mode = 'r')"
   ]
  },
  {
   "cell_type": "code",
   "execution_count": 6,
   "id": "6a44472c-ec98-4b49-bf97-55ac25c07755",
   "metadata": {},
   "outputs": [
    {
     "data": {
      "text/plain": [
       "'This is example file.'"
      ]
     },
     "execution_count": 6,
     "metadata": {},
     "output_type": "execute_result"
    }
   ],
   "source": [
    "f.read()"
   ]
  },
  {
   "cell_type": "code",
   "execution_count": 7,
   "id": "79b30795-580d-472e-a548-e49b1e61ed55",
   "metadata": {},
   "outputs": [
    {
     "ename": "UnsupportedOperation",
     "evalue": "not writable",
     "output_type": "error",
     "traceback": [
      "\u001b[1;31m---------------------------------------------------------------------------\u001b[0m",
      "\u001b[1;31mUnsupportedOperation\u001b[0m                      Traceback (most recent call last)",
      "Cell \u001b[1;32mIn[7], line 1\u001b[0m\n\u001b[1;32m----> 1\u001b[0m f\u001b[38;5;241m.\u001b[39mwrite(\u001b[38;5;124m'\u001b[39m\u001b[38;5;124mHello\u001b[39m\u001b[38;5;124m'\u001b[39m)\n",
      "\u001b[1;31mUnsupportedOperation\u001b[0m: not writable"
     ]
    }
   ],
   "source": [
    "f.write('Hello')"
   ]
  },
  {
   "cell_type": "code",
   "execution_count": 8,
   "id": "efe765be-855d-40f2-9e3c-4e2286b0658b",
   "metadata": {},
   "outputs": [],
   "source": [
    "f.close()"
   ]
  },
  {
   "cell_type": "code",
   "execution_count": 9,
   "id": "4d205622-af13-4cd7-b3e4-653d47208b4b",
   "metadata": {},
   "outputs": [],
   "source": [
    "o = open('hello_python.txt', mode = 'w')"
   ]
  },
  {
   "cell_type": "code",
   "execution_count": 10,
   "id": "baac2678-6082-4bf6-9ae3-575ce2157fc1",
   "metadata": {},
   "outputs": [
    {
     "data": {
      "text/plain": [
       "26"
      ]
     },
     "execution_count": 10,
     "metadata": {},
     "output_type": "execute_result"
    }
   ],
   "source": [
    "o.write('This is hello_python file.')"
   ]
  },
  {
   "cell_type": "code",
   "execution_count": 11,
   "id": "5e37f2b0-908f-44f2-88ab-b0bb53b64979",
   "metadata": {},
   "outputs": [],
   "source": [
    "o.close()"
   ]
  },
  {
   "cell_type": "code",
   "execution_count": 12,
   "id": "e01e589a-39f3-4337-b99b-9238ccb13834",
   "metadata": {},
   "outputs": [],
   "source": [
    "o = open('hello_python.txt', mode = 'r+')"
   ]
  },
  {
   "cell_type": "code",
   "execution_count": 13,
   "id": "867ee39a-98d3-4020-9365-a2db355d8619",
   "metadata": {},
   "outputs": [
    {
     "data": {
      "text/plain": [
       "'This is hello_python file.'"
      ]
     },
     "execution_count": 13,
     "metadata": {},
     "output_type": "execute_result"
    }
   ],
   "source": [
    "o.read()"
   ]
  },
  {
   "cell_type": "code",
   "execution_count": 14,
   "id": "254de762-ba28-46a9-988e-8da741072b8f",
   "metadata": {},
   "outputs": [
    {
     "data": {
      "text/plain": [
       "27"
      ]
     },
     "execution_count": 14,
     "metadata": {},
     "output_type": "execute_result"
    }
   ],
   "source": [
    "o.write('This is my second sentence.')"
   ]
  },
  {
   "cell_type": "code",
   "execution_count": 15,
   "id": "1f2b4b14-77dd-4fa1-9609-84afd6f92b77",
   "metadata": {},
   "outputs": [
    {
     "data": {
      "text/plain": [
       "''"
      ]
     },
     "execution_count": 15,
     "metadata": {},
     "output_type": "execute_result"
    }
   ],
   "source": [
    "o.read()"
   ]
  },
  {
   "cell_type": "code",
   "execution_count": 16,
   "id": "08a73246-fcbe-4b6f-910f-c161ea7d4e97",
   "metadata": {},
   "outputs": [
    {
     "data": {
      "text/plain": [
       "0"
      ]
     },
     "execution_count": 16,
     "metadata": {},
     "output_type": "execute_result"
    }
   ],
   "source": [
    "o.seek(0)"
   ]
  },
  {
   "cell_type": "code",
   "execution_count": 17,
   "id": "615e4e86-43c3-4f2d-a00b-299ded4bf84a",
   "metadata": {},
   "outputs": [
    {
     "data": {
      "text/plain": [
       "'This is hello_python file.This is my second sentence.'"
      ]
     },
     "execution_count": 17,
     "metadata": {},
     "output_type": "execute_result"
    }
   ],
   "source": [
    "o.read()"
   ]
  },
  {
   "cell_type": "code",
   "execution_count": 18,
   "id": "731abf56-6a16-4bb1-a9ec-5c7d421a3c78",
   "metadata": {},
   "outputs": [
    {
     "data": {
      "text/plain": [
       "''"
      ]
     },
     "execution_count": 18,
     "metadata": {},
     "output_type": "execute_result"
    }
   ],
   "source": [
    "o.read()"
   ]
  },
  {
   "cell_type": "code",
   "execution_count": 19,
   "id": "b205607b-49a1-437c-8f2d-49108d580bd8",
   "metadata": {},
   "outputs": [
    {
     "data": {
      "text/plain": [
       "0"
      ]
     },
     "execution_count": 19,
     "metadata": {},
     "output_type": "execute_result"
    }
   ],
   "source": [
    "o.seek(0)"
   ]
  },
  {
   "cell_type": "code",
   "execution_count": 20,
   "id": "c2c35976-56fe-45b6-af01-a01b80e64256",
   "metadata": {},
   "outputs": [
    {
     "data": {
      "text/plain": [
       "'This is hello_python file.This is my second sentence.'"
      ]
     },
     "execution_count": 20,
     "metadata": {},
     "output_type": "execute_result"
    }
   ],
   "source": [
    "o.read()"
   ]
  },
  {
   "cell_type": "code",
   "execution_count": 21,
   "id": "536ac0f2-5cf3-4b65-9b3b-73400be8ce0e",
   "metadata": {},
   "outputs": [
    {
     "data": {
      "text/plain": [
       "5"
      ]
     },
     "execution_count": 21,
     "metadata": {},
     "output_type": "execute_result"
    }
   ],
   "source": [
    "o.seek(5)"
   ]
  },
  {
   "cell_type": "code",
   "execution_count": 22,
   "id": "2f88df85-0944-46f2-a0a8-d0f10141c8bb",
   "metadata": {},
   "outputs": [
    {
     "data": {
      "text/plain": [
       "'is hello_python file.This is my second sentence.'"
      ]
     },
     "execution_count": 22,
     "metadata": {},
     "output_type": "execute_result"
    }
   ],
   "source": [
    "o.read()"
   ]
  },
  {
   "cell_type": "code",
   "execution_count": 23,
   "id": "5024f965-3246-422e-b273-e47ff16254ee",
   "metadata": {},
   "outputs": [],
   "source": [
    "o.close()"
   ]
  },
  {
   "cell_type": "code",
   "execution_count": 24,
   "id": "57c8b252-43ef-4103-a238-ace7552e3c8d",
   "metadata": {},
   "outputs": [],
   "source": [
    "a = open('sentences.txt', mode = 'w')"
   ]
  },
  {
   "cell_type": "code",
   "execution_count": 25,
   "id": "b9500dc4-d1e7-43a0-a376-14eb50b63fc2",
   "metadata": {},
   "outputs": [
    {
     "data": {
      "text/plain": [
       "72"
      ]
     },
     "execution_count": 25,
     "metadata": {},
     "output_type": "execute_result"
    }
   ],
   "source": [
    "a.write('''This is my lie no one.\n",
    "This is my line no two.\n",
    "This is my line no three.''')"
   ]
  },
  {
   "cell_type": "code",
   "execution_count": 26,
   "id": "ef35b81e-54b1-4611-858e-1e18f3dcbd8c",
   "metadata": {},
   "outputs": [],
   "source": [
    "a.close()"
   ]
  },
  {
   "cell_type": "code",
   "execution_count": 27,
   "id": "ab1661d1-8751-4ce0-a948-64be759febc3",
   "metadata": {},
   "outputs": [],
   "source": [
    "a = open('sentences.txt', mode= 'r+')"
   ]
  },
  {
   "cell_type": "code",
   "execution_count": 28,
   "id": "cd173a66-15fa-446a-a6af-eaa76e97a736",
   "metadata": {},
   "outputs": [
    {
     "data": {
      "text/plain": [
       "'This is my lie no one.\\nThis is my line no two.\\nThis is my line no three.'"
      ]
     },
     "execution_count": 28,
     "metadata": {},
     "output_type": "execute_result"
    }
   ],
   "source": [
    "a.read()"
   ]
  },
  {
   "cell_type": "code",
   "execution_count": 29,
   "id": "c8d8676e-408c-4fde-90dd-ec6965e84bf2",
   "metadata": {},
   "outputs": [
    {
     "data": {
      "text/plain": [
       "0"
      ]
     },
     "execution_count": 29,
     "metadata": {},
     "output_type": "execute_result"
    }
   ],
   "source": [
    "a.seek(0)"
   ]
  },
  {
   "cell_type": "code",
   "execution_count": 30,
   "id": "558c5b4a-ec45-43ad-ab04-8e21dd2e25e2",
   "metadata": {},
   "outputs": [
    {
     "data": {
      "text/plain": [
       "'This is my lie no one.\\n'"
      ]
     },
     "execution_count": 30,
     "metadata": {},
     "output_type": "execute_result"
    }
   ],
   "source": [
    "a.readline()"
   ]
  },
  {
   "cell_type": "code",
   "execution_count": 31,
   "id": "2cb4e2e4-4cb5-41ae-949f-3048e7a82538",
   "metadata": {},
   "outputs": [
    {
     "data": {
      "text/plain": [
       "'This is my line no two.\\n'"
      ]
     },
     "execution_count": 31,
     "metadata": {},
     "output_type": "execute_result"
    }
   ],
   "source": [
    "a.readline()"
   ]
  },
  {
   "cell_type": "code",
   "execution_count": 32,
   "id": "016e2139-953c-4b9f-ad72-cb675c8d6749",
   "metadata": {},
   "outputs": [
    {
     "data": {
      "text/plain": [
       "'This is my line no three.'"
      ]
     },
     "execution_count": 32,
     "metadata": {},
     "output_type": "execute_result"
    }
   ],
   "source": [
    "a.readline()"
   ]
  },
  {
   "cell_type": "code",
   "execution_count": 33,
   "id": "7bf1d964-0b14-4c4f-92c8-1811fcc1ade0",
   "metadata": {},
   "outputs": [
    {
     "data": {
      "text/plain": [
       "''"
      ]
     },
     "execution_count": 33,
     "metadata": {},
     "output_type": "execute_result"
    }
   ],
   "source": [
    "a.readline()"
   ]
  },
  {
   "cell_type": "code",
   "execution_count": 35,
   "id": "bf086bb6-2459-4f8f-848b-be2d5852f329",
   "metadata": {},
   "outputs": [
    {
     "data": {
      "text/plain": [
       "0"
      ]
     },
     "execution_count": 35,
     "metadata": {},
     "output_type": "execute_result"
    }
   ],
   "source": [
    "a.seek(0)"
   ]
  },
  {
   "cell_type": "code",
   "execution_count": 36,
   "id": "7e29dfe5-fdca-44db-a14c-4554397b1afe",
   "metadata": {},
   "outputs": [
    {
     "data": {
      "text/plain": [
       "['This is my lie no one.\\n',\n",
       " 'This is my line no two.\\n',\n",
       " 'This is my line no three.']"
      ]
     },
     "execution_count": 36,
     "metadata": {},
     "output_type": "execute_result"
    }
   ],
   "source": [
    "a.readlines()"
   ]
  },
  {
   "cell_type": "code",
   "execution_count": 40,
   "id": "663897d5-0981-4f0d-b1b7-85e172e4e795",
   "metadata": {},
   "outputs": [
    {
     "data": {
      "text/plain": [
       "0"
      ]
     },
     "execution_count": 40,
     "metadata": {},
     "output_type": "execute_result"
    }
   ],
   "source": [
    "a.seek(0)"
   ]
  },
  {
   "cell_type": "code",
   "execution_count": 41,
   "id": "9b54269f-63f8-4d74-b6dc-c485c659d1fd",
   "metadata": {},
   "outputs": [
    {
     "name": "stdout",
     "output_type": "stream",
     "text": [
      "This is my lie no one.\n",
      "\n",
      "This is my line no two.\n",
      "\n",
      "This is my line no three.\n"
     ]
    }
   ],
   "source": [
    "for sentence in a.readlines():\n",
    "    print(sentence)"
   ]
  },
  {
   "cell_type": "code",
   "execution_count": 49,
   "id": "d31b73e7-3c49-47aa-8921-0dfc39496874",
   "metadata": {},
   "outputs": [
    {
     "data": {
      "text/plain": [
       "0"
      ]
     },
     "execution_count": 49,
     "metadata": {},
     "output_type": "execute_result"
    }
   ],
   "source": [
    "a.seek(0)"
   ]
  },
  {
   "cell_type": "code",
   "execution_count": 50,
   "id": "42e6a8f1-c5b6-45b2-9421-c3ea172ca722",
   "metadata": {},
   "outputs": [
    {
     "name": "stdout",
     "output_type": "stream",
     "text": [
      "['This', 'is', 'my', 'lie', 'no', 'one.\\n']\n",
      "['This', 'is', 'my', 'line', 'no', 'two.\\n']\n",
      "['This', 'is', 'my', 'line', 'no', 'three.']\n"
     ]
    }
   ],
   "source": [
    "for sentence in a.readlines():\n",
    "    print(sentence.split(' '))"
   ]
  },
  {
   "cell_type": "code",
   "execution_count": 51,
   "id": "318a2c79-092d-4de4-9a99-cfdcd5057f5d",
   "metadata": {},
   "outputs": [],
   "source": [
    "a.close()"
   ]
  },
  {
   "cell_type": "code",
   "execution_count": 42,
   "id": "6468820c-0c76-4380-9939-304ab3de2d67",
   "metadata": {},
   "outputs": [],
   "source": [
    "# Split "
   ]
  },
  {
   "cell_type": "code",
   "execution_count": 43,
   "id": "973a8fd1-3a71-4f73-b304-19ac8c6e11c0",
   "metadata": {},
   "outputs": [
    {
     "data": {
      "text/plain": [
       "['H', 'llo']"
      ]
     },
     "execution_count": 43,
     "metadata": {},
     "output_type": "execute_result"
    }
   ],
   "source": [
    "'Hello'.split('e')"
   ]
  },
  {
   "cell_type": "code",
   "execution_count": 44,
   "id": "782d2bf8-bdaa-4b47-82dd-3c2846c14651",
   "metadata": {},
   "outputs": [
    {
     "data": {
      "text/plain": [
       "['Py', 'hon']"
      ]
     },
     "execution_count": 44,
     "metadata": {},
     "output_type": "execute_result"
    }
   ],
   "source": [
    "'Python'.split('t')"
   ]
  },
  {
   "cell_type": "code",
   "execution_count": 45,
   "id": "06615ea8-8448-4e25-b24f-75ad3ef6de40",
   "metadata": {},
   "outputs": [
    {
     "data": {
      "text/plain": [
       "['16', '12', '2024']"
      ]
     },
     "execution_count": 45,
     "metadata": {},
     "output_type": "execute_result"
    }
   ],
   "source": [
    "'16/12/2024'.split('/')"
   ]
  },
  {
   "cell_type": "code",
   "execution_count": 46,
   "id": "a8a3be34-9ee0-4d29-9b1b-83e7d7f5fc6b",
   "metadata": {},
   "outputs": [],
   "source": [
    "l = '16/12/2024'.split('/')"
   ]
  },
  {
   "cell_type": "code",
   "execution_count": 47,
   "id": "b9ce919d-8f11-4a67-943e-c84e508a2033",
   "metadata": {},
   "outputs": [
    {
     "data": {
      "text/plain": [
       "['16', '12', '2024']"
      ]
     },
     "execution_count": 47,
     "metadata": {},
     "output_type": "execute_result"
    }
   ],
   "source": [
    "l"
   ]
  },
  {
   "cell_type": "code",
   "execution_count": 48,
   "id": "748a4502-e244-4792-b0c4-019886540ff8",
   "metadata": {},
   "outputs": [
    {
     "data": {
      "text/plain": [
       "'12'"
      ]
     },
     "execution_count": 48,
     "metadata": {},
     "output_type": "execute_result"
    }
   ],
   "source": [
    "l[1]"
   ]
  },
  {
   "cell_type": "code",
   "execution_count": 52,
   "id": "f1dd2121-0172-4aba-ac92-ee701cf2afc0",
   "metadata": {},
   "outputs": [],
   "source": [
    "l = open('functions_1.py', 'w')"
   ]
  },
  {
   "cell_type": "code",
   "execution_count": 53,
   "id": "9b0d2f84-6bff-45d0-b6e6-e9c578bf6954",
   "metadata": {},
   "outputs": [
    {
     "data": {
      "text/plain": [
       "66"
      ]
     },
     "execution_count": 53,
     "metadata": {},
     "output_type": "execute_result"
    }
   ],
   "source": [
    "l.write('''data = [1,2,3,4,5]\n",
    "names = ['Hello', 'python']\n",
    "print(data + names)''')"
   ]
  },
  {
   "cell_type": "code",
   "execution_count": 54,
   "id": "b7b4a57e-a513-4912-b842-b9a9b659ee29",
   "metadata": {},
   "outputs": [],
   "source": [
    "l.close()"
   ]
  },
  {
   "cell_type": "code",
   "execution_count": null,
   "id": "7acea050-c42e-47c4-bac7-588c7b8dfcdf",
   "metadata": {},
   "outputs": [],
   "source": []
  }
 ],
 "metadata": {
  "kernelspec": {
   "display_name": "Python 3 (ipykernel)",
   "language": "python",
   "name": "python3"
  },
  "language_info": {
   "codemirror_mode": {
    "name": "ipython",
    "version": 3
   },
   "file_extension": ".py",
   "mimetype": "text/x-python",
   "name": "python",
   "nbconvert_exporter": "python",
   "pygments_lexer": "ipython3",
   "version": "3.12.4"
  }
 },
 "nbformat": 4,
 "nbformat_minor": 5
}
