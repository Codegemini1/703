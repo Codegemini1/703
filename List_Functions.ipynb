{
 "cells": [
  {
   "cell_type": "code",
   "execution_count": 1,
   "id": "28fb9bc0-438e-4f7d-8749-e326c24d8b45",
   "metadata": {},
   "outputs": [],
   "source": [
    "l = [1,2,3,4,5]"
   ]
  },
  {
   "cell_type": "code",
   "execution_count": 2,
   "id": "6c3d7170-4563-4f17-b298-2f0c499200d5",
   "metadata": {},
   "outputs": [],
   "source": [
    "# Change list 2 --> 200"
   ]
  },
  {
   "cell_type": "code",
   "execution_count": 3,
   "id": "7202a611-f81b-4029-83f1-c884dee589d6",
   "metadata": {},
   "outputs": [
    {
     "data": {
      "text/plain": [
       "2"
      ]
     },
     "execution_count": 3,
     "metadata": {},
     "output_type": "execute_result"
    }
   ],
   "source": [
    "l[1]"
   ]
  },
  {
   "cell_type": "code",
   "execution_count": 4,
   "id": "29fa6647-5985-4567-ad79-4e14016e7e37",
   "metadata": {},
   "outputs": [],
   "source": [
    "l[1] = 200"
   ]
  },
  {
   "cell_type": "code",
   "execution_count": 5,
   "id": "49b99c6d-68c0-457c-8b98-5d3c6298a5e3",
   "metadata": {},
   "outputs": [
    {
     "data": {
      "text/plain": [
       "[1, 200, 3, 4, 5]"
      ]
     },
     "execution_count": 5,
     "metadata": {},
     "output_type": "execute_result"
    }
   ],
   "source": [
    "l"
   ]
  },
  {
   "cell_type": "code",
   "execution_count": 6,
   "id": "a2bfe586-b15e-4075-ba9f-712056fd0929",
   "metadata": {},
   "outputs": [],
   "source": [
    "names = ['Om','Sham','ramesh','suresh']"
   ]
  },
  {
   "cell_type": "code",
   "execution_count": 7,
   "id": "81abdc81-93bb-4986-9a27-78afefb127a7",
   "metadata": {},
   "outputs": [
    {
     "data": {
      "text/plain": [
       "'ramesh'"
      ]
     },
     "execution_count": 7,
     "metadata": {},
     "output_type": "execute_result"
    }
   ],
   "source": [
    "names[2]"
   ]
  },
  {
   "cell_type": "code",
   "execution_count": 8,
   "id": "8e85bba8-077a-49f4-b1c3-64da4cbaa4a2",
   "metadata": {},
   "outputs": [],
   "source": [
    "names[2] = 'Ganesh'"
   ]
  },
  {
   "cell_type": "code",
   "execution_count": 9,
   "id": "a8684d04-fde0-4751-bb5c-02b5fa23ff25",
   "metadata": {},
   "outputs": [
    {
     "data": {
      "text/plain": [
       "['Om', 'Sham', 'Ganesh', 'suresh']"
      ]
     },
     "execution_count": 9,
     "metadata": {},
     "output_type": "execute_result"
    }
   ],
   "source": [
    "names"
   ]
  },
  {
   "cell_type": "code",
   "execution_count": 10,
   "id": "67829ab6-52c5-4c27-b439-861495fc0c0a",
   "metadata": {},
   "outputs": [],
   "source": [
    "# Imp Interview Question"
   ]
  },
  {
   "cell_type": "code",
   "execution_count": 12,
   "id": "b9308370-0ded-405e-94d9-3db71bed672a",
   "metadata": {},
   "outputs": [],
   "source": [
    "# Nested list --> List inside List"
   ]
  },
  {
   "cell_type": "code",
   "execution_count": 13,
   "id": "af7cf5ae-5455-4dde-a22b-85b066626a86",
   "metadata": {},
   "outputs": [],
   "source": [
    "d = [1,2,3,4,[10,20,30,40],5,6]"
   ]
  },
  {
   "cell_type": "code",
   "execution_count": 14,
   "id": "005d7d95-9994-405f-8ac2-8021cd63e143",
   "metadata": {},
   "outputs": [
    {
     "data": {
      "text/plain": [
       "1"
      ]
     },
     "execution_count": 14,
     "metadata": {},
     "output_type": "execute_result"
    }
   ],
   "source": [
    "d[0]"
   ]
  },
  {
   "cell_type": "code",
   "execution_count": 15,
   "id": "eac09f58-9ff0-4bec-9595-5e8f52c111b7",
   "metadata": {},
   "outputs": [
    {
     "data": {
      "text/plain": [
       "[10, 20, 30, 40]"
      ]
     },
     "execution_count": 15,
     "metadata": {},
     "output_type": "execute_result"
    }
   ],
   "source": [
    "d[4]"
   ]
  },
  {
   "cell_type": "code",
   "execution_count": 16,
   "id": "a0f67a4a-3a4d-47f4-8591-e639fef88467",
   "metadata": {},
   "outputs": [
    {
     "data": {
      "text/plain": [
       "5"
      ]
     },
     "execution_count": 16,
     "metadata": {},
     "output_type": "execute_result"
    }
   ],
   "source": [
    "d[5]"
   ]
  },
  {
   "cell_type": "code",
   "execution_count": 17,
   "id": "dda72fb5-04b6-483b-93c5-394e4bc83cea",
   "metadata": {},
   "outputs": [
    {
     "data": {
      "text/plain": [
       "6"
      ]
     },
     "execution_count": 17,
     "metadata": {},
     "output_type": "execute_result"
    }
   ],
   "source": [
    "d[6]"
   ]
  },
  {
   "cell_type": "code",
   "execution_count": 18,
   "id": "bf667b7d-9f94-4412-823a-ec3f1db067a3",
   "metadata": {},
   "outputs": [
    {
     "data": {
      "text/plain": [
       "[10, 20, 30, 40]"
      ]
     },
     "execution_count": 18,
     "metadata": {},
     "output_type": "execute_result"
    }
   ],
   "source": [
    "d[4]"
   ]
  },
  {
   "cell_type": "code",
   "execution_count": 23,
   "id": "2988b877-b861-48e3-8c4b-2c5c9067454f",
   "metadata": {},
   "outputs": [
    {
     "data": {
      "text/plain": [
       "20"
      ]
     },
     "execution_count": 23,
     "metadata": {},
     "output_type": "execute_result"
    }
   ],
   "source": [
    "d[4][1]"
   ]
  },
  {
   "cell_type": "code",
   "execution_count": 24,
   "id": "41ab9264-9d7f-45e8-94dc-962c2d1db2ce",
   "metadata": {},
   "outputs": [],
   "source": [
    "d2 = [10,20,30,[1.5,2.5,[100,200,300],3.5]]"
   ]
  },
  {
   "cell_type": "code",
   "execution_count": 28,
   "id": "331d5b2b-497d-43c7-926f-e6975622de5d",
   "metadata": {},
   "outputs": [
    {
     "data": {
      "text/plain": [
       "10"
      ]
     },
     "execution_count": 28,
     "metadata": {},
     "output_type": "execute_result"
    }
   ],
   "source": [
    "d2[0]"
   ]
  },
  {
   "cell_type": "code",
   "execution_count": 29,
   "id": "bb26ca03-82ba-454a-9dd4-363c633b7f68",
   "metadata": {},
   "outputs": [
    {
     "data": {
      "text/plain": [
       "20"
      ]
     },
     "execution_count": 29,
     "metadata": {},
     "output_type": "execute_result"
    }
   ],
   "source": [
    "d2[1]"
   ]
  },
  {
   "cell_type": "code",
   "execution_count": 30,
   "id": "5eec8b8b-e7ea-48d7-8cf2-9266a9ecfbf1",
   "metadata": {},
   "outputs": [
    {
     "data": {
      "text/plain": [
       "30"
      ]
     },
     "execution_count": 30,
     "metadata": {},
     "output_type": "execute_result"
    }
   ],
   "source": [
    "d2[2]"
   ]
  },
  {
   "cell_type": "code",
   "execution_count": 32,
   "id": "ca001ac1-547f-4264-a9ce-ffd829a0e370",
   "metadata": {},
   "outputs": [
    {
     "data": {
      "text/plain": [
       "[1.5, 2.5, [100, 200, 300], 3.5]"
      ]
     },
     "execution_count": 32,
     "metadata": {},
     "output_type": "execute_result"
    }
   ],
   "source": [
    "d2[3]"
   ]
  },
  {
   "cell_type": "code",
   "execution_count": 34,
   "id": "a6c492c5-a5e8-4306-b73d-2484b454f7aa",
   "metadata": {},
   "outputs": [
    {
     "data": {
      "text/plain": [
       "[100, 200, 300]"
      ]
     },
     "execution_count": 34,
     "metadata": {},
     "output_type": "execute_result"
    }
   ],
   "source": [
    "d2[3][2]"
   ]
  },
  {
   "cell_type": "code",
   "execution_count": 37,
   "id": "c1265bf2-82fc-47e6-855f-8cbf3e5958b0",
   "metadata": {},
   "outputs": [
    {
     "data": {
      "text/plain": [
       "200"
      ]
     },
     "execution_count": 37,
     "metadata": {},
     "output_type": "execute_result"
    }
   ],
   "source": [
    "d2[3][2][1]"
   ]
  },
  {
   "cell_type": "code",
   "execution_count": 38,
   "id": "a8a61afc-db15-4626-aa91-9c6c3f14c027",
   "metadata": {},
   "outputs": [],
   "source": [
    "c = ['A','B','C',['a','b','c'],'D','E']"
   ]
  },
  {
   "cell_type": "code",
   "execution_count": 40,
   "id": "017a1fdc-1601-454a-88d4-70899e117353",
   "metadata": {},
   "outputs": [
    {
     "data": {
      "text/plain": [
       "['a', 'b', 'c']"
      ]
     },
     "execution_count": 40,
     "metadata": {},
     "output_type": "execute_result"
    }
   ],
   "source": [
    "c[3]"
   ]
  },
  {
   "cell_type": "code",
   "execution_count": 42,
   "id": "92bd1335-a138-49b0-a300-46105f38d29e",
   "metadata": {},
   "outputs": [
    {
     "data": {
      "text/plain": [
       "'c'"
      ]
     },
     "execution_count": 42,
     "metadata": {},
     "output_type": "execute_result"
    }
   ],
   "source": [
    "c[3][2]"
   ]
  },
  {
   "cell_type": "code",
   "execution_count": 43,
   "id": "d4993473-0c99-48b6-8dcd-cd9b2d41d8ee",
   "metadata": {},
   "outputs": [],
   "source": [
    "c2 = ['A','B','C',['a',['AA','BB','CC'],'b','c'],'D','E']"
   ]
  },
  {
   "cell_type": "code",
   "execution_count": 44,
   "id": "e8ebcdfe-0c42-469a-a537-ba2ed83200bf",
   "metadata": {},
   "outputs": [
    {
     "data": {
      "text/plain": [
       "['a', ['AA', 'BB', 'CC'], 'b', 'c']"
      ]
     },
     "execution_count": 44,
     "metadata": {},
     "output_type": "execute_result"
    }
   ],
   "source": [
    "c2[3]"
   ]
  },
  {
   "cell_type": "code",
   "execution_count": 45,
   "id": "366c2794-05d0-4ebe-b5b0-213472976fa2",
   "metadata": {},
   "outputs": [
    {
     "data": {
      "text/plain": [
       "['AA', 'BB', 'CC']"
      ]
     },
     "execution_count": 45,
     "metadata": {},
     "output_type": "execute_result"
    }
   ],
   "source": [
    "c2[3][1]"
   ]
  },
  {
   "cell_type": "code",
   "execution_count": 46,
   "id": "a5034121-3d01-4613-a456-25565cb89609",
   "metadata": {},
   "outputs": [
    {
     "data": {
      "text/plain": [
       "'BB'"
      ]
     },
     "execution_count": 46,
     "metadata": {},
     "output_type": "execute_result"
    }
   ],
   "source": [
    "c2[3][1][1]"
   ]
  },
  {
   "cell_type": "markdown",
   "id": "06d47e35-0d9a-4740-b703-40633108bdea",
   "metadata": {},
   "source": [
    "# Functions on list"
   ]
  },
  {
   "cell_type": "code",
   "execution_count": 47,
   "id": "79b4c809-e3df-44b1-be23-5167cf2fe067",
   "metadata": {},
   "outputs": [
    {
     "data": {
      "text/plain": [
       "[1, 200, 3, 4, 5]"
      ]
     },
     "execution_count": 47,
     "metadata": {},
     "output_type": "execute_result"
    }
   ],
   "source": [
    "l"
   ]
  },
  {
   "cell_type": "code",
   "execution_count": 48,
   "id": "64f67792-ea2d-4f5d-b7b5-e5cd932a1783",
   "metadata": {},
   "outputs": [],
   "source": [
    "l.append(60)"
   ]
  },
  {
   "cell_type": "code",
   "execution_count": 49,
   "id": "e7da9670-b908-435a-9f2d-a3582d88a6bf",
   "metadata": {},
   "outputs": [
    {
     "data": {
      "text/plain": [
       "[1, 200, 3, 4, 5, 60]"
      ]
     },
     "execution_count": 49,
     "metadata": {},
     "output_type": "execute_result"
    }
   ],
   "source": [
    "l"
   ]
  },
  {
   "cell_type": "code",
   "execution_count": 51,
   "id": "f1537920-61cf-47f4-bc3e-3edb77de5155",
   "metadata": {},
   "outputs": [],
   "source": [
    "l.extend([1000,2000,3000])"
   ]
  },
  {
   "cell_type": "code",
   "execution_count": 52,
   "id": "01261630-dc7d-4489-91cb-fc83f60109bd",
   "metadata": {},
   "outputs": [
    {
     "data": {
      "text/plain": [
       "[1, 200, 3, 4, 5, 60, 1000, 2000, 3000]"
      ]
     },
     "execution_count": 52,
     "metadata": {},
     "output_type": "execute_result"
    }
   ],
   "source": [
    "l"
   ]
  },
  {
   "cell_type": "code",
   "execution_count": 53,
   "id": "1f1de84e-63fe-4806-9001-e962c1887536",
   "metadata": {},
   "outputs": [],
   "source": [
    "l.append([1000,2000,3000])"
   ]
  },
  {
   "cell_type": "code",
   "execution_count": 54,
   "id": "1083130d-91c2-4023-bfb5-1db1d2a7a5b5",
   "metadata": {},
   "outputs": [
    {
     "data": {
      "text/plain": [
       "[1, 200, 3, 4, 5, 60, 1000, 2000, 3000, [1000, 2000, 3000]]"
      ]
     },
     "execution_count": 54,
     "metadata": {},
     "output_type": "execute_result"
    }
   ],
   "source": [
    "l"
   ]
  },
  {
   "cell_type": "code",
   "execution_count": 55,
   "id": "326ad381-397e-4c2f-ad93-2f83f2123351",
   "metadata": {},
   "outputs": [],
   "source": [
    "# Diff b/w append and extend"
   ]
  },
  {
   "cell_type": "code",
   "execution_count": 56,
   "id": "6d47d639-9469-4829-be11-6877e9d9f9e3",
   "metadata": {},
   "outputs": [],
   "source": [
    "f = [1,2,3]"
   ]
  },
  {
   "cell_type": "code",
   "execution_count": 57,
   "id": "c23e3762-784b-4b83-b947-1522b3f1bed7",
   "metadata": {},
   "outputs": [],
   "source": [
    "f.append([10,20])"
   ]
  },
  {
   "cell_type": "code",
   "execution_count": 58,
   "id": "9642e1f9-af0d-428e-bc25-b7bc0666134c",
   "metadata": {},
   "outputs": [
    {
     "data": {
      "text/plain": [
       "[1, 2, 3, [10, 20]]"
      ]
     },
     "execution_count": 58,
     "metadata": {},
     "output_type": "execute_result"
    }
   ],
   "source": [
    "f"
   ]
  },
  {
   "cell_type": "code",
   "execution_count": 59,
   "id": "541f8594-5082-4941-9220-07ebcf7be466",
   "metadata": {},
   "outputs": [],
   "source": [
    "f.extend([10,20])"
   ]
  },
  {
   "cell_type": "code",
   "execution_count": 60,
   "id": "506f5683-5e2a-42b5-9e83-4a80d9b69c76",
   "metadata": {},
   "outputs": [
    {
     "data": {
      "text/plain": [
       "[1, 2, 3, [10, 20], 10, 20]"
      ]
     },
     "execution_count": 60,
     "metadata": {},
     "output_type": "execute_result"
    }
   ],
   "source": [
    "f"
   ]
  },
  {
   "cell_type": "code",
   "execution_count": 61,
   "id": "fa817be7-eaa4-44a7-9a92-e9080c80de06",
   "metadata": {},
   "outputs": [],
   "source": [
    "# Try to add data in previous list by using append and extend"
   ]
  },
  {
   "cell_type": "code",
   "execution_count": null,
   "id": "3168cba8-3ae6-4fcb-ba0b-809dd8ba32c8",
   "metadata": {},
   "outputs": [],
   "source": []
  }
 ],
 "metadata": {
  "kernelspec": {
   "display_name": "Python 3 (ipykernel)",
   "language": "python",
   "name": "python3"
  },
  "language_info": {
   "codemirror_mode": {
    "name": "ipython",
    "version": 3
   },
   "file_extension": ".py",
   "mimetype": "text/x-python",
   "name": "python",
   "nbconvert_exporter": "python",
   "pygments_lexer": "ipython3",
   "version": "3.12.4"
  }
 },
 "nbformat": 4,
 "nbformat_minor": 5
}
