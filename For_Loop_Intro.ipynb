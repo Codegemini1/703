{
 "cells": [
  {
   "cell_type": "code",
   "execution_count": 5,
   "id": "c9404f63-c432-48cb-b3de-8d303bbd3138",
   "metadata": {},
   "outputs": [
    {
     "name": "stdin",
     "output_type": "stream",
     "text": [
      "Your marks 150\n"
     ]
    },
    {
     "name": "stdout",
     "output_type": "stream",
     "text": [
      "A+\n"
     ]
    }
   ],
   "source": [
    "marks = int(input('Your marks'))\n",
    "\n",
    "if marks > 95:\n",
    "    print('A+')\n",
    "elif marks > 70:\n",
    "    print('B')\n",
    "elif marks > 50:\n",
    "    print('C')\n",
    "elif marks > 35:\n",
    "    print('Pass')\n",
    "else:\n",
    "    print('Fail')"
   ]
  },
  {
   "cell_type": "code",
   "execution_count": 7,
   "id": "43484cf9-6c95-443f-b427-7bcecc75b5d2",
   "metadata": {},
   "outputs": [
    {
     "name": "stdin",
     "output_type": "stream",
     "text": [
      "Your marks 9\n"
     ]
    },
    {
     "name": "stdout",
     "output_type": "stream",
     "text": [
      "Fail\n"
     ]
    }
   ],
   "source": [
    "marks = int(input('Your marks'))\n",
    "\n",
    "if marks > 95 and marks <= 100:\n",
    "    print('A+')\n",
    "elif marks > 70 and marks <= 95:\n",
    "    print('B')\n",
    "elif marks > 50 and marks <= 70:\n",
    "    print('C')\n",
    "elif marks > 35 and marks <= 50:\n",
    "    print('Pass')\n",
    "elif marks >= 0 and marks <= 35:\n",
    "    print('Fail')\n",
    "else:\n",
    "    print('Write marks between 0-100 range')"
   ]
  },
  {
   "cell_type": "markdown",
   "id": "5f6dfc56-0d11-410e-ba58-bc6c35486087",
   "metadata": {},
   "source": [
    "# For Loop"
   ]
  },
  {
   "cell_type": "code",
   "execution_count": 8,
   "id": "e2611bee-bc09-4511-b82d-4dc318efaaeb",
   "metadata": {},
   "outputs": [],
   "source": [
    "l = [1,2,3,4,5]"
   ]
  },
  {
   "cell_type": "code",
   "execution_count": 9,
   "id": "f3a47690-37e6-4c3a-a5da-08efad367f98",
   "metadata": {},
   "outputs": [
    {
     "name": "stdout",
     "output_type": "stream",
     "text": [
      "1\n",
      "2\n",
      "3\n",
      "4\n",
      "5\n"
     ]
    }
   ],
   "source": [
    "for num in l:\n",
    "    print(num)"
   ]
  },
  {
   "cell_type": "code",
   "execution_count": null,
   "id": "30fcba2c-c223-4936-b599-46f7ae6e7919",
   "metadata": {},
   "outputs": [],
   "source": []
  }
 ],
 "metadata": {
  "kernelspec": {
   "display_name": "Python 3 (ipykernel)",
   "language": "python",
   "name": "python3"
  },
  "language_info": {
   "codemirror_mode": {
    "name": "ipython",
    "version": 3
   },
   "file_extension": ".py",
   "mimetype": "text/x-python",
   "name": "python",
   "nbconvert_exporter": "python",
   "pygments_lexer": "ipython3",
   "version": "3.12.4"
  }
 },
 "nbformat": 4,
 "nbformat_minor": 5
}
