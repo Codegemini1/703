{
 "cells": [
  {
   "cell_type": "code",
   "execution_count": 1,
   "id": "4932727e-b98b-46a9-9e2c-605099b2d346",
   "metadata": {},
   "outputs": [
    {
     "name": "stdout",
     "output_type": "stream",
     "text": [
      "Requirement already satisfied: numpy in c:\\users\\admin\\anaconda3\\lib\\site-packages (1.26.4)\n",
      "Note: you may need to restart the kernel to use updated packages.\n"
     ]
    }
   ],
   "source": [
    "pip install numpy"
   ]
  },
  {
   "cell_type": "code",
   "execution_count": 2,
   "id": "5833b839-e70b-4fdd-956d-e407ba4c4811",
   "metadata": {},
   "outputs": [],
   "source": [
    "import numpy as np"
   ]
  },
  {
   "cell_type": "code",
   "execution_count": 3,
   "id": "cd725c91-53f2-4f49-aeac-1a3974199415",
   "metadata": {},
   "outputs": [],
   "source": [
    "# Mean of dataset"
   ]
  },
  {
   "cell_type": "code",
   "execution_count": 5,
   "id": "be2d875c-e1fe-4e73-b838-15a78f8b14ec",
   "metadata": {},
   "outputs": [],
   "source": [
    "l = [76,54,65,34,87]"
   ]
  },
  {
   "cell_type": "code",
   "execution_count": 6,
   "id": "cca998a6-1104-4ae7-b842-22d99bb95835",
   "metadata": {},
   "outputs": [
    {
     "data": {
      "text/plain": [
       "63.2"
      ]
     },
     "execution_count": 6,
     "metadata": {},
     "output_type": "execute_result"
    }
   ],
   "source": [
    "np.mean(l)"
   ]
  },
  {
   "cell_type": "code",
   "execution_count": 7,
   "id": "91a6b1c1-c2e6-4d6b-84a6-841bc164db83",
   "metadata": {},
   "outputs": [
    {
     "data": {
      "text/plain": [
       "67.0"
      ]
     },
     "execution_count": 7,
     "metadata": {},
     "output_type": "execute_result"
    }
   ],
   "source": [
    "np.mean([64,65,34,87,98,54])"
   ]
  },
  {
   "cell_type": "code",
   "execution_count": 9,
   "id": "1fe86866-0df3-4b5b-9d27-4196a59d8175",
   "metadata": {},
   "outputs": [
    {
     "data": {
      "text/plain": [
       "240"
      ]
     },
     "execution_count": 9,
     "metadata": {},
     "output_type": "execute_result"
    }
   ],
   "source": [
    "np.sum([54,6,5,76,34,65])"
   ]
  },
  {
   "cell_type": "code",
   "execution_count": 12,
   "id": "d513642b-17cf-4010-8a8f-9a9c84857c58",
   "metadata": {},
   "outputs": [
    {
     "data": {
      "text/plain": [
       "7.3484692283495345"
      ]
     },
     "execution_count": 12,
     "metadata": {},
     "output_type": "execute_result"
    }
   ],
   "source": [
    "np.sqrt(54)"
   ]
  },
  {
   "cell_type": "code",
   "execution_count": 14,
   "id": "7d6dfbb7-6e45-4f69-a2f9-77d3fc98ede6",
   "metadata": {},
   "outputs": [
    {
     "data": {
      "text/plain": [
       "4489"
      ]
     },
     "execution_count": 14,
     "metadata": {},
     "output_type": "execute_result"
    }
   ],
   "source": [
    "np.square(67)"
   ]
  },
  {
   "cell_type": "code",
   "execution_count": 15,
   "id": "bb6f2100-08a7-490e-92c3-3caa3b88c4b9",
   "metadata": {},
   "outputs": [],
   "source": [
    "# 1d"
   ]
  },
  {
   "cell_type": "code",
   "execution_count": 16,
   "id": "adab7fe7-62d2-4b0d-9f50-21751320b703",
   "metadata": {},
   "outputs": [],
   "source": [
    "l = [1,2,3,4,5]"
   ]
  },
  {
   "cell_type": "code",
   "execution_count": 18,
   "id": "a360fc00-7036-4dcc-b636-ee6cfcf3fb93",
   "metadata": {},
   "outputs": [],
   "source": [
    "l = np.array(l)"
   ]
  },
  {
   "cell_type": "code",
   "execution_count": 19,
   "id": "292e9761-7649-45bd-98ae-725609206411",
   "metadata": {},
   "outputs": [
    {
     "data": {
      "text/plain": [
       "array([1, 2, 3, 4, 5])"
      ]
     },
     "execution_count": 19,
     "metadata": {},
     "output_type": "execute_result"
    }
   ],
   "source": [
    "l"
   ]
  },
  {
   "cell_type": "code",
   "execution_count": 20,
   "id": "fc7b916b-383a-4b67-aa07-0c6b1a4c8b12",
   "metadata": {},
   "outputs": [
    {
     "data": {
      "text/plain": [
       "1"
      ]
     },
     "execution_count": 20,
     "metadata": {},
     "output_type": "execute_result"
    }
   ],
   "source": [
    "np.ndim(l)"
   ]
  },
  {
   "cell_type": "code",
   "execution_count": 21,
   "id": "bb55dd7a-1508-413a-abd1-851c3f325d22",
   "metadata": {},
   "outputs": [],
   "source": [
    "l2 = [[1,2,3,4,5],[10,20,30,40,50]]"
   ]
  },
  {
   "cell_type": "code",
   "execution_count": 22,
   "id": "67a410ad-a9ab-4cfc-ad10-f30c8382a0f9",
   "metadata": {},
   "outputs": [
    {
     "data": {
      "text/plain": [
       "array([[ 1,  2,  3,  4,  5],\n",
       "       [10, 20, 30, 40, 50]])"
      ]
     },
     "execution_count": 22,
     "metadata": {},
     "output_type": "execute_result"
    }
   ],
   "source": [
    "np.array(l2)"
   ]
  },
  {
   "cell_type": "code",
   "execution_count": 23,
   "id": "3057dfb8-4d95-46fd-b251-c06127230765",
   "metadata": {},
   "outputs": [],
   "source": [
    "l2 = np.array(l2)"
   ]
  },
  {
   "cell_type": "code",
   "execution_count": 24,
   "id": "e76e0e4c-5845-443f-8122-79ab02578db0",
   "metadata": {},
   "outputs": [
    {
     "data": {
      "text/plain": [
       "array([[ 1,  2,  3,  4,  5],\n",
       "       [10, 20, 30, 40, 50]])"
      ]
     },
     "execution_count": 24,
     "metadata": {},
     "output_type": "execute_result"
    }
   ],
   "source": [
    "l2"
   ]
  },
  {
   "cell_type": "code",
   "execution_count": 25,
   "id": "f7c32b70-d76a-49d7-9ab1-7ca1ac822cb1",
   "metadata": {},
   "outputs": [
    {
     "data": {
      "text/plain": [
       "2"
      ]
     },
     "execution_count": 25,
     "metadata": {},
     "output_type": "execute_result"
    }
   ],
   "source": [
    "np.ndim(l2)"
   ]
  },
  {
   "cell_type": "code",
   "execution_count": 26,
   "id": "38ff9d0f-72d8-423b-b298-1fadcf31d37c",
   "metadata": {},
   "outputs": [],
   "source": [
    "l3 = [[[1,2,3,4,5], [10,20,30,40,50], [100,200,300,400,500]]]"
   ]
  },
  {
   "cell_type": "code",
   "execution_count": 27,
   "id": "923ff8e2-8381-4183-b38f-5f845bd4b19d",
   "metadata": {},
   "outputs": [],
   "source": [
    "l3 = np.array(l3)"
   ]
  },
  {
   "cell_type": "code",
   "execution_count": 28,
   "id": "06e98e85-220a-4c39-b22f-9f1c07435e4f",
   "metadata": {},
   "outputs": [
    {
     "data": {
      "text/plain": [
       "array([[[  1,   2,   3,   4,   5],\n",
       "        [ 10,  20,  30,  40,  50],\n",
       "        [100, 200, 300, 400, 500]]])"
      ]
     },
     "execution_count": 28,
     "metadata": {},
     "output_type": "execute_result"
    }
   ],
   "source": [
    "l3"
   ]
  },
  {
   "cell_type": "code",
   "execution_count": 29,
   "id": "1072cce6-a81d-4176-8c4c-83889bb897c4",
   "metadata": {},
   "outputs": [
    {
     "data": {
      "text/plain": [
       "3"
      ]
     },
     "execution_count": 29,
     "metadata": {},
     "output_type": "execute_result"
    }
   ],
   "source": [
    "np.ndim(l3)"
   ]
  },
  {
   "cell_type": "code",
   "execution_count": 30,
   "id": "4f675851-720d-4bc1-81c2-b39b4efaab18",
   "metadata": {},
   "outputs": [
    {
     "data": {
      "text/plain": [
       "array([2, 7, 2, 4, 1])"
      ]
     },
     "execution_count": 30,
     "metadata": {},
     "output_type": "execute_result"
    }
   ],
   "source": [
    "np.random.randint(1,10, 5) #Low, max, count/size"
   ]
  },
  {
   "cell_type": "code",
   "execution_count": 31,
   "id": "a90864f5-6495-4cc0-8f24-b860cef99020",
   "metadata": {},
   "outputs": [
    {
     "data": {
      "text/plain": [
       "array([49, 40, 39, 24, 46, 20, 32, 34])"
      ]
     },
     "execution_count": 31,
     "metadata": {},
     "output_type": "execute_result"
    }
   ],
   "source": [
    "np.random.randint(1,50, 8)"
   ]
  },
  {
   "cell_type": "code",
   "execution_count": 33,
   "id": "db8b1fae-2322-400b-ad73-5579c0c82cef",
   "metadata": {},
   "outputs": [
    {
     "data": {
      "text/plain": [
       "array([[0.95599695, 0.17958749, 0.08336421],\n",
       "       [0.15972712, 0.92656435, 0.00287751],\n",
       "       [0.30020421, 0.03804977, 0.59197229],\n",
       "       [0.72849351, 0.67237312, 0.3891596 ],\n",
       "       [0.44893979, 0.82782606, 0.71216246]])"
      ]
     },
     "execution_count": 33,
     "metadata": {},
     "output_type": "execute_result"
    }
   ],
   "source": [
    "np.random.random([5,3])"
   ]
  },
  {
   "cell_type": "code",
   "execution_count": 35,
   "id": "a44b8174-3240-4590-a6b9-a0bd1fcf0e27",
   "metadata": {},
   "outputs": [
    {
     "data": {
      "text/plain": [
       "array([[[0.79998471, 0.98070764, 0.95793264],\n",
       "        [0.85098656, 0.69192091, 0.70964537]],\n",
       "\n",
       "       [[0.28061577, 0.43915227, 0.80725545],\n",
       "        [0.95611477, 0.52484486, 0.28858226]]])"
      ]
     },
     "execution_count": 35,
     "metadata": {},
     "output_type": "execute_result"
    }
   ],
   "source": [
    "np.random.rand(2,2,3)"
   ]
  },
  {
   "cell_type": "code",
   "execution_count": null,
   "id": "825fc266-4d27-469e-b6b1-da741bd2490a",
   "metadata": {},
   "outputs": [],
   "source": []
  }
 ],
 "metadata": {
  "kernelspec": {
   "display_name": "Python 3 (ipykernel)",
   "language": "python",
   "name": "python3"
  },
  "language_info": {
   "codemirror_mode": {
    "name": "ipython",
    "version": 3
   },
   "file_extension": ".py",
   "mimetype": "text/x-python",
   "name": "python",
   "nbconvert_exporter": "python",
   "pygments_lexer": "ipython3",
   "version": "3.12.4"
  }
 },
 "nbformat": 4,
 "nbformat_minor": 5
}
