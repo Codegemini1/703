{
 "cells": [
  {
   "cell_type": "code",
   "execution_count": 1,
   "id": "db5a56be-3e4d-4bd3-9c00-e0be4431e4c5",
   "metadata": {},
   "outputs": [],
   "source": [
    "import logging"
   ]
  },
  {
   "cell_type": "markdown",
   "id": "80620a27-93c9-4605-b1d6-71fc3a86f353",
   "metadata": {},
   "source": [
    "# Looging Cinfigration"
   ]
  },
  {
   "cell_type": "code",
   "execution_count": 2,
   "id": "1a479edd-8ee0-49db-8ab4-6912b46b918e",
   "metadata": {},
   "outputs": [],
   "source": [
    "logging.basicConfig(filename ='myproject.log' , level = logging.DEBUG, format = '%(asctime)s %(levelname)s %(message)s')"
   ]
  },
  {
   "cell_type": "code",
   "execution_count": 3,
   "id": "9e261652-a2e6-40b0-97a5-7cfd57a77b63",
   "metadata": {},
   "outputs": [],
   "source": [
    "logging.info('This is my info log')\n",
    "logging.warning('This is my warning log')\n",
    "logging.debug('This is my debug log')\n",
    "logging.error('This is my error log')"
   ]
  },
  {
   "cell_type": "code",
   "execution_count": 4,
   "id": "d4fef65e-1192-4151-b7ea-570f5a09e3ff",
   "metadata": {},
   "outputs": [],
   "source": [
    "def div(a,b):\n",
    "    logging.info(f'Entered into div function a:{a} for b:{b}')\n",
    "    try:\n",
    "        division = a/b\n",
    "        logging.info('Sucessfully divided a/b')\n",
    "    except Exception as e:\n",
    "        logging.error('Error Happened')\n",
    "        logging.info(e)"
   ]
  },
  {
   "cell_type": "code",
   "execution_count": 6,
   "id": "c09fcebc-7a2f-4740-89be-99c0775162b0",
   "metadata": {},
   "outputs": [],
   "source": [
    "div(10,2)"
   ]
  },
  {
   "cell_type": "code",
   "execution_count": 7,
   "id": "d773b2e7-76d5-47d7-a6ab-2087871fc57b",
   "metadata": {},
   "outputs": [],
   "source": [
    "div(5,0)"
   ]
  },
  {
   "cell_type": "code",
   "execution_count": null,
   "id": "70da8cb9-1f11-4a47-96e6-e75ec1fef0fc",
   "metadata": {},
   "outputs": [],
   "source": []
  }
 ],
 "metadata": {
  "kernelspec": {
   "display_name": "Python 3 (ipykernel)",
   "language": "python",
   "name": "python3"
  },
  "language_info": {
   "codemirror_mode": {
    "name": "ipython",
    "version": 3
   },
   "file_extension": ".py",
   "mimetype": "text/x-python",
   "name": "python",
   "nbconvert_exporter": "python",
   "pygments_lexer": "ipython3",
   "version": "3.12.4"
  }
 },
 "nbformat": 4,
 "nbformat_minor": 5
}
