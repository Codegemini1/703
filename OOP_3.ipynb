{
 "cells": [
  {
   "cell_type": "markdown",
   "id": "a8f79944-50bc-4a68-84dc-08a59848ad66",
   "metadata": {},
   "source": [
    "# Poly-Morphism"
   ]
  },
  {
   "cell_type": "code",
   "execution_count": 1,
   "id": "bab9387f-ba94-428c-88c0-7cf13b0d4c57",
   "metadata": {},
   "outputs": [],
   "source": [
    "class Animal():\n",
    "    def sound(self):\n",
    "        return 'Animal Makes Sound'"
   ]
  },
  {
   "cell_type": "code",
   "execution_count": 2,
   "id": "fa999569-1047-4493-9148-e8f0e5f2cffc",
   "metadata": {},
   "outputs": [],
   "source": [
    "class Dog():\n",
    "    def sound(self):\n",
    "        return 'Bhau Bhau'"
   ]
  },
  {
   "cell_type": "code",
   "execution_count": 3,
   "id": "e906227c-66e2-4c21-b804-e9eda3564370",
   "metadata": {},
   "outputs": [],
   "source": [
    "class Cat():\n",
    "    def sound(self):\n",
    "        return 'Mau Mau'"
   ]
  },
  {
   "cell_type": "code",
   "execution_count": 4,
   "id": "4037053a-dede-4135-8218-879e33985ad3",
   "metadata": {},
   "outputs": [],
   "source": [
    "jerry = Cat()"
   ]
  },
  {
   "cell_type": "code",
   "execution_count": 5,
   "id": "9e4d8f02-ef01-47c9-9766-9082b3e2bf57",
   "metadata": {},
   "outputs": [
    {
     "data": {
      "text/plain": [
       "'Mau Mau'"
      ]
     },
     "execution_count": 5,
     "metadata": {},
     "output_type": "execute_result"
    }
   ],
   "source": [
    "jerry.sound()"
   ]
  },
  {
   "cell_type": "code",
   "execution_count": 6,
   "id": "36cd1aba-0ab0-421f-986f-971c75e27997",
   "metadata": {},
   "outputs": [],
   "source": [
    "Tom = Dog()"
   ]
  },
  {
   "cell_type": "code",
   "execution_count": 7,
   "id": "0d3deca7-9431-4956-a64f-0ad41973dfd3",
   "metadata": {},
   "outputs": [
    {
     "data": {
      "text/plain": [
       "'Bhau Bhau'"
      ]
     },
     "execution_count": 7,
     "metadata": {},
     "output_type": "execute_result"
    }
   ],
   "source": [
    "Tom.sound()"
   ]
  },
  {
   "cell_type": "code",
   "execution_count": 8,
   "id": "35a009c4-f4cc-4469-9ea0-8fa124740c92",
   "metadata": {},
   "outputs": [],
   "source": [
    "class phone():\n",
    "    def calling(self):\n",
    "        return 'I am phone and I am doing Call'"
   ]
  },
  {
   "cell_type": "code",
   "execution_count": 10,
   "id": "f1e67706-e9e4-421b-a0a5-0d25310e3100",
   "metadata": {},
   "outputs": [],
   "source": [
    "class moto():\n",
    "    def calling(self):\n",
    "        return \"I am moto's Phone and I am doing call \""
   ]
  },
  {
   "cell_type": "code",
   "execution_count": 11,
   "id": "a36c1195-950b-41a4-a52d-c2c8ffdef85a",
   "metadata": {},
   "outputs": [],
   "source": [
    "m11 = moto()"
   ]
  },
  {
   "cell_type": "code",
   "execution_count": 12,
   "id": "be94a295-2496-4422-b451-e58e9cffb412",
   "metadata": {},
   "outputs": [
    {
     "data": {
      "text/plain": [
       "\"I am moto's Phone and I am doing call \""
      ]
     },
     "execution_count": 12,
     "metadata": {},
     "output_type": "execute_result"
    }
   ],
   "source": [
    "m11.calling()"
   ]
  },
  {
   "cell_type": "code",
   "execution_count": 13,
   "id": "6055b5f9-dc58-4c43-b168-06e5d995ca42",
   "metadata": {},
   "outputs": [],
   "source": [
    "class Iphone():\n",
    "    def calling(self):\n",
    "        return 'I am Iphone and I am doing Call'"
   ]
  },
  {
   "cell_type": "code",
   "execution_count": 14,
   "id": "168bafa8-ed1b-4ee7-9635-85d7b2a5dadb",
   "metadata": {},
   "outputs": [],
   "source": [
    "iphone15 = Iphone()"
   ]
  },
  {
   "cell_type": "code",
   "execution_count": 15,
   "id": "5414538f-3cdc-4548-b04c-4392e4bbdcc8",
   "metadata": {},
   "outputs": [
    {
     "data": {
      "text/plain": [
       "'I am Iphone and I am doing Call'"
      ]
     },
     "execution_count": 15,
     "metadata": {},
     "output_type": "execute_result"
    }
   ],
   "source": [
    "iphone15.calling()"
   ]
  },
  {
   "cell_type": "code",
   "execution_count": 16,
   "id": "ed0c7c0c-7a83-498b-b90e-1622290c3a18",
   "metadata": {},
   "outputs": [],
   "source": [
    "# Area of Shapes"
   ]
  },
  {
   "cell_type": "code",
   "execution_count": 18,
   "id": "a4211d16-b018-48ff-9bce-db097110cc30",
   "metadata": {},
   "outputs": [],
   "source": [
    "class shape():\n",
    "    def area(self):\n",
    "        pass"
   ]
  },
  {
   "cell_type": "code",
   "execution_count": 19,
   "id": "9f938074-753d-49ae-9e66-45c323eb02c3",
   "metadata": {},
   "outputs": [],
   "source": [
    "class rectangle():\n",
    "    def area(self,lenght,breadth):\n",
    "        return lenght * breadth"
   ]
  },
  {
   "cell_type": "code",
   "execution_count": 20,
   "id": "4f46b340-3a94-4cea-83ec-e27b0cb8911a",
   "metadata": {},
   "outputs": [],
   "source": [
    "class circle():\n",
    "    def area(self, radius):\n",
    "        return 3.14 * radius ** 2"
   ]
  },
  {
   "cell_type": "code",
   "execution_count": 21,
   "id": "f806f9bb-30fb-4fe7-af31-7d67cca15685",
   "metadata": {},
   "outputs": [],
   "source": [
    "c = circle()"
   ]
  },
  {
   "cell_type": "code",
   "execution_count": 22,
   "id": "b1137b1e-b8b8-48b8-89e8-2af624292090",
   "metadata": {},
   "outputs": [
    {
     "data": {
      "text/plain": [
       "78.5"
      ]
     },
     "execution_count": 22,
     "metadata": {},
     "output_type": "execute_result"
    }
   ],
   "source": [
    "c.area(5)"
   ]
  },
  {
   "cell_type": "code",
   "execution_count": 23,
   "id": "7f1d98d9-0715-4cbc-ab94-74ae38d58969",
   "metadata": {},
   "outputs": [],
   "source": [
    "r = rectangle()"
   ]
  },
  {
   "cell_type": "code",
   "execution_count": 24,
   "id": "4f0c3d3d-4906-445c-a981-893d9716937d",
   "metadata": {},
   "outputs": [
    {
     "data": {
      "text/plain": [
       "50"
      ]
     },
     "execution_count": 24,
     "metadata": {},
     "output_type": "execute_result"
    }
   ],
   "source": [
    "r.area(10,5)"
   ]
  },
  {
   "cell_type": "markdown",
   "id": "a489974f-e960-4c29-ac88-e37ae98dd2c9",
   "metadata": {},
   "source": [
    "# Abstraction Method"
   ]
  },
  {
   "cell_type": "code",
   "execution_count": 25,
   "id": "c8fd7d39-5d17-46da-8cc8-1efd85cb39df",
   "metadata": {},
   "outputs": [],
   "source": [
    "from abc import ABC, abstractmethod"
   ]
  },
  {
   "cell_type": "code",
   "execution_count": 26,
   "id": "1d7f3b18-d6a1-489d-82ad-3c68739566a3",
   "metadata": {},
   "outputs": [],
   "source": [
    "# special classes"
   ]
  },
  {
   "cell_type": "code",
   "execution_count": 27,
   "id": "26df13fa-db91-4658-9073-75419a9213d2",
   "metadata": {},
   "outputs": [],
   "source": [
    "class social_media(ABC):\n",
    "    @abstractmethod\n",
    "    def share_story(self):\n",
    "        pass"
   ]
  },
  {
   "cell_type": "code",
   "execution_count": 29,
   "id": "01438e3a-3762-4678-83ea-8673b228ceb0",
   "metadata": {},
   "outputs": [],
   "source": [
    "class instagram(social_media):\n",
    "    def share_story(self):\n",
    "        return 'Sharing stort to Instagram'\n",
    "    def post_photo(self):\n",
    "        return 'Your photo is posting'"
   ]
  },
  {
   "cell_type": "code",
   "execution_count": 30,
   "id": "6ccc3b5b-2cde-4ffd-8c4f-c5f404840a9d",
   "metadata": {},
   "outputs": [],
   "source": [
    "class facebook(social_media):\n",
    "    def go_live(self):\n",
    "        return 'Going live on facebook'"
   ]
  },
  {
   "cell_type": "code",
   "execution_count": 31,
   "id": "020adba5-71c1-4111-993e-277776076836",
   "metadata": {},
   "outputs": [
    {
     "ename": "TypeError",
     "evalue": "Can't instantiate abstract class facebook without an implementation for abstract method 'share_story'",
     "output_type": "error",
     "traceback": [
      "\u001b[1;31m---------------------------------------------------------------------------\u001b[0m",
      "\u001b[1;31mTypeError\u001b[0m                                 Traceback (most recent call last)",
      "Cell \u001b[1;32mIn[31], line 1\u001b[0m\n\u001b[1;32m----> 1\u001b[0m f \u001b[38;5;241m=\u001b[39m facebook()\n",
      "\u001b[1;31mTypeError\u001b[0m: Can't instantiate abstract class facebook without an implementation for abstract method 'share_story'"
     ]
    }
   ],
   "source": [
    "f = facebook()"
   ]
  },
  {
   "cell_type": "code",
   "execution_count": 32,
   "id": "d1679544-c2f0-4479-9b51-a5175f0089ae",
   "metadata": {},
   "outputs": [],
   "source": [
    "class facebook(social_media):\n",
    "    def share_story(self):\n",
    "        return 'Sharing story on Facebook'\n",
    "    def go_live(self):\n",
    "        return 'Going Live on Facebook'"
   ]
  },
  {
   "cell_type": "code",
   "execution_count": 33,
   "id": "70690620-5612-40c2-808d-cf57b2024a19",
   "metadata": {},
   "outputs": [],
   "source": [
    "f= facebook()"
   ]
  },
  {
   "cell_type": "code",
   "execution_count": 34,
   "id": "e9ba77f8-47d5-4787-8d17-4af449eabb65",
   "metadata": {},
   "outputs": [
    {
     "data": {
      "text/plain": [
       "'Sharing story on Facebook'"
      ]
     },
     "execution_count": 34,
     "metadata": {},
     "output_type": "execute_result"
    }
   ],
   "source": [
    "f.share_story()"
   ]
  },
  {
   "cell_type": "code",
   "execution_count": 35,
   "id": "d033e3f0-db4b-4a98-a2da-2fa8900f0d98",
   "metadata": {},
   "outputs": [
    {
     "data": {
      "text/plain": [
       "'Going Live on Facebook'"
      ]
     },
     "execution_count": 35,
     "metadata": {},
     "output_type": "execute_result"
    }
   ],
   "source": [
    "f.go_live()"
   ]
  },
  {
   "cell_type": "raw",
   "id": "5aeb1743-bc1b-4038-ae90-fd136af0d0e8",
   "metadata": {},
   "source": [
    "# Special calls with examplke of smartphone -- > def click photo\n",
    "--> samsung --> click photo -->xyz\n",
    "--> iphone --> click photo -->"
   ]
  },
  {
   "cell_type": "code",
   "execution_count": null,
   "id": "52da6609-36a8-4349-8a5a-cd60500c09f2",
   "metadata": {},
   "outputs": [],
   "source": []
  }
 ],
 "metadata": {
  "kernelspec": {
   "display_name": "Python 3 (ipykernel)",
   "language": "python",
   "name": "python3"
  },
  "language_info": {
   "codemirror_mode": {
    "name": "ipython",
    "version": 3
   },
   "file_extension": ".py",
   "mimetype": "text/x-python",
   "name": "python",
   "nbconvert_exporter": "python",
   "pygments_lexer": "ipython3",
   "version": "3.12.4"
  }
 },
 "nbformat": 4,
 "nbformat_minor": 5
}
