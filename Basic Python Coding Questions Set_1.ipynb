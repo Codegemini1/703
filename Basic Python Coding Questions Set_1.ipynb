{
 "cells": [
  {
   "cell_type": "raw",
   "id": "9fcf2fc3-554c-4eeb-a8a2-9685592f0a5e",
   "metadata": {},
   "source": [
    " How would you convert one data type to another in Python? For example, an integer to a\n",
    "string."
   ]
  },
  {
   "cell_type": "code",
   "execution_count": 1,
   "id": "be6a8382-1747-4323-a5c9-d5273d7bcb5e",
   "metadata": {},
   "outputs": [],
   "source": [
    "a = 11 #int"
   ]
  },
  {
   "cell_type": "code",
   "execution_count": 2,
   "id": "b7a0b5d1-e07c-40da-a207-9fc06430b5a0",
   "metadata": {},
   "outputs": [
    {
     "data": {
      "text/plain": [
       "'11'"
      ]
     },
     "execution_count": 2,
     "metadata": {},
     "output_type": "execute_result"
    }
   ],
   "source": [
    "str(a) #str"
   ]
  },
  {
   "cell_type": "code",
   "execution_count": 3,
   "id": "e1e8d935-4b9b-4778-9339-e6c74a2cfa8b",
   "metadata": {},
   "outputs": [],
   "source": [
    "# Typecasting "
   ]
  },
  {
   "cell_type": "code",
   "execution_count": 4,
   "id": "118fd33e-7250-451e-b7ad-a66fc0024d45",
   "metadata": {},
   "outputs": [
    {
     "data": {
      "text/plain": [
       "'501'"
      ]
     },
     "execution_count": 4,
     "metadata": {},
     "output_type": "execute_result"
    }
   ],
   "source": [
    "str(501)"
   ]
  },
  {
   "cell_type": "code",
   "execution_count": 5,
   "id": "24a198d5-49ff-4c14-9b90-b458b5dab6c3",
   "metadata": {},
   "outputs": [],
   "source": [
    "# Str --> Int\n",
    "x = '101'"
   ]
  },
  {
   "cell_type": "code",
   "execution_count": 6,
   "id": "9f3b126e-cb60-421d-9161-e3c1e76e52f2",
   "metadata": {},
   "outputs": [
    {
     "data": {
      "text/plain": [
       "101"
      ]
     },
     "execution_count": 6,
     "metadata": {},
     "output_type": "execute_result"
    }
   ],
   "source": [
    "int(x)"
   ]
  },
  {
   "cell_type": "code",
   "execution_count": null,
   "id": "ef8784ab-1f25-449a-8917-8cae4b6169ce",
   "metadata": {},
   "outputs": [],
   "source": [
    " What is the difference between == and = in Python?\n",
    "In Python, = is an assignment operator that is used to assign a value to a variable. For example:"
   ]
  },
  {
   "cell_type": "code",
   "execution_count": 7,
   "id": "4b8d1a37-ba9f-4d2b-8ed0-ccd3d900f335",
   "metadata": {},
   "outputs": [
    {
     "data": {
      "text/plain": [
       "True"
      ]
     },
     "execution_count": 7,
     "metadata": {},
     "output_type": "execute_result"
    }
   ],
   "source": [
    "10 == 10 #Comparision operator"
   ]
  },
  {
   "cell_type": "code",
   "execution_count": 8,
   "id": "41876dbd-c2a9-4145-b004-05f47c1353a6",
   "metadata": {},
   "outputs": [],
   "source": [
    "x = 10 # Varible"
   ]
  },
  {
   "cell_type": "raw",
   "id": "580afe83-09bd-46ec-a8d1-c62fde5e971d",
   "metadata": {},
   "source": [
    " How does the modulus operator (%) work in Python?\n",
    "The modulus operator (%) returns the remainder of a division. For example"
   ]
  },
  {
   "cell_type": "code",
   "execution_count": 9,
   "id": "c4160327-af6f-4160-924f-bb5e1243fca1",
   "metadata": {},
   "outputs": [
    {
     "data": {
      "text/plain": [
       "0"
      ]
     },
     "execution_count": 9,
     "metadata": {},
     "output_type": "execute_result"
    }
   ],
   "source": [
    "10 % 2"
   ]
  },
  {
   "cell_type": "code",
   "execution_count": 10,
   "id": "73de2f6c-814b-4ad9-a89f-9f8a7243fa81",
   "metadata": {},
   "outputs": [
    {
     "data": {
      "text/plain": [
       "1"
      ]
     },
     "execution_count": 10,
     "metadata": {},
     "output_type": "execute_result"
    }
   ],
   "source": [
    "10 % 3"
   ]
  },
  {
   "cell_type": "markdown",
   "id": "df74933a-4533-4b28-9ddb-35f119db1ac6",
   "metadata": {},
   "source": [
    "What is type casting, and why is it important in Python?\n"
   ]
  },
  {
   "cell_type": "code",
   "execution_count": 11,
   "id": "9c51cbbb-2377-4bea-b6b5-66eba6bbc335",
   "metadata": {},
   "outputs": [
    {
     "data": {
      "text/plain": [
       "10"
      ]
     },
     "execution_count": 11,
     "metadata": {},
     "output_type": "execute_result"
    }
   ],
   "source": [
    "int('10')"
   ]
  },
  {
   "cell_type": "raw",
   "id": "9750e330-d2cb-48c2-bc6d-a9bc8b3d95dd",
   "metadata": {},
   "source": [
    " What will be the output of 3 * \"Hello\" in Python? Explain why."
   ]
  },
  {
   "cell_type": "code",
   "execution_count": 12,
   "id": "fa87dfbf-60be-456e-aa1f-4d589a3936af",
   "metadata": {},
   "outputs": [
    {
     "data": {
      "text/plain": [
       "'hellohellohello'"
      ]
     },
     "execution_count": 12,
     "metadata": {},
     "output_type": "execute_result"
    }
   ],
   "source": [
    "3 * \"hello\""
   ]
  },
  {
   "cell_type": "raw",
   "id": "9f60e32e-0c58-4e2b-9b60-82c7f6a07ead",
   "metadata": {},
   "source": [
    "What is string concatenation, and how would you do it in Python?"
   ]
  },
  {
   "cell_type": "code",
   "execution_count": 13,
   "id": "38a51daf-e823-4ce8-a87e-5b599a3812c8",
   "metadata": {},
   "outputs": [],
   "source": [
    "a = 'Data'\n",
    "b = 'Analysis'"
   ]
  },
  {
   "cell_type": "code",
   "execution_count": 14,
   "id": "4dc35d83-22c0-49bb-a697-719060941865",
   "metadata": {},
   "outputs": [
    {
     "name": "stdout",
     "output_type": "stream",
     "text": [
      "DataAnalysis\n"
     ]
    }
   ],
   "source": [
    "print(a + b)"
   ]
  },
  {
   "cell_type": "code",
   "execution_count": null,
   "id": "63840edc-0473-4a29-bbe3-6855859bfc9e",
   "metadata": {},
   "outputs": [],
   "source": []
  }
 ],
 "metadata": {
  "kernelspec": {
   "display_name": "Python 3 (ipykernel)",
   "language": "python",
   "name": "python3"
  },
  "language_info": {
   "codemirror_mode": {
    "name": "ipython",
    "version": 3
   },
   "file_extension": ".py",
   "mimetype": "text/x-python",
   "name": "python",
   "nbconvert_exporter": "python",
   "pygments_lexer": "ipython3",
   "version": "3.12.4"
  }
 },
 "nbformat": 4,
 "nbformat_minor": 5
}
