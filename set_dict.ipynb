{
 "cells": [
  {
   "cell_type": "code",
   "execution_count": 1,
   "id": "3b4feca4-4c08-4c61-8db8-55eb5934f93d",
   "metadata": {},
   "outputs": [],
   "source": [
    "mix_data = (1,2,3,4,(10.5,20.5,30.5), True,\"Hello\")"
   ]
  },
  {
   "cell_type": "code",
   "execution_count": 3,
   "id": "c59481fd-d929-40a2-8726-a6c8bd2a2bc0",
   "metadata": {},
   "outputs": [
    {
     "data": {
      "text/plain": [
       "(1, 2, 3, 4, (10.5, 20.5, 30.5), True, 'Hello')"
      ]
     },
     "execution_count": 3,
     "metadata": {},
     "output_type": "execute_result"
    }
   ],
   "source": [
    "mix_data"
   ]
  },
  {
   "cell_type": "code",
   "execution_count": 4,
   "id": "b2181521-9da8-4c28-99cf-2d6af7c91dc7",
   "metadata": {},
   "outputs": [
    {
     "data": {
      "text/plain": [
       "tuple"
      ]
     },
     "execution_count": 4,
     "metadata": {},
     "output_type": "execute_result"
    }
   ],
   "source": [
    "type(mix_data)"
   ]
  },
  {
   "cell_type": "code",
   "execution_count": 7,
   "id": "75c52690-6d4a-4b6e-8e04-81317da54596",
   "metadata": {},
   "outputs": [
    {
     "data": {
      "text/plain": [
       "(1, 2, 3)"
      ]
     },
     "execution_count": 7,
     "metadata": {},
     "output_type": "execute_result"
    }
   ],
   "source": [
    "mix_data[0:3] #If i have to use filter operation mainly we are going to use [start_Point : End point] bracket"
   ]
  },
  {
   "cell_type": "code",
   "execution_count": 8,
   "id": "9685d697-4f73-4e75-8de3-8ef9595cd372",
   "metadata": {},
   "outputs": [],
   "source": [
    "# Concatination operation b/w two tuples"
   ]
  },
  {
   "cell_type": "code",
   "execution_count": 9,
   "id": "28dfc6d0-3311-4419-af0b-1554113afbb1",
   "metadata": {},
   "outputs": [],
   "source": [
    "a = (10,20,30)"
   ]
  },
  {
   "cell_type": "code",
   "execution_count": 10,
   "id": "e0282644-3fce-4b5c-bc57-0bfe2cbdb500",
   "metadata": {},
   "outputs": [],
   "source": [
    "b = ('Hello','Python')"
   ]
  },
  {
   "cell_type": "code",
   "execution_count": 11,
   "id": "10768b93-259f-4a31-a960-93e3f8379908",
   "metadata": {},
   "outputs": [
    {
     "data": {
      "text/plain": [
       "tuple"
      ]
     },
     "execution_count": 11,
     "metadata": {},
     "output_type": "execute_result"
    }
   ],
   "source": [
    "type(a)"
   ]
  },
  {
   "cell_type": "code",
   "execution_count": 12,
   "id": "7a9526be-858d-40a0-b1f1-6e47e3d60f49",
   "metadata": {},
   "outputs": [
    {
     "data": {
      "text/plain": [
       "tuple"
      ]
     },
     "execution_count": 12,
     "metadata": {},
     "output_type": "execute_result"
    }
   ],
   "source": [
    "type(b)"
   ]
  },
  {
   "cell_type": "code",
   "execution_count": 13,
   "id": "d47a4182-6b47-4361-a761-27c75e4c1c50",
   "metadata": {},
   "outputs": [
    {
     "data": {
      "text/plain": [
       "(10, 20, 30, 'Hello', 'Python')"
      ]
     },
     "execution_count": 13,
     "metadata": {},
     "output_type": "execute_result"
    }
   ],
   "source": [
    "a + b"
   ]
  },
  {
   "cell_type": "code",
   "execution_count": 14,
   "id": "9852df59-d844-4aa5-8084-2ec766e87a9f",
   "metadata": {},
   "outputs": [],
   "source": [
    "result = a + b"
   ]
  },
  {
   "cell_type": "code",
   "execution_count": 15,
   "id": "f57f8bef-3a8b-411a-b3ce-049063122f17",
   "metadata": {},
   "outputs": [
    {
     "data": {
      "text/plain": [
       "(10, 20, 30, 'Hello', 'Python')"
      ]
     },
     "execution_count": 15,
     "metadata": {},
     "output_type": "execute_result"
    }
   ],
   "source": [
    "result"
   ]
  },
  {
   "cell_type": "code",
   "execution_count": 16,
   "id": "5fb91379-1653-4f3e-ba2c-0285136cad75",
   "metadata": {},
   "outputs": [
    {
     "data": {
      "text/plain": [
       "(10, 20, 30)"
      ]
     },
     "execution_count": 16,
     "metadata": {},
     "output_type": "execute_result"
    }
   ],
   "source": [
    "a"
   ]
  },
  {
   "cell_type": "code",
   "execution_count": 17,
   "id": "77fda36e-5d38-47f1-8724-675a8ea28d56",
   "metadata": {},
   "outputs": [
    {
     "data": {
      "text/plain": [
       "(10, 20, 30, 10, 20, 30, 10, 20, 30)"
      ]
     },
     "execution_count": 17,
     "metadata": {},
     "output_type": "execute_result"
    }
   ],
   "source": [
    "a * 3"
   ]
  },
  {
   "cell_type": "code",
   "execution_count": 18,
   "id": "4f87086e-c17d-4b96-b1f9-b208f94ecd9e",
   "metadata": {},
   "outputs": [],
   "source": [
    "# Not possible in tuple immutable"
   ]
  },
  {
   "cell_type": "code",
   "execution_count": 19,
   "id": "98010bcd-79e0-4c5a-a31d-e6c7144ca048",
   "metadata": {},
   "outputs": [
    {
     "data": {
      "text/plain": [
       "(10, 20, 30)"
      ]
     },
     "execution_count": 19,
     "metadata": {},
     "output_type": "execute_result"
    }
   ],
   "source": [
    "a"
   ]
  },
  {
   "cell_type": "code",
   "execution_count": 20,
   "id": "6fdfac3a-8146-4f6b-be40-a42befad8fad",
   "metadata": {},
   "outputs": [
    {
     "ename": "TypeError",
     "evalue": "'tuple' object does not support item assignment",
     "output_type": "error",
     "traceback": [
      "\u001b[1;31m---------------------------------------------------------------------------\u001b[0m",
      "\u001b[1;31mTypeError\u001b[0m                                 Traceback (most recent call last)",
      "Cell \u001b[1;32mIn[20], line 1\u001b[0m\n\u001b[1;32m----> 1\u001b[0m a[\u001b[38;5;241m1\u001b[39m] \u001b[38;5;241m=\u001b[39m \u001b[38;5;241m100\u001b[39m\n",
      "\u001b[1;31mTypeError\u001b[0m: 'tuple' object does not support item assignment"
     ]
    }
   ],
   "source": [
    "a[1] = 100"
   ]
  },
  {
   "cell_type": "code",
   "execution_count": 21,
   "id": "c4fadafb-ec15-49d7-90a0-cad244273e37",
   "metadata": {},
   "outputs": [],
   "source": [
    "# If WE have to change / Update tuple"
   ]
  },
  {
   "cell_type": "code",
   "execution_count": 22,
   "id": "9b03fd22-7bb8-45df-9130-5ec178e7429b",
   "metadata": {},
   "outputs": [],
   "source": [
    "a = list(a)"
   ]
  },
  {
   "cell_type": "code",
   "execution_count": 23,
   "id": "6751d6bc-66c8-431a-bf53-41d044a05f1b",
   "metadata": {},
   "outputs": [
    {
     "data": {
      "text/plain": [
       "[10, 20, 30]"
      ]
     },
     "execution_count": 23,
     "metadata": {},
     "output_type": "execute_result"
    }
   ],
   "source": [
    "a"
   ]
  },
  {
   "cell_type": "code",
   "execution_count": 24,
   "id": "54b9dfff-0514-4666-9383-fba2beddc74f",
   "metadata": {},
   "outputs": [],
   "source": [
    "a[1] = 100"
   ]
  },
  {
   "cell_type": "code",
   "execution_count": 25,
   "id": "7fc05d80-f0aa-4d12-982a-4bb9b48ed045",
   "metadata": {},
   "outputs": [
    {
     "data": {
      "text/plain": [
       "[10, 100, 30]"
      ]
     },
     "execution_count": 25,
     "metadata": {},
     "output_type": "execute_result"
    }
   ],
   "source": [
    "a"
   ]
  },
  {
   "cell_type": "code",
   "execution_count": 26,
   "id": "d4b8399a-6fee-406c-bd08-25731242c995",
   "metadata": {},
   "outputs": [],
   "source": [
    "a = tuple(a)"
   ]
  },
  {
   "cell_type": "code",
   "execution_count": 27,
   "id": "500c4311-7249-4fb5-927c-05c7fbda39fc",
   "metadata": {},
   "outputs": [
    {
     "data": {
      "text/plain": [
       "(10, 100, 30)"
      ]
     },
     "execution_count": 27,
     "metadata": {},
     "output_type": "execute_result"
    }
   ],
   "source": [
    "a"
   ]
  },
  {
   "cell_type": "code",
   "execution_count": 28,
   "id": "38771c37-c8c1-4903-8b49-40d4bcc28518",
   "metadata": {},
   "outputs": [
    {
     "data": {
      "text/plain": [
       "(1, 2, 3, 4, (10.5, 20.5, 30.5), True, 'Hello')"
      ]
     },
     "execution_count": 28,
     "metadata": {},
     "output_type": "execute_result"
    }
   ],
   "source": [
    "mix_data"
   ]
  },
  {
   "cell_type": "code",
   "execution_count": 29,
   "id": "04a38c1e-7145-47f4-bd72-0ab7a8f4b332",
   "metadata": {},
   "outputs": [
    {
     "data": {
      "text/plain": [
       "2"
      ]
     },
     "execution_count": 29,
     "metadata": {},
     "output_type": "execute_result"
    }
   ],
   "source": [
    "mix_data[1]"
   ]
  },
  {
   "cell_type": "code",
   "execution_count": 30,
   "id": "a8edb33e-006d-4fae-b6de-737c9a9ca912",
   "metadata": {},
   "outputs": [
    {
     "ename": "TypeError",
     "evalue": "'tuple' object does not support item assignment",
     "output_type": "error",
     "traceback": [
      "\u001b[1;31m---------------------------------------------------------------------------\u001b[0m",
      "\u001b[1;31mTypeError\u001b[0m                                 Traceback (most recent call last)",
      "Cell \u001b[1;32mIn[30], line 1\u001b[0m\n\u001b[1;32m----> 1\u001b[0m mix_data[\u001b[38;5;241m1\u001b[39m] \u001b[38;5;241m=\u001b[39m \u001b[38;5;241m200\u001b[39m\n",
      "\u001b[1;31mTypeError\u001b[0m: 'tuple' object does not support item assignment"
     ]
    }
   ],
   "source": [
    "mix_data[1] = 200"
   ]
  },
  {
   "cell_type": "code",
   "execution_count": 31,
   "id": "54162b29-eafa-44d0-aa4c-996114573a57",
   "metadata": {},
   "outputs": [
    {
     "data": {
      "text/plain": [
       "[1, 2, 3, 4, (10.5, 20.5, 30.5), True, 'Hello']"
      ]
     },
     "execution_count": 31,
     "metadata": {},
     "output_type": "execute_result"
    }
   ],
   "source": [
    "list(mix_data)"
   ]
  },
  {
   "cell_type": "code",
   "execution_count": 32,
   "id": "b10c0f61-dc07-4cd9-9519-a677cfa741d8",
   "metadata": {},
   "outputs": [],
   "source": [
    "mix_data = list(mix_data)"
   ]
  },
  {
   "cell_type": "code",
   "execution_count": 33,
   "id": "a95dbe68-7ae7-4397-852c-8088984e7fdf",
   "metadata": {},
   "outputs": [
    {
     "data": {
      "text/plain": [
       "[1, 2, 3, 4, (10.5, 20.5, 30.5), True, 'Hello']"
      ]
     },
     "execution_count": 33,
     "metadata": {},
     "output_type": "execute_result"
    }
   ],
   "source": [
    "mix_data"
   ]
  },
  {
   "cell_type": "code",
   "execution_count": 34,
   "id": "493ec2b3-f964-49c2-8f9b-e65685163a9a",
   "metadata": {},
   "outputs": [
    {
     "data": {
      "text/plain": [
       "2"
      ]
     },
     "execution_count": 34,
     "metadata": {},
     "output_type": "execute_result"
    }
   ],
   "source": [
    "mix_data[1]"
   ]
  },
  {
   "cell_type": "code",
   "execution_count": 35,
   "id": "ac129885-84a7-4a00-a8ea-bd0391df5c9b",
   "metadata": {},
   "outputs": [],
   "source": [
    "mix_data[1] = 200"
   ]
  },
  {
   "cell_type": "code",
   "execution_count": 36,
   "id": "911b622a-9978-45ec-b584-8b36bde68378",
   "metadata": {},
   "outputs": [
    {
     "data": {
      "text/plain": [
       "[1, 200, 3, 4, (10.5, 20.5, 30.5), True, 'Hello']"
      ]
     },
     "execution_count": 36,
     "metadata": {},
     "output_type": "execute_result"
    }
   ],
   "source": [
    "mix_data"
   ]
  },
  {
   "cell_type": "code",
   "execution_count": 37,
   "id": "e1f80d35-7a8c-4986-90b6-a0c635797c53",
   "metadata": {},
   "outputs": [
    {
     "data": {
      "text/plain": [
       "(1, 200, 3, 4, (10.5, 20.5, 30.5), True, 'Hello')"
      ]
     },
     "execution_count": 37,
     "metadata": {},
     "output_type": "execute_result"
    }
   ],
   "source": [
    "tuple(mix_data)"
   ]
  },
  {
   "cell_type": "code",
   "execution_count": 38,
   "id": "bd36c8b3-d386-4aae-ae97-23cb61b6536b",
   "metadata": {},
   "outputs": [],
   "source": [
    "mix_data = mix_data"
   ]
  },
  {
   "cell_type": "code",
   "execution_count": 39,
   "id": "d45938ac-e607-4927-bc6a-dbf356c4177d",
   "metadata": {},
   "outputs": [
    {
     "data": {
      "text/plain": [
       "[1, 200, 3, 4, (10.5, 20.5, 30.5), True, 'Hello']"
      ]
     },
     "execution_count": 39,
     "metadata": {},
     "output_type": "execute_result"
    }
   ],
   "source": [
    "mix_data"
   ]
  },
  {
   "cell_type": "code",
   "execution_count": 40,
   "id": "fb1ef944-0d5c-4237-abeb-cc9a091a08d4",
   "metadata": {},
   "outputs": [],
   "source": [
    "# Tuple --> List -->changes --> Tuple"
   ]
  },
  {
   "cell_type": "markdown",
   "id": "f8338ced-18c7-4b2d-bb82-1ced312fdfc8",
   "metadata": {},
   "source": [
    "# Set"
   ]
  },
  {
   "cell_type": "code",
   "execution_count": 41,
   "id": "c97daac9-7cb2-47dd-9e78-d514fed260e0",
   "metadata": {},
   "outputs": [],
   "source": [
    "a = {1,2,3,4}"
   ]
  },
  {
   "cell_type": "code",
   "execution_count": 42,
   "id": "fa4514e6-330e-46ba-b287-d5fe541b4f94",
   "metadata": {},
   "outputs": [
    {
     "data": {
      "text/plain": [
       "set"
      ]
     },
     "execution_count": 42,
     "metadata": {},
     "output_type": "execute_result"
    }
   ],
   "source": [
    "type(a)"
   ]
  },
  {
   "cell_type": "code",
   "execution_count": 43,
   "id": "e7f5181d-e44b-43c8-9192-3c7ab212ef0c",
   "metadata": {},
   "outputs": [],
   "source": [
    "b = {1,1,1,2,2,2,3,3,3}"
   ]
  },
  {
   "cell_type": "code",
   "execution_count": 44,
   "id": "bfee4783-eac2-4154-9acf-e6556abdbdef",
   "metadata": {},
   "outputs": [
    {
     "data": {
      "text/plain": [
       "{1, 2, 3}"
      ]
     },
     "execution_count": 44,
     "metadata": {},
     "output_type": "execute_result"
    }
   ],
   "source": [
    "b"
   ]
  },
  {
   "cell_type": "code",
   "execution_count": 45,
   "id": "41bf0bd0-fb33-4d48-ad71-866ed5f244b7",
   "metadata": {},
   "outputs": [],
   "source": [
    "# Add and remove elements"
   ]
  },
  {
   "cell_type": "code",
   "execution_count": 46,
   "id": "db44ca79-024c-44c1-a94f-8bfc95e944c6",
   "metadata": {},
   "outputs": [
    {
     "data": {
      "text/plain": [
       "{1, 2, 3}"
      ]
     },
     "execution_count": 46,
     "metadata": {},
     "output_type": "execute_result"
    }
   ],
   "source": [
    "b"
   ]
  },
  {
   "cell_type": "code",
   "execution_count": 47,
   "id": "0d72e464-559a-4a94-901d-a480c3a0e8d4",
   "metadata": {},
   "outputs": [],
   "source": [
    "b.add(10)"
   ]
  },
  {
   "cell_type": "code",
   "execution_count": 48,
   "id": "0d72dca1-7c38-45c2-a9d9-0578490ebc3e",
   "metadata": {},
   "outputs": [
    {
     "data": {
      "text/plain": [
       "{1, 2, 3, 10}"
      ]
     },
     "execution_count": 48,
     "metadata": {},
     "output_type": "execute_result"
    }
   ],
   "source": [
    "b"
   ]
  },
  {
   "cell_type": "code",
   "execution_count": 49,
   "id": "578018ff-d629-49d8-80ac-74e86660bca3",
   "metadata": {},
   "outputs": [],
   "source": [
    "b.add(12)"
   ]
  },
  {
   "cell_type": "code",
   "execution_count": 50,
   "id": "5709d016-48a9-469f-95b5-178b73a0e4dc",
   "metadata": {},
   "outputs": [
    {
     "data": {
      "text/plain": [
       "{1, 2, 3, 10, 12}"
      ]
     },
     "execution_count": 50,
     "metadata": {},
     "output_type": "execute_result"
    }
   ],
   "source": [
    "b"
   ]
  },
  {
   "cell_type": "code",
   "execution_count": 51,
   "id": "6dbbe9c9-8749-4183-ad25-7c1ee34c4af0",
   "metadata": {},
   "outputs": [],
   "source": [
    "b.remove(12)"
   ]
  },
  {
   "cell_type": "code",
   "execution_count": 52,
   "id": "009a131b-c468-4620-894f-aaa0167053c7",
   "metadata": {},
   "outputs": [
    {
     "data": {
      "text/plain": [
       "{1, 2, 3, 10}"
      ]
     },
     "execution_count": 52,
     "metadata": {},
     "output_type": "execute_result"
    }
   ],
   "source": [
    "b"
   ]
  },
  {
   "cell_type": "code",
   "execution_count": 53,
   "id": "fd0e8534-6886-45ae-8e2d-a9bdfde702a1",
   "metadata": {},
   "outputs": [
    {
     "ename": "KeyError",
     "evalue": "50",
     "output_type": "error",
     "traceback": [
      "\u001b[1;31m---------------------------------------------------------------------------\u001b[0m",
      "\u001b[1;31mKeyError\u001b[0m                                  Traceback (most recent call last)",
      "Cell \u001b[1;32mIn[53], line 1\u001b[0m\n\u001b[1;32m----> 1\u001b[0m b\u001b[38;5;241m.\u001b[39mremove(\u001b[38;5;241m50\u001b[39m)\n",
      "\u001b[1;31mKeyError\u001b[0m: 50"
     ]
    }
   ],
   "source": [
    "b.remove(50)"
   ]
  },
  {
   "cell_type": "code",
   "execution_count": 54,
   "id": "6c4d9615-ff32-4012-bcbb-aa4a039f15f2",
   "metadata": {},
   "outputs": [
    {
     "data": {
      "text/plain": [
       "1"
      ]
     },
     "execution_count": 54,
     "metadata": {},
     "output_type": "execute_result"
    }
   ],
   "source": [
    "b.pop()"
   ]
  },
  {
   "cell_type": "code",
   "execution_count": 55,
   "id": "64c67575-8188-47f9-be1b-9201aa5fcb00",
   "metadata": {},
   "outputs": [
    {
     "data": {
      "text/plain": [
       "{2, 3, 10}"
      ]
     },
     "execution_count": 55,
     "metadata": {},
     "output_type": "execute_result"
    }
   ],
   "source": [
    "b"
   ]
  },
  {
   "cell_type": "code",
   "execution_count": 56,
   "id": "d22c775b-eb2b-4dea-98ff-2109bcc084ac",
   "metadata": {},
   "outputs": [],
   "source": [
    "set_1 = {1,2,3,4,5,6}"
   ]
  },
  {
   "cell_type": "code",
   "execution_count": 57,
   "id": "6b41c9d0-9529-4ba0-8361-ba35af57b61a",
   "metadata": {},
   "outputs": [],
   "source": [
    "set_2 = {4,5,6,7,8,9}"
   ]
  },
  {
   "cell_type": "code",
   "execution_count": 58,
   "id": "71c07355-849b-4aee-b86f-2332a7310be6",
   "metadata": {},
   "outputs": [],
   "source": [
    "# union"
   ]
  },
  {
   "cell_type": "code",
   "execution_count": 59,
   "id": "02722354-fd7f-45bf-ad81-a440b6b409ac",
   "metadata": {},
   "outputs": [
    {
     "data": {
      "text/plain": [
       "{1, 2, 3, 4, 5, 6, 7, 8, 9}"
      ]
     },
     "execution_count": 59,
     "metadata": {},
     "output_type": "execute_result"
    }
   ],
   "source": [
    "set_1.union(set_2)"
   ]
  },
  {
   "cell_type": "code",
   "execution_count": 60,
   "id": "6f2d2298-28ec-4974-9002-1bd2f3eb09a2",
   "metadata": {},
   "outputs": [],
   "source": [
    "## Intersection"
   ]
  },
  {
   "cell_type": "markdown",
   "id": "32718ca5-09f6-450a-a8c4-5a5b79533f5d",
   "metadata": {},
   "source": [
    "set_1.intersection(set_2)"
   ]
  },
  {
   "cell_type": "code",
   "execution_count": 62,
   "id": "7d803fcb-d0a9-41e5-b386-89c73f6c5ecf",
   "metadata": {},
   "outputs": [
    {
     "data": {
      "text/plain": [
       "{1, 2, 3}"
      ]
     },
     "execution_count": 62,
     "metadata": {},
     "output_type": "execute_result"
    }
   ],
   "source": [
    "set_1.difference(set_2)"
   ]
  },
  {
   "cell_type": "code",
   "execution_count": 63,
   "id": "adfa7090-51be-490a-bac4-4ba4acec47e2",
   "metadata": {},
   "outputs": [
    {
     "data": {
      "text/plain": [
       "{7, 8, 9}"
      ]
     },
     "execution_count": 63,
     "metadata": {},
     "output_type": "execute_result"
    }
   ],
   "source": [
    "set_2.difference(set_1)"
   ]
  },
  {
   "cell_type": "code",
   "execution_count": 64,
   "id": "a0b9d398-c2fe-4d0e-ad8e-a679f681997f",
   "metadata": {},
   "outputs": [],
   "source": [
    "# Symmetric difference"
   ]
  },
  {
   "cell_type": "code",
   "execution_count": 65,
   "id": "914d2450-2ee3-42a0-b61b-0066b8975022",
   "metadata": {},
   "outputs": [
    {
     "data": {
      "text/plain": [
       "{1, 2, 3, 7, 8, 9}"
      ]
     },
     "execution_count": 65,
     "metadata": {},
     "output_type": "execute_result"
    }
   ],
   "source": [
    "set_1.symmetric_difference(set_2)"
   ]
  },
  {
   "cell_type": "markdown",
   "id": "868eef7b-3b14-42b1-8d28-fe972f1c4250",
   "metadata": {},
   "source": [
    "# Dictionary"
   ]
  },
  {
   "cell_type": "code",
   "execution_count": 66,
   "id": "e871bd34-fa17-44f7-b243-bc6d5da71ee2",
   "metadata": {},
   "outputs": [],
   "source": [
    "student = {'Name':'Vaibhav', 'age':37, 'class':8}"
   ]
  },
  {
   "cell_type": "code",
   "execution_count": 67,
   "id": "4f58f21d-9bbd-4ce4-9426-3da4243e58fe",
   "metadata": {},
   "outputs": [
    {
     "data": {
      "text/plain": [
       "{'Name': 'Vaibhav', 'age': 37, 'class': 8}"
      ]
     },
     "execution_count": 67,
     "metadata": {},
     "output_type": "execute_result"
    }
   ],
   "source": [
    "student"
   ]
  },
  {
   "cell_type": "code",
   "execution_count": 68,
   "id": "59dcdfa4-3ce8-4b21-9f2c-19acd89dfd6c",
   "metadata": {},
   "outputs": [
    {
     "data": {
      "text/plain": [
       "dict"
      ]
     },
     "execution_count": 68,
     "metadata": {},
     "output_type": "execute_result"
    }
   ],
   "source": [
    "type(student)"
   ]
  },
  {
   "cell_type": "code",
   "execution_count": 69,
   "id": "223e118e-ed92-4ca8-82ff-636e5a7f57b6",
   "metadata": {},
   "outputs": [
    {
     "data": {
      "text/plain": [
       "dict_keys(['Name', 'age', 'class'])"
      ]
     },
     "execution_count": 69,
     "metadata": {},
     "output_type": "execute_result"
    }
   ],
   "source": [
    "student.keys()"
   ]
  },
  {
   "cell_type": "code",
   "execution_count": 70,
   "id": "7867faec-6aa7-49c7-a389-a6f467603727",
   "metadata": {},
   "outputs": [
    {
     "data": {
      "text/plain": [
       "dict_values(['Vaibhav', 37, 8])"
      ]
     },
     "execution_count": 70,
     "metadata": {},
     "output_type": "execute_result"
    }
   ],
   "source": [
    "student.values()"
   ]
  },
  {
   "cell_type": "code",
   "execution_count": 71,
   "id": "ce0aed1d-b86b-4e28-a1e8-9c57444da58d",
   "metadata": {},
   "outputs": [],
   "source": [
    "# Filter operation in dict"
   ]
  },
  {
   "cell_type": "code",
   "execution_count": 72,
   "id": "e376d11a-c6ab-4c45-be1c-b6805a055515",
   "metadata": {},
   "outputs": [
    {
     "data": {
      "text/plain": [
       "'Vaibhav'"
      ]
     },
     "execution_count": 72,
     "metadata": {},
     "output_type": "execute_result"
    }
   ],
   "source": [
    "student['Name']"
   ]
  },
  {
   "cell_type": "code",
   "execution_count": 73,
   "id": "f21f22cd-83e3-4990-83b9-e4b0e63928d4",
   "metadata": {},
   "outputs": [
    {
     "data": {
      "text/plain": [
       "37"
      ]
     },
     "execution_count": 73,
     "metadata": {},
     "output_type": "execute_result"
    }
   ],
   "source": [
    "student['age']"
   ]
  },
  {
   "cell_type": "code",
   "execution_count": 74,
   "id": "178721e9-5c16-41a9-a68f-069a8bd2b198",
   "metadata": {},
   "outputs": [],
   "source": [
    "# Accesing by using get() "
   ]
  },
  {
   "cell_type": "code",
   "execution_count": 75,
   "id": "c9a72bf4-8a42-456a-b93d-5cc4ccae7b3a",
   "metadata": {},
   "outputs": [
    {
     "data": {
      "text/plain": [
       "37"
      ]
     },
     "execution_count": 75,
     "metadata": {},
     "output_type": "execute_result"
    }
   ],
   "source": [
    "student.get('age')"
   ]
  },
  {
   "cell_type": "code",
   "execution_count": 76,
   "id": "76ebe803-ae73-4d84-aeea-8d4a9a2f911e",
   "metadata": {},
   "outputs": [
    {
     "data": {
      "text/plain": [
       "'Vaibhav'"
      ]
     },
     "execution_count": 76,
     "metadata": {},
     "output_type": "execute_result"
    }
   ],
   "source": [
    "student.get('Name')"
   ]
  },
  {
   "cell_type": "code",
   "execution_count": 77,
   "id": "c377387d-db04-437f-b770-ca73b5ee2db1",
   "metadata": {},
   "outputs": [],
   "source": [
    "# Update dict"
   ]
  },
  {
   "cell_type": "code",
   "execution_count": 78,
   "id": "3c58774a-0b5c-420d-9e96-43ea7a56e357",
   "metadata": {},
   "outputs": [
    {
     "data": {
      "text/plain": [
       "{'Name': 'Vaibhav', 'age': 37, 'class': 8}"
      ]
     },
     "execution_count": 78,
     "metadata": {},
     "output_type": "execute_result"
    }
   ],
   "source": [
    "student"
   ]
  },
  {
   "cell_type": "code",
   "execution_count": 79,
   "id": "45dc5313-ba6a-4f36-8cb6-3e07b8470a90",
   "metadata": {},
   "outputs": [
    {
     "data": {
      "text/plain": [
       "37"
      ]
     },
     "execution_count": 79,
     "metadata": {},
     "output_type": "execute_result"
    }
   ],
   "source": [
    "student['age']"
   ]
  },
  {
   "cell_type": "code",
   "execution_count": 80,
   "id": "4ede6b14-4c74-4378-bc69-61c97d2186b3",
   "metadata": {},
   "outputs": [],
   "source": [
    "student['age'] = 48"
   ]
  },
  {
   "cell_type": "code",
   "execution_count": 81,
   "id": "666b2911-c7c5-4e8a-a187-ead4d23b1df1",
   "metadata": {},
   "outputs": [
    {
     "data": {
      "text/plain": [
       "{'Name': 'Vaibhav', 'age': 48, 'class': 8}"
      ]
     },
     "execution_count": 81,
     "metadata": {},
     "output_type": "execute_result"
    }
   ],
   "source": [
    "student"
   ]
  },
  {
   "cell_type": "code",
   "execution_count": 82,
   "id": "c1d87d98-4bd8-487a-a0d5-df2b1e7e337f",
   "metadata": {},
   "outputs": [],
   "source": [
    "mix_dict = {'A':[1,2,3,4,5], 'B':(10,202,30), 'C':{1,2,3,4,5,6} }"
   ]
  },
  {
   "cell_type": "code",
   "execution_count": 83,
   "id": "b2ed7e4f-6e01-4e43-86a2-316372e67e37",
   "metadata": {},
   "outputs": [
    {
     "data": {
      "text/plain": [
       "{'A': [1, 2, 3, 4, 5], 'B': (10, 202, 30), 'C': {1, 2, 3, 4, 5, 6}}"
      ]
     },
     "execution_count": 83,
     "metadata": {},
     "output_type": "execute_result"
    }
   ],
   "source": [
    "mix_dict"
   ]
  },
  {
   "cell_type": "code",
   "execution_count": null,
   "id": "a1c9746c-29fd-4824-a4ed-e0f27672443a",
   "metadata": {},
   "outputs": [],
   "source": []
  }
 ],
 "metadata": {
  "kernelspec": {
   "display_name": "Python 3 (ipykernel)",
   "language": "python",
   "name": "python3"
  },
  "language_info": {
   "codemirror_mode": {
    "name": "ipython",
    "version": 3
   },
   "file_extension": ".py",
   "mimetype": "text/x-python",
   "name": "python",
   "nbconvert_exporter": "python",
   "pygments_lexer": "ipython3",
   "version": "3.12.4"
  }
 },
 "nbformat": 4,
 "nbformat_minor": 5
}
