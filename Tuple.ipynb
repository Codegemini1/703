{
 "cells": [
  {
   "cell_type": "code",
   "execution_count": 1,
   "id": "a21e9799-44ea-4662-8d4e-78c97e2decd6",
   "metadata": {},
   "outputs": [],
   "source": [
    "names = ['Om','Sham','ramesh','suresh']"
   ]
  },
  {
   "cell_type": "code",
   "execution_count": 2,
   "id": "a05b2ff9-cc3c-4cfc-abb6-bf8d3a00fae9",
   "metadata": {},
   "outputs": [],
   "source": [
    "l = [1,2,3,4,5]"
   ]
  },
  {
   "cell_type": "code",
   "execution_count": 3,
   "id": "fd309b63-66a0-4130-a5e0-e7ab58be8c98",
   "metadata": {},
   "outputs": [
    {
     "data": {
      "text/plain": [
       "['Om', 'Sham', 'ramesh', 'suresh']"
      ]
     },
     "execution_count": 3,
     "metadata": {},
     "output_type": "execute_result"
    }
   ],
   "source": [
    "names"
   ]
  },
  {
   "cell_type": "code",
   "execution_count": 4,
   "id": "c17fde7e-aafa-4456-955b-9bb545e2509f",
   "metadata": {},
   "outputs": [
    {
     "data": {
      "text/plain": [
       "1"
      ]
     },
     "execution_count": 4,
     "metadata": {},
     "output_type": "execute_result"
    }
   ],
   "source": [
    "l.count(2)"
   ]
  },
  {
   "cell_type": "code",
   "execution_count": 5,
   "id": "27321f98-42d4-4abc-accd-eaf79dc616a6",
   "metadata": {},
   "outputs": [],
   "source": [
    "l = [1,2,3,4,5,1,1,1,2,3,3,3,5]"
   ]
  },
  {
   "cell_type": "code",
   "execution_count": 6,
   "id": "0afeb732-533c-4bea-9ca5-adb9e470c62d",
   "metadata": {},
   "outputs": [
    {
     "data": {
      "text/plain": [
       "4"
      ]
     },
     "execution_count": 6,
     "metadata": {},
     "output_type": "execute_result"
    }
   ],
   "source": [
    "l.count(1)"
   ]
  },
  {
   "cell_type": "code",
   "execution_count": 7,
   "id": "b82697f3-ed5e-457f-b8ab-ab0505f7136f",
   "metadata": {},
   "outputs": [
    {
     "data": {
      "text/plain": [
       "2"
      ]
     },
     "execution_count": 7,
     "metadata": {},
     "output_type": "execute_result"
    }
   ],
   "source": [
    "l.count(2)"
   ]
  },
  {
   "cell_type": "code",
   "execution_count": 8,
   "id": "9715161a-7cb7-473a-a9c3-9537d7bc1ac5",
   "metadata": {},
   "outputs": [
    {
     "data": {
      "text/plain": [
       "4"
      ]
     },
     "execution_count": 8,
     "metadata": {},
     "output_type": "execute_result"
    }
   ],
   "source": [
    "l.count(3)"
   ]
  },
  {
   "cell_type": "code",
   "execution_count": 9,
   "id": "672c0511-22d8-48f5-aeb4-71cadb9a1e1b",
   "metadata": {},
   "outputs": [
    {
     "data": {
      "text/plain": [
       "2"
      ]
     },
     "execution_count": 9,
     "metadata": {},
     "output_type": "execute_result"
    }
   ],
   "source": [
    "l.count(5)"
   ]
  },
  {
   "cell_type": "code",
   "execution_count": 10,
   "id": "ca60bc29-c558-4c6c-9d39-143aa6eb5eff",
   "metadata": {},
   "outputs": [],
   "source": [
    "l.sort()"
   ]
  },
  {
   "cell_type": "code",
   "execution_count": 11,
   "id": "e3ab5abc-346c-448a-8a27-e9858f008975",
   "metadata": {},
   "outputs": [
    {
     "data": {
      "text/plain": [
       "[1, 1, 1, 1, 2, 2, 3, 3, 3, 3, 4, 5, 5]"
      ]
     },
     "execution_count": 11,
     "metadata": {},
     "output_type": "execute_result"
    }
   ],
   "source": [
    "l"
   ]
  },
  {
   "cell_type": "code",
   "execution_count": 12,
   "id": "f6de7c9a-2baa-4c2e-ba95-948384aa3f4f",
   "metadata": {},
   "outputs": [],
   "source": [
    "l.remove(1)"
   ]
  },
  {
   "cell_type": "code",
   "execution_count": 13,
   "id": "ce045665-99c8-4f80-aa39-d0284cba131c",
   "metadata": {},
   "outputs": [
    {
     "data": {
      "text/plain": [
       "[1, 1, 1, 2, 2, 3, 3, 3, 3, 4, 5, 5]"
      ]
     },
     "execution_count": 13,
     "metadata": {},
     "output_type": "execute_result"
    }
   ],
   "source": [
    "l"
   ]
  },
  {
   "cell_type": "code",
   "execution_count": 14,
   "id": "8348c37c-ada3-4b15-b40d-3a53516fbb93",
   "metadata": {},
   "outputs": [
    {
     "data": {
      "text/plain": [
       "5"
      ]
     },
     "execution_count": 14,
     "metadata": {},
     "output_type": "execute_result"
    }
   ],
   "source": [
    "l.pop() # pop is going to remove last object of list"
   ]
  },
  {
   "cell_type": "code",
   "execution_count": 15,
   "id": "37e70d5e-04d4-4467-b0b2-5a693e918fa8",
   "metadata": {},
   "outputs": [
    {
     "data": {
      "text/plain": [
       "[1, 1, 1, 2, 2, 3, 3, 3, 3, 4, 5]"
      ]
     },
     "execution_count": 15,
     "metadata": {},
     "output_type": "execute_result"
    }
   ],
   "source": [
    "l"
   ]
  },
  {
   "cell_type": "code",
   "execution_count": 16,
   "id": "5b288ec1-ad53-41cd-88cd-58240a7da16f",
   "metadata": {},
   "outputs": [
    {
     "data": {
      "text/plain": [
       "10"
      ]
     },
     "execution_count": 16,
     "metadata": {},
     "output_type": "execute_result"
    }
   ],
   "source": [
    "l.index(5)"
   ]
  },
  {
   "cell_type": "code",
   "execution_count": 17,
   "id": "dfbe16f7-574f-422c-b83e-95e10efff6ac",
   "metadata": {},
   "outputs": [
    {
     "data": {
      "text/plain": [
       "0"
      ]
     },
     "execution_count": 17,
     "metadata": {},
     "output_type": "execute_result"
    }
   ],
   "source": [
    "l.index(1) # For duplicate values it is going to show as nearest index number"
   ]
  },
  {
   "cell_type": "code",
   "execution_count": 18,
   "id": "5cd19d58-7c1c-4073-9a73-15783b20dd60",
   "metadata": {},
   "outputs": [
    {
     "data": {
      "text/plain": [
       "3"
      ]
     },
     "execution_count": 18,
     "metadata": {},
     "output_type": "execute_result"
    }
   ],
   "source": [
    "l.index(2)"
   ]
  },
  {
   "cell_type": "code",
   "execution_count": 24,
   "id": "413f4db5-a370-405d-9b31-fc379b996d34",
   "metadata": {},
   "outputs": [
    {
     "data": {
      "text/plain": [
       "['Om', 'Sham', 'ramesh', 'suresh']"
      ]
     },
     "execution_count": 24,
     "metadata": {},
     "output_type": "execute_result"
    }
   ],
   "source": [
    "names"
   ]
  },
  {
   "cell_type": "code",
   "execution_count": 27,
   "id": "f2adeeb3-dbc1-4e35-959a-05d27ef48fe2",
   "metadata": {},
   "outputs": [],
   "source": [
    "names.insert(1,'Rock')"
   ]
  },
  {
   "cell_type": "code",
   "execution_count": 28,
   "id": "2e82d4f1-5789-48a9-91ea-00cc894fc741",
   "metadata": {},
   "outputs": [
    {
     "data": {
      "text/plain": [
       "['Om', 'Rock', 'Sham', 'ramesh', 'suresh']"
      ]
     },
     "execution_count": 28,
     "metadata": {},
     "output_type": "execute_result"
    }
   ],
   "source": [
    "names"
   ]
  },
  {
   "cell_type": "code",
   "execution_count": 29,
   "id": "0ebf4983-fe93-4b62-a387-eeac1749ace5",
   "metadata": {},
   "outputs": [
    {
     "data": {
      "text/plain": [
       "[1, 'Rock', 1, 1, 2, 2, 3, 3, 3, 3, 4, 5]"
      ]
     },
     "execution_count": 29,
     "metadata": {},
     "output_type": "execute_result"
    }
   ],
   "source": [
    "l"
   ]
  },
  {
   "cell_type": "code",
   "execution_count": 30,
   "id": "b19e8f9c-3662-4db9-b170-8f1cb7812e99",
   "metadata": {},
   "outputs": [],
   "source": [
    "l.insert(1,'hello')"
   ]
  },
  {
   "cell_type": "code",
   "execution_count": 31,
   "id": "b6f62cfa-eb2c-430b-99b9-d86f78b89b70",
   "metadata": {},
   "outputs": [
    {
     "data": {
      "text/plain": [
       "[1, 'hello', 'Rock', 1, 1, 2, 2, 3, 3, 3, 3, 4, 5]"
      ]
     },
     "execution_count": 31,
     "metadata": {},
     "output_type": "execute_result"
    }
   ],
   "source": [
    "l"
   ]
  },
  {
   "cell_type": "code",
   "execution_count": 32,
   "id": "4fa4db5f-23ab-42cc-9f57-3055fb90fe94",
   "metadata": {},
   "outputs": [
    {
     "data": {
      "text/plain": [
       "[5, 4, 3, 3, 3, 3, 2, 2, 1, 1, 'Rock', 'hello', 1]"
      ]
     },
     "execution_count": 32,
     "metadata": {},
     "output_type": "execute_result"
    }
   ],
   "source": [
    "l[::-1]"
   ]
  },
  {
   "cell_type": "code",
   "execution_count": 33,
   "id": "f2aa08e7-5bb5-4d92-8a1f-5cce6794871a",
   "metadata": {},
   "outputs": [
    {
     "data": {
      "text/plain": [
       "[1, 'hello', 'Rock', 1, 1, 2, 2, 3, 3, 3, 3, 4, 5]"
      ]
     },
     "execution_count": 33,
     "metadata": {},
     "output_type": "execute_result"
    }
   ],
   "source": [
    "l"
   ]
  },
  {
   "cell_type": "code",
   "execution_count": 34,
   "id": "17b92ee8-0077-4659-bb7b-5d598c4d99e1",
   "metadata": {},
   "outputs": [],
   "source": [
    "l.reverse()"
   ]
  },
  {
   "cell_type": "code",
   "execution_count": 35,
   "id": "51520181-eb59-4f68-9f62-3ebdf08acc1a",
   "metadata": {},
   "outputs": [
    {
     "data": {
      "text/plain": [
       "[5, 4, 3, 3, 3, 3, 2, 2, 1, 1, 'Rock', 'hello', 1]"
      ]
     },
     "execution_count": 35,
     "metadata": {},
     "output_type": "execute_result"
    }
   ],
   "source": [
    "l"
   ]
  },
  {
   "cell_type": "code",
   "execution_count": 36,
   "id": "8c1ce672-b5d4-48c6-99bd-6d08ea948e28",
   "metadata": {},
   "outputs": [],
   "source": [
    "# Copy "
   ]
  },
  {
   "cell_type": "code",
   "execution_count": 37,
   "id": "faa6fd9a-6971-45cb-b42b-1c96b23f65c2",
   "metadata": {},
   "outputs": [
    {
     "data": {
      "text/plain": [
       "['Om', 'Rock', 'Sham', 'ramesh', 'suresh']"
      ]
     },
     "execution_count": 37,
     "metadata": {},
     "output_type": "execute_result"
    }
   ],
   "source": [
    "names"
   ]
  },
  {
   "cell_type": "code",
   "execution_count": 38,
   "id": "0d87e636-2637-4fee-a1f4-ccf39a18798a",
   "metadata": {},
   "outputs": [],
   "source": [
    "names_copy = names #Shallow_copy"
   ]
  },
  {
   "cell_type": "code",
   "execution_count": 39,
   "id": "6b6321a4-6aa9-4862-a03a-db7fcbd1881b",
   "metadata": {},
   "outputs": [
    {
     "data": {
      "text/plain": [
       "['Om', 'Rock', 'Sham', 'ramesh', 'suresh']"
      ]
     },
     "execution_count": 39,
     "metadata": {},
     "output_type": "execute_result"
    }
   ],
   "source": [
    "names_copy"
   ]
  },
  {
   "cell_type": "code",
   "execution_count": 40,
   "id": "594d4e2f-70da-4a86-ab87-f37be9f1ddf1",
   "metadata": {},
   "outputs": [
    {
     "data": {
      "text/plain": [
       "['Om', 'Rock', 'Sham', 'ramesh', 'suresh']"
      ]
     },
     "execution_count": 40,
     "metadata": {},
     "output_type": "execute_result"
    }
   ],
   "source": [
    "names"
   ]
  },
  {
   "cell_type": "code",
   "execution_count": 41,
   "id": "83e8ffb7-b082-4d49-8a5a-4a1a340f0f38",
   "metadata": {},
   "outputs": [],
   "source": [
    "names.remove('Rock')"
   ]
  },
  {
   "cell_type": "code",
   "execution_count": 42,
   "id": "33b63777-b9da-49dc-b382-e1e3cd2122c0",
   "metadata": {},
   "outputs": [
    {
     "data": {
      "text/plain": [
       "['Om', 'Sham', 'ramesh', 'suresh']"
      ]
     },
     "execution_count": 42,
     "metadata": {},
     "output_type": "execute_result"
    }
   ],
   "source": [
    "names"
   ]
  },
  {
   "cell_type": "code",
   "execution_count": 43,
   "id": "192b87ac-593a-46e6-bc25-85b17de2716b",
   "metadata": {},
   "outputs": [
    {
     "data": {
      "text/plain": [
       "['Om', 'Sham', 'ramesh', 'suresh']"
      ]
     },
     "execution_count": 43,
     "metadata": {},
     "output_type": "execute_result"
    }
   ],
   "source": [
    "names_copy"
   ]
  },
  {
   "cell_type": "code",
   "execution_count": 44,
   "id": "82fca130-5b2c-46bb-bf57-6362f6d7c291",
   "metadata": {},
   "outputs": [
    {
     "data": {
      "text/plain": [
       "[5, 4, 3, 3, 3, 3, 2, 2, 1, 1, 'Rock', 'hello', 1]"
      ]
     },
     "execution_count": 44,
     "metadata": {},
     "output_type": "execute_result"
    }
   ],
   "source": [
    "l"
   ]
  },
  {
   "cell_type": "code",
   "execution_count": 45,
   "id": "eb45caf8-d89c-4e39-ba1d-1341f3bbca8a",
   "metadata": {},
   "outputs": [],
   "source": [
    "l_copy = l.copy() #Deep copy"
   ]
  },
  {
   "cell_type": "code",
   "execution_count": 46,
   "id": "39e98038-e3c7-4071-aa7f-a0216806e762",
   "metadata": {},
   "outputs": [
    {
     "data": {
      "text/plain": [
       "[5, 4, 3, 3, 3, 3, 2, 2, 1, 1, 'Rock', 'hello', 1]"
      ]
     },
     "execution_count": 46,
     "metadata": {},
     "output_type": "execute_result"
    }
   ],
   "source": [
    "l_copy"
   ]
  },
  {
   "cell_type": "code",
   "execution_count": 47,
   "id": "4ec45877-2a47-4e64-8f69-7d95b5b20996",
   "metadata": {},
   "outputs": [
    {
     "data": {
      "text/plain": [
       "[5, 4, 3, 3, 3, 3, 2, 2, 1, 1, 'Rock', 'hello', 1]"
      ]
     },
     "execution_count": 47,
     "metadata": {},
     "output_type": "execute_result"
    }
   ],
   "source": [
    "l"
   ]
  },
  {
   "cell_type": "code",
   "execution_count": 48,
   "id": "e32c83dd-3ec4-4011-91f2-f7ec843ab27a",
   "metadata": {},
   "outputs": [],
   "source": [
    "l.remove('hello')"
   ]
  },
  {
   "cell_type": "code",
   "execution_count": 49,
   "id": "ec2bedde-3742-40a3-8ec3-2eb1b3459305",
   "metadata": {},
   "outputs": [
    {
     "data": {
      "text/plain": [
       "[5, 4, 3, 3, 3, 3, 2, 2, 1, 1, 'Rock', 1]"
      ]
     },
     "execution_count": 49,
     "metadata": {},
     "output_type": "execute_result"
    }
   ],
   "source": [
    "l"
   ]
  },
  {
   "cell_type": "code",
   "execution_count": 50,
   "id": "67d6a7c1-753a-47b2-ae65-863a2e95b10b",
   "metadata": {},
   "outputs": [
    {
     "data": {
      "text/plain": [
       "[5, 4, 3, 3, 3, 3, 2, 2, 1, 1, 'Rock', 'hello', 1]"
      ]
     },
     "execution_count": 50,
     "metadata": {},
     "output_type": "execute_result"
    }
   ],
   "source": [
    "l_copy"
   ]
  },
  {
   "cell_type": "markdown",
   "id": "7601013b-0388-459b-acf7-6d503ef37655",
   "metadata": {},
   "source": [
    "# Tuple"
   ]
  },
  {
   "cell_type": "markdown",
   "id": "db624f06-c7e6-4fb6-9169-4dd5c6e025aa",
   "metadata": {},
   "source": [
    "Tuple is written in paranthesis ().\n",
    "Tuple is immutable/ Unchengeble."
   ]
  },
  {
   "cell_type": "code",
   "execution_count": 51,
   "id": "dde41eb2-42a9-46d5-b3ba-d97884ec67b0",
   "metadata": {},
   "outputs": [],
   "source": [
    "t = (1,2,3,4)"
   ]
  },
  {
   "cell_type": "code",
   "execution_count": 52,
   "id": "8b2e1998-300b-49b2-a345-622725decf8c",
   "metadata": {},
   "outputs": [
    {
     "data": {
      "text/plain": [
       "(1, 2, 3, 4)"
      ]
     },
     "execution_count": 52,
     "metadata": {},
     "output_type": "execute_result"
    }
   ],
   "source": [
    "t"
   ]
  },
  {
   "cell_type": "code",
   "execution_count": 53,
   "id": "8706b3aa-ef81-4c9c-948b-8accf84a288a",
   "metadata": {},
   "outputs": [],
   "source": [
    "# How access dataset from tuple"
   ]
  },
  {
   "cell_type": "code",
   "execution_count": 54,
   "id": "d2ae9bbb-5e70-44d8-be1f-65b4a22c5e5a",
   "metadata": {},
   "outputs": [
    {
     "data": {
      "text/plain": [
       "1"
      ]
     },
     "execution_count": 54,
     "metadata": {},
     "output_type": "execute_result"
    }
   ],
   "source": [
    "t[0]"
   ]
  },
  {
   "cell_type": "code",
   "execution_count": 55,
   "id": "7cae8aa2-3cde-482a-bda1-bb9baae63cb5",
   "metadata": {},
   "outputs": [
    {
     "data": {
      "text/plain": [
       "2"
      ]
     },
     "execution_count": 55,
     "metadata": {},
     "output_type": "execute_result"
    }
   ],
   "source": [
    "t[1]"
   ]
  },
  {
   "cell_type": "code",
   "execution_count": 56,
   "id": "4a0abb87-be13-4698-8db4-f00a738ab6de",
   "metadata": {},
   "outputs": [
    {
     "data": {
      "text/plain": [
       "4"
      ]
     },
     "execution_count": 56,
     "metadata": {},
     "output_type": "execute_result"
    }
   ],
   "source": [
    "t[3]"
   ]
  },
  {
   "cell_type": "code",
   "execution_count": 57,
   "id": "d614e209-87a2-4418-95e7-1ef6c45b1c4d",
   "metadata": {},
   "outputs": [
    {
     "ename": "TypeError",
     "evalue": "'tuple' object does not support item assignment",
     "output_type": "error",
     "traceback": [
      "\u001b[1;31m---------------------------------------------------------------------------\u001b[0m",
      "\u001b[1;31mTypeError\u001b[0m                                 Traceback (most recent call last)",
      "Cell \u001b[1;32mIn[57], line 1\u001b[0m\n\u001b[1;32m----> 1\u001b[0m t[\u001b[38;5;241m1\u001b[39m] \u001b[38;5;241m=\u001b[39m \u001b[38;5;241m100\u001b[39m\n",
      "\u001b[1;31mTypeError\u001b[0m: 'tuple' object does not support item assignment"
     ]
    }
   ],
   "source": [
    "t[1] = 100"
   ]
  },
  {
   "cell_type": "code",
   "execution_count": 59,
   "id": "4e1ec68b-9d6b-4caa-9c1e-cddef61ff84e",
   "metadata": {},
   "outputs": [
    {
     "data": {
      "text/plain": [
       "1"
      ]
     },
     "execution_count": 59,
     "metadata": {},
     "output_type": "execute_result"
    }
   ],
   "source": [
    "t.count(1)"
   ]
  },
  {
   "cell_type": "code",
   "execution_count": 61,
   "id": "7bdf83f8-e743-4192-9662-fa006e8bbbf5",
   "metadata": {},
   "outputs": [
    {
     "data": {
      "text/plain": [
       "3"
      ]
     },
     "execution_count": 61,
     "metadata": {},
     "output_type": "execute_result"
    }
   ],
   "source": [
    "t.index(4)"
   ]
  },
  {
   "cell_type": "code",
   "execution_count": 62,
   "id": "83528322-5223-4b77-a84b-db64660f38b8",
   "metadata": {},
   "outputs": [],
   "source": [
    "d = ('Hello', 'Python', 10 )"
   ]
  },
  {
   "cell_type": "code",
   "execution_count": 63,
   "id": "951b9f4b-206f-43ba-b688-98827597524d",
   "metadata": {},
   "outputs": [
    {
     "data": {
      "text/plain": [
       "('Hello', 'Python', 10)"
      ]
     },
     "execution_count": 63,
     "metadata": {},
     "output_type": "execute_result"
    }
   ],
   "source": [
    "d"
   ]
  },
  {
   "cell_type": "code",
   "execution_count": 64,
   "id": "36db2ffc-1876-456f-b953-7570f48e4b06",
   "metadata": {},
   "outputs": [],
   "source": [
    "# How to chenge one data strecture to another"
   ]
  },
  {
   "cell_type": "code",
   "execution_count": 65,
   "id": "0c93984d-99dc-4975-b164-7d206e7290f7",
   "metadata": {},
   "outputs": [
    {
     "data": {
      "text/plain": [
       "('Hello', 'Python', 10)"
      ]
     },
     "execution_count": 65,
     "metadata": {},
     "output_type": "execute_result"
    }
   ],
   "source": [
    "d"
   ]
  },
  {
   "cell_type": "code",
   "execution_count": 66,
   "id": "87b06c57-8210-40f5-8d66-e2c0f72e7319",
   "metadata": {},
   "outputs": [
    {
     "data": {
      "text/plain": [
       "tuple"
      ]
     },
     "execution_count": 66,
     "metadata": {},
     "output_type": "execute_result"
    }
   ],
   "source": [
    "type(d)"
   ]
  },
  {
   "cell_type": "code",
   "execution_count": 67,
   "id": "0716c404-dedf-42e4-a0c6-0da28362cef4",
   "metadata": {},
   "outputs": [],
   "source": [
    "# Convert tuple --> List data "
   ]
  },
  {
   "cell_type": "code",
   "execution_count": 68,
   "id": "3c479455-d84c-4058-a8bb-4d019aa2e231",
   "metadata": {},
   "outputs": [
    {
     "data": {
      "text/plain": [
       "['Hello', 'Python', 10]"
      ]
     },
     "execution_count": 68,
     "metadata": {},
     "output_type": "execute_result"
    }
   ],
   "source": [
    "list(d)"
   ]
  },
  {
   "cell_type": "code",
   "execution_count": 69,
   "id": "70f7f9cf-8fdc-4c9e-9a9f-5c5445dd30e4",
   "metadata": {},
   "outputs": [
    {
     "data": {
      "text/plain": [
       "['Om', 'Sham', 'ramesh', 'suresh']"
      ]
     },
     "execution_count": 69,
     "metadata": {},
     "output_type": "execute_result"
    }
   ],
   "source": [
    "names"
   ]
  },
  {
   "cell_type": "code",
   "execution_count": 70,
   "id": "97954e33-754d-4753-bb21-5432fb76d31b",
   "metadata": {},
   "outputs": [],
   "source": [
    "#List --> Tuple "
   ]
  },
  {
   "cell_type": "code",
   "execution_count": 71,
   "id": "18022d40-f723-41a1-b26d-4f22e17f998b",
   "metadata": {},
   "outputs": [
    {
     "data": {
      "text/plain": [
       "('Om', 'Sham', 'ramesh', 'suresh')"
      ]
     },
     "execution_count": 71,
     "metadata": {},
     "output_type": "execute_result"
    }
   ],
   "source": [
    "tuple(names)"
   ]
  },
  {
   "cell_type": "code",
   "execution_count": 72,
   "id": "8f925768-53ed-42f3-abc9-4524caf09b8a",
   "metadata": {},
   "outputs": [
    {
     "data": {
      "text/plain": [
       "('Hello', 'Python', 10)"
      ]
     },
     "execution_count": 72,
     "metadata": {},
     "output_type": "execute_result"
    }
   ],
   "source": [
    "d"
   ]
  },
  {
   "cell_type": "code",
   "execution_count": 73,
   "id": "5472f95b-6544-4ff5-ae71-6871380eaa86",
   "metadata": {},
   "outputs": [
    {
     "data": {
      "text/plain": [
       "('Hello', 'Python', 10, 'Hello', 'Python', 10, 'Hello', 'Python', 10)"
      ]
     },
     "execution_count": 73,
     "metadata": {},
     "output_type": "execute_result"
    }
   ],
   "source": [
    "d * 3"
   ]
  },
  {
   "cell_type": "code",
   "execution_count": 74,
   "id": "d0f8ffdc-9467-4e52-8fa6-196ebffabc87",
   "metadata": {},
   "outputs": [],
   "source": [
    "# Nested tuple"
   ]
  },
  {
   "cell_type": "code",
   "execution_count": 75,
   "id": "34897236-eed6-4139-b4b6-1b3c5280355d",
   "metadata": {},
   "outputs": [],
   "source": [
    "k = (10,202,30,(100,200,300),40,50)"
   ]
  },
  {
   "cell_type": "code",
   "execution_count": 76,
   "id": "b03051f4-6441-4696-a461-a44baaac7edb",
   "metadata": {},
   "outputs": [
    {
     "data": {
      "text/plain": [
       "(10, 202, 30, (100, 200, 300), 40, 50)"
      ]
     },
     "execution_count": 76,
     "metadata": {},
     "output_type": "execute_result"
    }
   ],
   "source": [
    "k"
   ]
  },
  {
   "cell_type": "code",
   "execution_count": 77,
   "id": "9912484d-4cbd-432e-85a6-c653c28e0c36",
   "metadata": {},
   "outputs": [
    {
     "data": {
      "text/plain": [
       "(100, 200, 300)"
      ]
     },
     "execution_count": 77,
     "metadata": {},
     "output_type": "execute_result"
    }
   ],
   "source": [
    "k[3]"
   ]
  },
  {
   "cell_type": "code",
   "execution_count": 78,
   "id": "76db1120-c47f-4a3d-af5f-4bbb88b85fb4",
   "metadata": {},
   "outputs": [
    {
     "data": {
      "text/plain": [
       "300"
      ]
     },
     "execution_count": 78,
     "metadata": {},
     "output_type": "execute_result"
    }
   ],
   "source": [
    "k[3][2]"
   ]
  },
  {
   "cell_type": "code",
   "execution_count": 79,
   "id": "c25a5784-a096-40cf-a434-8a05c79bc52a",
   "metadata": {},
   "outputs": [
    {
     "data": {
      "text/plain": [
       "(10, 202, 30, (100, 200, 300), 40, 50)"
      ]
     },
     "execution_count": 79,
     "metadata": {},
     "output_type": "execute_result"
    }
   ],
   "source": [
    "k"
   ]
  },
  {
   "cell_type": "code",
   "execution_count": 80,
   "id": "2558c71a-d3d5-401c-9a92-5a9863f19776",
   "metadata": {},
   "outputs": [
    {
     "data": {
      "text/plain": [
       "tuple"
      ]
     },
     "execution_count": 80,
     "metadata": {},
     "output_type": "execute_result"
    }
   ],
   "source": [
    "type(k)"
   ]
  },
  {
   "cell_type": "code",
   "execution_count": 81,
   "id": "2917613a-a1aa-4d79-bb01-d44236380816",
   "metadata": {},
   "outputs": [
    {
     "data": {
      "text/plain": [
       "[10, 202, 30, (100, 200, 300), 40, 50]"
      ]
     },
     "execution_count": 81,
     "metadata": {},
     "output_type": "execute_result"
    }
   ],
   "source": [
    "list(k)"
   ]
  },
  {
   "cell_type": "code",
   "execution_count": null,
   "id": "727e2a33-5eb4-4453-bda5-74fbc1ec01c4",
   "metadata": {},
   "outputs": [],
   "source": []
  }
 ],
 "metadata": {
  "kernelspec": {
   "display_name": "Python 3 (ipykernel)",
   "language": "python",
   "name": "python3"
  },
  "language_info": {
   "codemirror_mode": {
    "name": "ipython",
    "version": 3
   },
   "file_extension": ".py",
   "mimetype": "text/x-python",
   "name": "python",
   "nbconvert_exporter": "python",
   "pygments_lexer": "ipython3",
   "version": "3.12.4"
  }
 },
 "nbformat": 4,
 "nbformat_minor": 5
}
