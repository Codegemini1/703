{
 "cells": [
  {
   "cell_type": "code",
   "execution_count": 1,
   "id": "f97bb50c-85f0-4e0b-8e4e-6befe3beb77a",
   "metadata": {},
   "outputs": [],
   "source": [
    "class test():\n",
    "    def __init__(self, a,b):\n",
    "        self.a = a\n",
    "        self.b = b"
   ]
  },
  {
   "cell_type": "code",
   "execution_count": 2,
   "id": "5dcd09d4-0173-456d-951b-12eac4cadf41",
   "metadata": {},
   "outputs": [],
   "source": [
    "obj = test(10,5)"
   ]
  },
  {
   "cell_type": "code",
   "execution_count": 3,
   "id": "7d94fc35-c521-43d6-bde0-26c5b2ff1c6c",
   "metadata": {},
   "outputs": [
    {
     "data": {
      "text/plain": [
       "10"
      ]
     },
     "execution_count": 3,
     "metadata": {},
     "output_type": "execute_result"
    }
   ],
   "source": [
    "obj.a"
   ]
  },
  {
   "cell_type": "code",
   "execution_count": 4,
   "id": "a0be68c4-e777-4fe7-8b7c-5e2a4424554f",
   "metadata": {},
   "outputs": [
    {
     "data": {
      "text/plain": [
       "5"
      ]
     },
     "execution_count": 4,
     "metadata": {},
     "output_type": "execute_result"
    }
   ],
   "source": [
    "obj.b"
   ]
  },
  {
   "cell_type": "code",
   "execution_count": 5,
   "id": "853b97e9-81ed-408e-b027-9f2d9e73cc92",
   "metadata": {},
   "outputs": [],
   "source": [
    "class car():\n",
    "    def __init__(self, Model, Engine, Color): # Constructor : Way to pass data to class\n",
    "        self.Model = Model\n",
    "        self.Engine = Engine\n",
    "        self.Color = Color"
   ]
  },
  {
   "cell_type": "code",
   "execution_count": 6,
   "id": "9fb74010-fde4-42ae-9e6d-d5326764b08b",
   "metadata": {},
   "outputs": [],
   "source": [
    "Nexon = car('SUV', 1500, 'White')"
   ]
  },
  {
   "cell_type": "code",
   "execution_count": 7,
   "id": "5733ef6f-7100-4c25-878b-268894663089",
   "metadata": {},
   "outputs": [
    {
     "data": {
      "text/plain": [
       "'SUV'"
      ]
     },
     "execution_count": 7,
     "metadata": {},
     "output_type": "execute_result"
    }
   ],
   "source": [
    "Nexon.Model"
   ]
  },
  {
   "cell_type": "code",
   "execution_count": 8,
   "id": "2339bbff-0105-4edc-ae43-ceea5c5831ed",
   "metadata": {},
   "outputs": [
    {
     "data": {
      "text/plain": [
       "1500"
      ]
     },
     "execution_count": 8,
     "metadata": {},
     "output_type": "execute_result"
    }
   ],
   "source": [
    "Nexon.Engine"
   ]
  },
  {
   "cell_type": "code",
   "execution_count": 9,
   "id": "6a533b58-13d9-485c-99da-5a94dfeb0be9",
   "metadata": {},
   "outputs": [
    {
     "data": {
      "text/plain": [
       "'White'"
      ]
     },
     "execution_count": 9,
     "metadata": {},
     "output_type": "execute_result"
    }
   ],
   "source": [
    "Nexon.Color"
   ]
  },
  {
   "cell_type": "code",
   "execution_count": 11,
   "id": "25fc8b5e-3615-4527-afdd-69bf4cd80441",
   "metadata": {},
   "outputs": [],
   "source": [
    "Fortuner = car('SUV', 2000, 'Black')"
   ]
  },
  {
   "cell_type": "code",
   "execution_count": 12,
   "id": "6daf8f70-2c67-4a10-84ab-0d532fb4388a",
   "metadata": {},
   "outputs": [
    {
     "data": {
      "text/plain": [
       "'Black'"
      ]
     },
     "execution_count": 12,
     "metadata": {},
     "output_type": "execute_result"
    }
   ],
   "source": [
    "Fortuner.Color"
   ]
  },
  {
   "cell_type": "code",
   "execution_count": 13,
   "id": "6961485a-4e6a-4640-a534-afb0ce556976",
   "metadata": {},
   "outputs": [
    {
     "data": {
      "text/plain": [
       "2000"
      ]
     },
     "execution_count": 13,
     "metadata": {},
     "output_type": "execute_result"
    }
   ],
   "source": [
    "Fortuner.Engine"
   ]
  },
  {
   "cell_type": "code",
   "execution_count": 14,
   "id": "1bcdd59c-c47b-4e92-bfbf-1a9a9c96bd6e",
   "metadata": {},
   "outputs": [
    {
     "data": {
      "text/plain": [
       "'SUV'"
      ]
     },
     "execution_count": 14,
     "metadata": {},
     "output_type": "execute_result"
    }
   ],
   "source": [
    "Fortuner.Model"
   ]
  },
  {
   "cell_type": "code",
   "execution_count": null,
   "id": "31419c62-c898-4d5f-92be-90e4463f2bc0",
   "metadata": {},
   "outputs": [],
   "source": []
  }
 ],
 "metadata": {
  "kernelspec": {
   "display_name": "Python 3 (ipykernel)",
   "language": "python",
   "name": "python3"
  },
  "language_info": {
   "codemirror_mode": {
    "name": "ipython",
    "version": 3
   },
   "file_extension": ".py",
   "mimetype": "text/x-python",
   "name": "python",
   "nbconvert_exporter": "python",
   "pygments_lexer": "ipython3",
   "version": "3.12.4"
  }
 },
 "nbformat": 4,
 "nbformat_minor": 5
}
