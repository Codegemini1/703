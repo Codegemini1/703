{
 "cells": [
  {
   "cell_type": "code",
   "execution_count": 2,
   "id": "054a1033-184c-476e-a706-9f6506508464",
   "metadata": {},
   "outputs": [],
   "source": [
    " # Find out int type of data from multiple arguments"
   ]
  },
  {
   "cell_type": "code",
   "execution_count": 3,
   "id": "95903283-bb3e-46b8-b0ee-9c844292c94e",
   "metadata": {},
   "outputs": [],
   "source": [
    "def int_filter(*args):\n",
    "    l = []\n",
    "    for i in args:\n",
    "        if type(i) == int:\n",
    "            l.append(i)\n",
    "    return l"
   ]
  },
  {
   "cell_type": "code",
   "execution_count": 4,
   "id": "947fe51c-4e84-47cd-8852-6f2d6ba6e5cf",
   "metadata": {},
   "outputs": [
    {
     "data": {
      "text/plain": [
       "[1, 2]"
      ]
     },
     "execution_count": 4,
     "metadata": {},
     "output_type": "execute_result"
    }
   ],
   "source": [
    "int_filter(1,2,4.5,True, 10.5, 'Hello', 10+5j)"
   ]
  },
  {
   "cell_type": "code",
   "execution_count": 5,
   "id": "fa2fc613-91eb-4cf6-9c43-8eb38575a010",
   "metadata": {},
   "outputs": [],
   "source": [
    "def test(a,*args):\n",
    "    return a, args\n",
    "    "
   ]
  },
  {
   "cell_type": "code",
   "execution_count": 6,
   "id": "b5d125c9-3b3e-4a7c-855b-eec2e20df30a",
   "metadata": {},
   "outputs": [
    {
     "data": {
      "text/plain": [
       "(100, (1, 2, 3, 4, 5, 5, 6, 7, 4, 6, 3, 4))"
      ]
     },
     "execution_count": 6,
     "metadata": {},
     "output_type": "execute_result"
    }
   ],
   "source": [
    "test(100,1,2,3,4,5,5,6,7,4,6,3,4)"
   ]
  },
  {
   "cell_type": "code",
   "execution_count": 7,
   "id": "a83153c5-e5e0-4bbe-87ac-d9e5f5b49247",
   "metadata": {},
   "outputs": [],
   "source": [
    "def test2(x,y,*args):\n",
    "    return x, y, args"
   ]
  },
  {
   "cell_type": "code",
   "execution_count": 8,
   "id": "0e111ef8-5cc2-4b6b-948c-0031fa669265",
   "metadata": {},
   "outputs": [
    {
     "data": {
      "text/plain": [
       "(1, 2, (3, 4, 5, 6, 7, 8, 9, 10))"
      ]
     },
     "execution_count": 8,
     "metadata": {},
     "output_type": "execute_result"
    }
   ],
   "source": [
    "test2(1,2,3,4,5,6,7,8,9,10)"
   ]
  },
  {
   "cell_type": "code",
   "execution_count": 9,
   "id": "de4ee915-841d-43b4-a320-db1f423a797b",
   "metadata": {},
   "outputs": [],
   "source": [
    "# Find out list type of data from *args"
   ]
  },
  {
   "cell_type": "code",
   "execution_count": 10,
   "id": "9f6e2944-884a-49a1-8d5a-c965811222b3",
   "metadata": {},
   "outputs": [],
   "source": [
    "def list_filter(*args):\n",
    "    l = []\n",
    "    for i in args:\n",
    "        if type(i) == list:\n",
    "            l.append(i)\n",
    "    return l"
   ]
  },
  {
   "cell_type": "code",
   "execution_count": 11,
   "id": "ecd71901-d8ca-4839-b86a-e5a0f0421a49",
   "metadata": {},
   "outputs": [
    {
     "data": {
      "text/plain": [
       "[[10, 20, 30]]"
      ]
     },
     "execution_count": 11,
     "metadata": {},
     "output_type": "execute_result"
    }
   ],
   "source": [
    "list_filter(1,1.5,\"hello\", [10,20,30], (1,2,3))"
   ]
  },
  {
   "cell_type": "code",
   "execution_count": 12,
   "id": "fa0e945c-fac5-40e6-9e80-4de29946c331",
   "metadata": {},
   "outputs": [],
   "source": [
    "# Dicti\n",
    "# Kwargs"
   ]
  },
  {
   "cell_type": "code",
   "execution_count": 15,
   "id": "e7106cd6-9bbb-4d45-8b36-e23e4a9a46a7",
   "metadata": {},
   "outputs": [],
   "source": [
    "def test3(**kwargs):\n",
    "    return kwargs"
   ]
  },
  {
   "cell_type": "code",
   "execution_count": 16,
   "id": "9de4e6de-8270-4368-89d3-2d5940aecf07",
   "metadata": {},
   "outputs": [
    {
     "data": {
      "text/plain": [
       "{'a': 5, 'b': 10, 'c': 34}"
      ]
     },
     "execution_count": 16,
     "metadata": {},
     "output_type": "execute_result"
    }
   ],
   "source": [
    "test3(a=5,b=10,c=34)"
   ]
  },
  {
   "cell_type": "code",
   "execution_count": 19,
   "id": "98491cb8-0077-46f6-8548-a192adbb7913",
   "metadata": {},
   "outputs": [
    {
     "data": {
      "text/plain": [
       "{'Name': 'Vaibhav', 'City': 'Pune', 'Age': 45}"
      ]
     },
     "execution_count": 19,
     "metadata": {},
     "output_type": "execute_result"
    }
   ],
   "source": [
    "test3(Name='Vaibhav', City='Pune', Age=45)"
   ]
  },
  {
   "cell_type": "code",
   "execution_count": 20,
   "id": "7c3d97ed-908c-4a8e-9fe0-bfbdf29ec7aa",
   "metadata": {},
   "outputs": [],
   "source": [
    "# Combination of args and kwargs"
   ]
  },
  {
   "cell_type": "code",
   "execution_count": 23,
   "id": "3c8d535c-03e0-44e4-b6e2-ecdccf7ebc8b",
   "metadata": {},
   "outputs": [],
   "source": [
    "def test4(*args,**kwargs):\n",
    "    return args,kwargs"
   ]
  },
  {
   "cell_type": "code",
   "execution_count": 24,
   "id": "81142e12-9064-495d-939c-ae27f50ca7b8",
   "metadata": {},
   "outputs": [
    {
     "data": {
      "text/plain": [
       "((1, 2, 3, 4, 5, 32, 5, 4, 5), {'a': 10, 'b': 8, 'c': 9})"
      ]
     },
     "execution_count": 24,
     "metadata": {},
     "output_type": "execute_result"
    }
   ],
   "source": [
    "test4(1,2,3,4,5,32,5,4,5,a=10,b=8,c=9)"
   ]
  },
  {
   "cell_type": "code",
   "execution_count": 25,
   "id": "e10fea83-a98a-44b4-b790-6cdf38c32a26",
   "metadata": {},
   "outputs": [],
   "source": [
    "def test5(a,*args,**kwargs):\n",
    "    return a,args, kwargs"
   ]
  },
  {
   "cell_type": "code",
   "execution_count": 26,
   "id": "5ec42cc2-2d7f-4581-8e10-8615cf0c92df",
   "metadata": {},
   "outputs": [
    {
     "data": {
      "text/plain": [
       "(1, (2, 3, 4, 5, 6, 7, 8), {'k': 6, 'p': 3, 'j': 6, 'l': 9})"
      ]
     },
     "execution_count": 26,
     "metadata": {},
     "output_type": "execute_result"
    }
   ],
   "source": [
    "test5(1,2,3,4,5,6,7,8,k=6,p=3,j=6,l=9)"
   ]
  },
  {
   "cell_type": "code",
   "execution_count": null,
   "id": "07dbcd6c-baf3-437d-a14b-465a87113f5a",
   "metadata": {},
   "outputs": [],
   "source": []
  }
 ],
 "metadata": {
  "kernelspec": {
   "display_name": "Python 3 (ipykernel)",
   "language": "python",
   "name": "python3"
  },
  "language_info": {
   "codemirror_mode": {
    "name": "ipython",
    "version": 3
   },
   "file_extension": ".py",
   "mimetype": "text/x-python",
   "name": "python",
   "nbconvert_exporter": "python",
   "pygments_lexer": "ipython3",
   "version": "3.12.4"
  }
 },
 "nbformat": 4,
 "nbformat_minor": 5
}
