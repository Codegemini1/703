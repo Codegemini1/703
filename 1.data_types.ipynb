{
 "cells": [
  {
   "cell_type": "markdown",
   "id": "d6b2edf3-ca52-43a1-b514-406b25610ad9",
   "metadata": {},
   "source": [
    "# Data Types"
   ]
  },
  {
   "cell_type": "markdown",
   "id": "8acb4d77-7009-46e1-8749-be5422444321",
   "metadata": {},
   "source": [
    "# 1. Integer"
   ]
  },
  {
   "cell_type": "raw",
   "id": "5ddb4dee-4ea8-4d9f-b1a9-da7fda003f43",
   "metadata": {},
   "source": [
    "Integer is complete Number.\n",
    "Eg: No of family members\n",
    "--> 4,6,2,3\n",
    "Eg: No of bank Accounts\n",
    "--> 3,2,4"
   ]
  },
  {
   "cell_type": "code",
   "execution_count": 1,
   "id": "4766a72e-e6e3-4bc1-9256-21399c5f217f",
   "metadata": {},
   "outputs": [
    {
     "data": {
      "text/plain": [
       "10"
      ]
     },
     "execution_count": 1,
     "metadata": {},
     "output_type": "execute_result"
    }
   ],
   "source": [
    "10"
   ]
  },
  {
   "cell_type": "code",
   "execution_count": 2,
   "id": "35482e00-20b6-4b00-9481-f0b6e8b26d46",
   "metadata": {},
   "outputs": [
    {
     "data": {
      "text/plain": [
       "int"
      ]
     },
     "execution_count": 2,
     "metadata": {},
     "output_type": "execute_result"
    }
   ],
   "source": [
    "type(10)"
   ]
  },
  {
   "cell_type": "code",
   "execution_count": 3,
   "id": "c2ea7c78-72ba-4056-8f72-7a03aad37a86",
   "metadata": {},
   "outputs": [
    {
     "data": {
      "text/plain": [
       "int"
      ]
     },
     "execution_count": 3,
     "metadata": {},
     "output_type": "execute_result"
    }
   ],
   "source": [
    "type(4)"
   ]
  },
  {
   "cell_type": "markdown",
   "id": "979aa90f-99e3-4501-bbf1-ca5c8efca0c7",
   "metadata": {},
   "source": [
    "# 2.Float"
   ]
  },
  {
   "cell_type": "raw",
   "id": "9d1ca5b0-d721-481b-aba3-08174a764717",
   "metadata": {},
   "source": [
    "Values in decimal format\n",
    "Eg: Height\n",
    "-->6.1,5.5\n",
    "Eg: Weight\n",
    "--> 60.300, 30.100"
   ]
  },
  {
   "cell_type": "code",
   "execution_count": 4,
   "id": "888e714b-441f-491a-a795-a2368e2b0e58",
   "metadata": {},
   "outputs": [
    {
     "data": {
      "text/plain": [
       "6.1"
      ]
     },
     "execution_count": 4,
     "metadata": {},
     "output_type": "execute_result"
    }
   ],
   "source": [
    "6.1"
   ]
  },
  {
   "cell_type": "code",
   "execution_count": 5,
   "id": "51750db1-0449-45da-a8cb-4ba667031a69",
   "metadata": {},
   "outputs": [
    {
     "data": {
      "text/plain": [
       "float"
      ]
     },
     "execution_count": 5,
     "metadata": {},
     "output_type": "execute_result"
    }
   ],
   "source": [
    "type(6.1)"
   ]
  },
  {
   "cell_type": "code",
   "execution_count": 6,
   "id": "5dc398d0-2d3f-40bb-9e82-d4ba24803dfd",
   "metadata": {},
   "outputs": [
    {
     "data": {
      "text/plain": [
       "float"
      ]
     },
     "execution_count": 6,
     "metadata": {},
     "output_type": "execute_result"
    }
   ],
   "source": [
    "type(40.200)"
   ]
  },
  {
   "cell_type": "markdown",
   "id": "0a5cf2ab-fac1-4931-b74a-86b8844cfaea",
   "metadata": {},
   "source": [
    "# 3.Complex Number"
   ]
  },
  {
   "cell_type": "raw",
   "id": "3e4ea02b-8067-4168-85da-dbc472cd9df2",
   "metadata": {},
   "source": [
    "Values in vector format.\n",
    "Eg:--> 10 + 5j"
   ]
  },
  {
   "cell_type": "code",
   "execution_count": 8,
   "id": "a37c3064-7030-4b5a-9884-66f631105423",
   "metadata": {},
   "outputs": [
    {
     "data": {
      "text/plain": [
       "(10+5j)"
      ]
     },
     "execution_count": 8,
     "metadata": {},
     "output_type": "execute_result"
    }
   ],
   "source": [
    "10 + 5j"
   ]
  },
  {
   "cell_type": "code",
   "execution_count": 9,
   "id": "6e67c630-2a0a-40ad-a6c7-f91b8e535740",
   "metadata": {},
   "outputs": [
    {
     "data": {
      "text/plain": [
       "complex"
      ]
     },
     "execution_count": 9,
     "metadata": {},
     "output_type": "execute_result"
    }
   ],
   "source": [
    "type(10+5j)"
   ]
  },
  {
   "cell_type": "markdown",
   "id": "58755705-d734-44dd-a547-2d177dd758ec",
   "metadata": {},
   "source": [
    "# 4.String"
   ]
  },
  {
   "cell_type": "markdown",
   "id": "51c13a34-c150-4304-b25b-433b16eb1849",
   "metadata": {},
   "source": [
    "words, sentences, alpha"
   ]
  },
  {
   "cell_type": "code",
   "execution_count": null,
   "id": "a213e0ea-0195-4f71-9367-dd40fa4f6b00",
   "metadata": {},
   "outputs": [],
   "source": [
    "1.Rule --> ' ', \" \"\n",
    "2.Rule2 --> \"\"\"  \n",
    "\n",
    "            \"\"\""
   ]
  },
  {
   "cell_type": "code",
   "execution_count": 10,
   "id": "1e3b0539-9033-4dd9-8e6c-13a77bff2ed4",
   "metadata": {},
   "outputs": [
    {
     "data": {
      "text/plain": [
       "'Hello Python'"
      ]
     },
     "execution_count": 10,
     "metadata": {},
     "output_type": "execute_result"
    }
   ],
   "source": [
    "'Hello Python'"
   ]
  },
  {
   "cell_type": "code",
   "execution_count": 11,
   "id": "f30c14c2-8c77-42bd-98e8-6600d2e659e3",
   "metadata": {},
   "outputs": [
    {
     "name": "stdout",
     "output_type": "stream",
     "text": [
      "Hello Python\n"
     ]
    }
   ],
   "source": [
    "print('Hello Python')"
   ]
  },
  {
   "cell_type": "code",
   "execution_count": 12,
   "id": "f423a707-4100-4ff6-9699-65cb63c0d533",
   "metadata": {},
   "outputs": [
    {
     "name": "stdout",
     "output_type": "stream",
     "text": [
      "Hey Python\n"
     ]
    }
   ],
   "source": [
    "print(\"Hey Python\")"
   ]
  },
  {
   "cell_type": "markdown",
   "id": "6499ff08-3ae5-46bf-bbff-309945c9ce0d",
   "metadata": {},
   "source": [
    "How to write multiple Sentences"
   ]
  },
  {
   "cell_type": "code",
   "execution_count": 13,
   "id": "d0037d5a-2fc7-42b3-b71e-3055c8a6e0e1",
   "metadata": {},
   "outputs": [
    {
     "data": {
      "text/plain": [
       "'This is my line 1.\\nThis is my line 2.\\nThis is my line 3.'"
      ]
     },
     "execution_count": 13,
     "metadata": {},
     "output_type": "execute_result"
    }
   ],
   "source": [
    "\"\"\"This is my line 1.\n",
    "This is my line 2.\n",
    "This is my line 3.\"\"\""
   ]
  },
  {
   "cell_type": "code",
   "execution_count": 14,
   "id": "9d397542-da47-4d65-9a0b-8a3fed5616e1",
   "metadata": {},
   "outputs": [
    {
     "name": "stdout",
     "output_type": "stream",
     "text": [
      "This is my line 1.\n",
      "This is my line 2.\n",
      "This is my line 3.\n"
     ]
    }
   ],
   "source": [
    "print(\"\"\"This is my line 1.\n",
    "This is my line 2.\n",
    "This is my line 3.\"\"\")"
   ]
  },
  {
   "cell_type": "code",
   "execution_count": 15,
   "id": "62837ac6-4bae-4d07-94f1-867641b37013",
   "metadata": {},
   "outputs": [
    {
     "data": {
      "text/plain": [
       "'A'"
      ]
     },
     "execution_count": 15,
     "metadata": {},
     "output_type": "execute_result"
    }
   ],
   "source": [
    "'A'"
   ]
  },
  {
   "cell_type": "markdown",
   "id": "a6ba4075-c973-4029-b790-ec3bf7ff2f5f",
   "metadata": {},
   "source": [
    "# Boolean"
   ]
  },
  {
   "cell_type": "markdown",
   "id": "457a6461-c217-4a88-89d9-6e08a79e1b1f",
   "metadata": {},
   "source": [
    "True and False output"
   ]
  },
  {
   "cell_type": "code",
   "execution_count": 16,
   "id": "b22b1104-c7f9-48c1-997e-1479e9459564",
   "metadata": {},
   "outputs": [
    {
     "data": {
      "text/plain": [
       "False"
      ]
     },
     "execution_count": 16,
     "metadata": {},
     "output_type": "execute_result"
    }
   ],
   "source": [
    "10 > 20"
   ]
  },
  {
   "cell_type": "code",
   "execution_count": 17,
   "id": "92857b66-c2c4-452c-907e-dea64214702f",
   "metadata": {},
   "outputs": [
    {
     "data": {
      "text/plain": [
       "True"
      ]
     },
     "execution_count": 17,
     "metadata": {},
     "output_type": "execute_result"
    }
   ],
   "source": [
    "10 < 20"
   ]
  },
  {
   "cell_type": "code",
   "execution_count": 18,
   "id": "3af7c9da-ed81-4112-852b-ce3eb30af426",
   "metadata": {},
   "outputs": [
    {
     "data": {
      "text/plain": [
       "bool"
      ]
     },
     "execution_count": 18,
     "metadata": {},
     "output_type": "execute_result"
    }
   ],
   "source": [
    "type(True)"
   ]
  },
  {
   "cell_type": "code",
   "execution_count": 19,
   "id": "5195f5b8-3682-4c0a-88a9-b166f393164f",
   "metadata": {},
   "outputs": [
    {
     "data": {
      "text/plain": [
       "bool"
      ]
     },
     "execution_count": 19,
     "metadata": {},
     "output_type": "execute_result"
    }
   ],
   "source": [
    "type(False)"
   ]
  },
  {
   "cell_type": "code",
   "execution_count": null,
   "id": "ab85e3a8-8cde-441c-865f-4884fb2f7682",
   "metadata": {},
   "outputs": [],
   "source": [
    "1.Integer\n",
    "2.Float\n",
    "3.Complex\n",
    "4.Str"
   ]
  }
 ],
 "metadata": {
  "kernelspec": {
   "display_name": "Python 3 (ipykernel)",
   "language": "python",
   "name": "python3"
  },
  "language_info": {
   "codemirror_mode": {
    "name": "ipython",
    "version": 3
   },
   "file_extension": ".py",
   "mimetype": "text/x-python",
   "name": "python",
   "nbconvert_exporter": "python",
   "pygments_lexer": "ipython3",
   "version": "3.12.4"
  }
 },
 "nbformat": 4,
 "nbformat_minor": 5
}
