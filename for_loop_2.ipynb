{
 "cells": [
  {
   "cell_type": "code",
   "execution_count": 1,
   "id": "2cc235c9-fe56-41bf-9ccb-af69a7212e7d",
   "metadata": {},
   "outputs": [],
   "source": [
    "l = [1,2,3,4,5]"
   ]
  },
  {
   "cell_type": "code",
   "execution_count": 2,
   "id": "7e884d38-f0a3-4d69-a26b-b6217a6171c0",
   "metadata": {},
   "outputs": [
    {
     "name": "stdout",
     "output_type": "stream",
     "text": [
      "1\n",
      "2\n",
      "3\n",
      "4\n",
      "5\n"
     ]
    }
   ],
   "source": [
    "for data in l:\n",
    "    print(data)"
   ]
  },
  {
   "cell_type": "code",
   "execution_count": 4,
   "id": "6f5e2387-ee34-43db-9074-02f6743b27bd",
   "metadata": {},
   "outputs": [
    {
     "data": {
      "text/plain": [
       "[1, 2, 3, 4, 5]"
      ]
     },
     "execution_count": 4,
     "metadata": {},
     "output_type": "execute_result"
    }
   ],
   "source": [
    "l"
   ]
  },
  {
   "cell_type": "code",
   "execution_count": 3,
   "id": "b1927bbb-3ebc-4056-88f2-6b522c6b0889",
   "metadata": {},
   "outputs": [
    {
     "name": "stdout",
     "output_type": "stream",
     "text": [
      "1\n",
      "2\n",
      "3\n",
      "4\n",
      "5\n"
     ]
    }
   ],
   "source": [
    "for i in l:\n",
    "    print(i)"
   ]
  },
  {
   "cell_type": "code",
   "execution_count": 5,
   "id": "a1e14d3f-8abb-4d07-9591-db727b752216",
   "metadata": {},
   "outputs": [
    {
     "name": "stdout",
     "output_type": "stream",
     "text": [
      "[1, 2, 3, 4, 5]\n",
      "[1, 2, 3, 4, 5]\n",
      "[1, 2, 3, 4, 5]\n",
      "[1, 2, 3, 4, 5]\n",
      "[1, 2, 3, 4, 5]\n"
     ]
    }
   ],
   "source": [
    "for i in l:\n",
    "    print(l)"
   ]
  },
  {
   "cell_type": "code",
   "execution_count": 6,
   "id": "0079970a-8331-42ed-b7e6-1e886ace70e9",
   "metadata": {},
   "outputs": [
    {
     "name": "stdout",
     "output_type": "stream",
     "text": [
      "101\n",
      "102\n",
      "103\n",
      "104\n",
      "105\n"
     ]
    }
   ],
   "source": [
    "for i in l:\n",
    "    print(i + 100)"
   ]
  },
  {
   "cell_type": "code",
   "execution_count": 7,
   "id": "833f6f03-7f64-46e4-9d2b-acda313ce66e",
   "metadata": {},
   "outputs": [
    {
     "name": "stdout",
     "output_type": "stream",
     "text": [
      "D\n",
      "a\n",
      "t\n",
      "a\n"
     ]
    }
   ],
   "source": [
    "for i in 'Data':\n",
    "    print(i)"
   ]
  },
  {
   "cell_type": "code",
   "execution_count": 8,
   "id": "40361651-2e56-4d7e-ac68-dc32a7388c1a",
   "metadata": {},
   "outputs": [],
   "source": [
    "names = ['Om', 'Ram','Sham', 'Ganesh','Ramesh']"
   ]
  },
  {
   "cell_type": "code",
   "execution_count": 9,
   "id": "20dc7b86-a922-43d0-9eee-124377e3a764",
   "metadata": {},
   "outputs": [
    {
     "name": "stdout",
     "output_type": "stream",
     "text": [
      "Om\n",
      "Ram\n",
      "Sham\n",
      "Ganesh\n",
      "Ramesh\n"
     ]
    }
   ],
   "source": [
    "for i in names:\n",
    "    print(i)"
   ]
  },
  {
   "cell_type": "code",
   "execution_count": 10,
   "id": "47e45846-949b-4025-bc01-e55d7f88d18e",
   "metadata": {},
   "outputs": [
    {
     "name": "stdout",
     "output_type": "stream",
     "text": [
      "My name is: Om\n",
      "My name is: Ram\n",
      "My name is: Sham\n",
      "My name is: Ganesh\n",
      "My name is: Ramesh\n"
     ]
    }
   ],
   "source": [
    "for i in names:\n",
    "    print('My name is: '+ i)"
   ]
  },
  {
   "cell_type": "code",
   "execution_count": 11,
   "id": "3913588a-cb98-4003-ab66-bba93d1b5f8e",
   "metadata": {},
   "outputs": [],
   "source": [
    "mix = [1,1.5,'Data',True,10+5j]"
   ]
  },
  {
   "cell_type": "code",
   "execution_count": 15,
   "id": "45aa09a5-73dd-4c19-af29-925b11479cc1",
   "metadata": {},
   "outputs": [
    {
     "data": {
      "text/plain": [
       "5"
      ]
     },
     "execution_count": 15,
     "metadata": {},
     "output_type": "execute_result"
    }
   ],
   "source": [
    "len(mix)"
   ]
  },
  {
   "cell_type": "code",
   "execution_count": 12,
   "id": "4ab2e32a-6ff7-4e77-8946-49457f506548",
   "metadata": {},
   "outputs": [
    {
     "name": "stdout",
     "output_type": "stream",
     "text": [
      "1\n",
      "1.5\n",
      "Data\n",
      "True\n",
      "(10+5j)\n"
     ]
    }
   ],
   "source": [
    "for i in mix:\n",
    "    print(i)"
   ]
  },
  {
   "cell_type": "code",
   "execution_count": 13,
   "id": "29a4a12f-af37-4749-a5ec-3d2978f00f36",
   "metadata": {},
   "outputs": [
    {
     "name": "stdout",
     "output_type": "stream",
     "text": [
      "1 <class 'int'>\n",
      "1.5 <class 'float'>\n",
      "Data <class 'str'>\n",
      "True <class 'bool'>\n",
      "(10+5j) <class 'complex'>\n"
     ]
    }
   ],
   "source": [
    "for i in mix:\n",
    "    print(i, type(i))"
   ]
  },
  {
   "cell_type": "code",
   "execution_count": 14,
   "id": "60d92099-ae26-4c23-84a0-26c72db77f5a",
   "metadata": {},
   "outputs": [],
   "source": [
    "# For loop is going to iterate data one by one."
   ]
  },
  {
   "cell_type": "code",
   "execution_count": 16,
   "id": "846096df-415b-4261-b617-988189561432",
   "metadata": {},
   "outputs": [
    {
     "data": {
      "text/plain": [
       "range(1, 11)"
      ]
     },
     "execution_count": 16,
     "metadata": {},
     "output_type": "execute_result"
    }
   ],
   "source": [
    "range(1,11)"
   ]
  },
  {
   "cell_type": "code",
   "execution_count": 17,
   "id": "fde51a4e-888d-48bc-861f-5548775e3de2",
   "metadata": {},
   "outputs": [
    {
     "name": "stdout",
     "output_type": "stream",
     "text": [
      "1\n",
      "2\n",
      "3\n",
      "4\n",
      "5\n",
      "6\n",
      "7\n",
      "8\n",
      "9\n",
      "10\n"
     ]
    }
   ],
   "source": [
    "for i in range(1,11):\n",
    "    print(i)"
   ]
  },
  {
   "cell_type": "code",
   "execution_count": 18,
   "id": "1d1ae88b-66d1-4076-8da8-b288b8d0f26b",
   "metadata": {},
   "outputs": [
    {
     "data": {
      "text/plain": [
       "[1, 2, 3, 4, 5, 6, 7, 8, 9, 10]"
      ]
     },
     "execution_count": 18,
     "metadata": {},
     "output_type": "execute_result"
    }
   ],
   "source": [
    "list(range(1,11))"
   ]
  },
  {
   "cell_type": "code",
   "execution_count": 19,
   "id": "9da42fb3-dbbf-4cb6-a8fc-99fc12201452",
   "metadata": {},
   "outputs": [
    {
     "name": "stdout",
     "output_type": "stream",
     "text": [
      "0\n",
      "1\n",
      "2\n",
      "3\n",
      "4\n"
     ]
    }
   ],
   "source": [
    "for i in range(5):\n",
    "    print(i)"
   ]
  },
  {
   "cell_type": "code",
   "execution_count": 20,
   "id": "cbfb85c9-e6a3-4605-883c-959b8d6dae23",
   "metadata": {},
   "outputs": [
    {
     "name": "stdout",
     "output_type": "stream",
     "text": [
      "2\n",
      "4\n",
      "6\n",
      "8\n",
      "10\n"
     ]
    }
   ],
   "source": [
    "for i in range(2,11,2):\n",
    "    print(i)"
   ]
  },
  {
   "cell_type": "code",
   "execution_count": 21,
   "id": "ff44229c-5ea9-43cd-ad3c-dffdf4a2466a",
   "metadata": {},
   "outputs": [
    {
     "name": "stdout",
     "output_type": "stream",
     "text": [
      "1\n",
      "4\n",
      "7\n",
      "10\n",
      "13\n",
      "16\n",
      "19\n"
     ]
    }
   ],
   "source": [
    "for i in range(1,21,3):\n",
    "    print(i)"
   ]
  },
  {
   "cell_type": "code",
   "execution_count": 22,
   "id": "92366c5f-838b-4013-ba13-d942a2a7f52d",
   "metadata": {},
   "outputs": [
    {
     "data": {
      "text/plain": [
       "[1, 1.5, 'Data', True, (10+5j)]"
      ]
     },
     "execution_count": 22,
     "metadata": {},
     "output_type": "execute_result"
    }
   ],
   "source": [
    "mix"
   ]
  },
  {
   "cell_type": "code",
   "execution_count": 24,
   "id": "8a0ae951-d3d9-415f-b080-d1f07567caa8",
   "metadata": {},
   "outputs": [
    {
     "name": "stdout",
     "output_type": "stream",
     "text": [
      "1\n"
     ]
    }
   ],
   "source": [
    "for i in mix:\n",
    "    if type(i) == int:\n",
    "        print(i)"
   ]
  },
  {
   "cell_type": "code",
   "execution_count": 25,
   "id": "925259a8-083d-4fda-bdaa-d4d3012c0e75",
   "metadata": {},
   "outputs": [
    {
     "data": {
      "text/plain": [
       "int"
      ]
     },
     "execution_count": 25,
     "metadata": {},
     "output_type": "execute_result"
    }
   ],
   "source": [
    "type(1)"
   ]
  },
  {
   "cell_type": "code",
   "execution_count": 27,
   "id": "99c6acd9-96a7-46c1-ac61-b693f6226b2e",
   "metadata": {},
   "outputs": [
    {
     "data": {
      "text/plain": [
       "False"
      ]
     },
     "execution_count": 27,
     "metadata": {},
     "output_type": "execute_result"
    }
   ],
   "source": [
    "type(1.5) == int"
   ]
  },
  {
   "cell_type": "code",
   "execution_count": 28,
   "id": "63195e3b-24a5-4637-9434-8309630b35d4",
   "metadata": {},
   "outputs": [
    {
     "data": {
      "text/plain": [
       "str"
      ]
     },
     "execution_count": 28,
     "metadata": {},
     "output_type": "execute_result"
    }
   ],
   "source": [
    "type('Data')"
   ]
  },
  {
   "cell_type": "code",
   "execution_count": 29,
   "id": "74f925ec-3d69-4986-ae9c-2a7d3af36ded",
   "metadata": {},
   "outputs": [],
   "source": [
    "p = [1,2,3,4,[10,20,30],5,6]"
   ]
  },
  {
   "cell_type": "code",
   "execution_count": 30,
   "id": "a5965b4c-8930-4f85-9ff9-2372ea87a73d",
   "metadata": {},
   "outputs": [
    {
     "name": "stdout",
     "output_type": "stream",
     "text": [
      "1\n",
      "2\n",
      "3\n",
      "4\n",
      "[10, 20, 30]\n",
      "5\n",
      "6\n"
     ]
    }
   ],
   "source": [
    "for i in p:\n",
    "    print(i)"
   ]
  },
  {
   "cell_type": "code",
   "execution_count": 31,
   "id": "adea01aa-0f53-49ac-aef7-a9d50a162482",
   "metadata": {
    "scrolled": true
   },
   "outputs": [
    {
     "name": "stdout",
     "output_type": "stream",
     "text": [
      "1 <class 'int'>\n",
      "2 <class 'int'>\n",
      "3 <class 'int'>\n",
      "4 <class 'int'>\n",
      "[10, 20, 30] <class 'list'>\n",
      "5 <class 'int'>\n",
      "6 <class 'int'>\n"
     ]
    }
   ],
   "source": [
    "for i in p:\n",
    "    print(i, type(i))"
   ]
  },
  {
   "cell_type": "code",
   "execution_count": 32,
   "id": "38dbe2d1-bb5b-4bdf-a872-963b32b27f70",
   "metadata": {},
   "outputs": [
    {
     "name": "stdout",
     "output_type": "stream",
     "text": [
      "10\n",
      "20\n",
      "30\n"
     ]
    }
   ],
   "source": [
    "for i in p:\n",
    "    if type(i) == list:\n",
    "        for numb in i:\n",
    "            print(numb)"
   ]
  },
  {
   "cell_type": "code",
   "execution_count": 33,
   "id": "b8e5ad3f-007f-4bf6-aeae-dd967f84160e",
   "metadata": {},
   "outputs": [],
   "source": [
    "# FIlter out even and odd data"
   ]
  },
  {
   "cell_type": "code",
   "execution_count": 35,
   "id": "e9161920-6ac8-4036-bcc9-86fa312c167a",
   "metadata": {},
   "outputs": [
    {
     "name": "stdout",
     "output_type": "stream",
     "text": [
      "Odd\n"
     ]
    }
   ],
   "source": [
    "num = 5\n",
    "if num % 2 == 0:\n",
    "    print(even)\n",
    "else:\n",
    "    print('Odd')"
   ]
  },
  {
   "cell_type": "code",
   "execution_count": 36,
   "id": "b13d5481-837e-47e2-b5f2-f3569c4126ab",
   "metadata": {},
   "outputs": [],
   "source": [
    "# Filter out even numbers from 1 to 10 dataset"
   ]
  },
  {
   "cell_type": "code",
   "execution_count": 37,
   "id": "cbafea3f-242b-4183-8f90-d1c38d7300ab",
   "metadata": {},
   "outputs": [
    {
     "name": "stdout",
     "output_type": "stream",
     "text": [
      "Evevn number 2\n",
      "Evevn number 4\n",
      "Evevn number 6\n",
      "Evevn number 8\n",
      "Evevn number 10\n"
     ]
    }
   ],
   "source": [
    "for i in range(1,11):\n",
    "    if i % 2 == 0:\n",
    "        print('Evevn number', i)"
   ]
  },
  {
   "cell_type": "code",
   "execution_count": 39,
   "id": "f92362aa-75e8-447c-a40c-22ba7c7a5a91",
   "metadata": {},
   "outputs": [
    {
     "name": "stdout",
     "output_type": "stream",
     "text": [
      "Odd number 1\n",
      "Odd number 3\n",
      "Odd number 5\n",
      "Odd number 7\n",
      "Odd number 9\n"
     ]
    }
   ],
   "source": [
    "for i in range(1,11):\n",
    "    if i % 2 != 0:\n",
    "        print('Odd number', i)"
   ]
  },
  {
   "cell_type": "code",
   "execution_count": null,
   "id": "72919359-af9d-4c26-bcb5-70289347750f",
   "metadata": {},
   "outputs": [],
   "source": []
  }
 ],
 "metadata": {
  "kernelspec": {
   "display_name": "Python 3 (ipykernel)",
   "language": "python",
   "name": "python3"
  },
  "language_info": {
   "codemirror_mode": {
    "name": "ipython",
    "version": 3
   },
   "file_extension": ".py",
   "mimetype": "text/x-python",
   "name": "python",
   "nbconvert_exporter": "python",
   "pygments_lexer": "ipython3",
   "version": "3.12.4"
  }
 },
 "nbformat": 4,
 "nbformat_minor": 5
}
