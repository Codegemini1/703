{
 "cells": [
  {
   "cell_type": "code",
   "execution_count": 1,
   "id": "100d6e50-4390-47b1-b1ae-0fa10880d968",
   "metadata": {},
   "outputs": [],
   "source": [
    "x = 1"
   ]
  },
  {
   "cell_type": "code",
   "execution_count": 2,
   "id": "47f86f14-2c07-4583-9154-3584e3d2978f",
   "metadata": {},
   "outputs": [
    {
     "name": "stdout",
     "output_type": "stream",
     "text": [
      "1\n",
      "2\n",
      "3\n",
      "4\n",
      "5\n",
      "6\n",
      "7\n",
      "8\n",
      "9\n",
      "10\n"
     ]
    }
   ],
   "source": [
    "while x <= 10:\n",
    "    print(x)\n",
    "    x = x + 1"
   ]
  },
  {
   "cell_type": "code",
   "execution_count": 5,
   "id": "1e0252b4-f247-4494-adca-dca964fa5e23",
   "metadata": {},
   "outputs": [
    {
     "data": {
      "text/plain": [
       "False"
      ]
     },
     "execution_count": 5,
     "metadata": {},
     "output_type": "execute_result"
    }
   ],
   "source": [
    "11 <= 10"
   ]
  },
  {
   "cell_type": "code",
   "execution_count": 6,
   "id": "24dd9de5-e34a-4bfe-b32d-35462f2368a5",
   "metadata": {},
   "outputs": [],
   "source": [
    "# Countdown timer"
   ]
  },
  {
   "cell_type": "code",
   "execution_count": 12,
   "id": "ddbd9f31-3b2a-4369-b963-6e359fb44104",
   "metadata": {},
   "outputs": [],
   "source": [
    "n = 5"
   ]
  },
  {
   "cell_type": "code",
   "execution_count": 14,
   "id": "c0ea62c7-631e-48f7-9570-c1542f7a8fa8",
   "metadata": {},
   "outputs": [
    {
     "name": "stdout",
     "output_type": "stream",
     "text": [
      "5\n",
      "4\n",
      "3\n",
      "2\n",
      "1\n",
      "Time out\n"
     ]
    }
   ],
   "source": [
    "n = 5\n",
    "while n > 0:\n",
    "    print(n)\n",
    "    n = n - 1\n",
    "print('Time out') "
   ]
  },
  {
   "cell_type": "code",
   "execution_count": 15,
   "id": "c79ae7f6-0028-4af5-a60d-383d0b104d11",
   "metadata": {},
   "outputs": [],
   "source": [
    "# while loop is getting excuted until unless it is not getting false condetion"
   ]
  },
  {
   "cell_type": "code",
   "execution_count": 18,
   "id": "7da921d8-af1b-4b18-8b4d-5a9be1a9e482",
   "metadata": {},
   "outputs": [],
   "source": [
    "button = 'hello'"
   ]
  },
  {
   "cell_type": "code",
   "execution_count": 28,
   "id": "25d9c074-afdf-4c93-a35a-819c5e076a5d",
   "metadata": {},
   "outputs": [
    {
     "name": "stdout",
     "output_type": "stream",
     "text": [
      "hello\n"
     ]
    },
    {
     "name": "stdin",
     "output_type": "stream",
     "text": [
      "write stop to exit loop python\n"
     ]
    },
    {
     "name": "stdout",
     "output_type": "stream",
     "text": [
      "python\n"
     ]
    },
    {
     "name": "stdin",
     "output_type": "stream",
     "text": [
      "write stop to exit loop ok\n"
     ]
    },
    {
     "name": "stdout",
     "output_type": "stream",
     "text": [
      "ok\n"
     ]
    },
    {
     "name": "stdin",
     "output_type": "stream",
     "text": [
      "write stop to exit loop jhdg\n"
     ]
    },
    {
     "name": "stdout",
     "output_type": "stream",
     "text": [
      "jhdg\n"
     ]
    },
    {
     "name": "stdin",
     "output_type": "stream",
     "text": [
      "write stop to exit loop kfdjhgasui\n"
     ]
    },
    {
     "name": "stdout",
     "output_type": "stream",
     "text": [
      "kfdjhgasui\n"
     ]
    },
    {
     "name": "stdin",
     "output_type": "stream",
     "text": [
      "write stop to exit loop sydguy\\\n"
     ]
    },
    {
     "name": "stdout",
     "output_type": "stream",
     "text": [
      "sydguy\\\n"
     ]
    },
    {
     "name": "stdin",
     "output_type": "stream",
     "text": [
      "write stop to exit loop ]sufdghsua\n"
     ]
    },
    {
     "name": "stdout",
     "output_type": "stream",
     "text": [
      "]sufdghsua\n"
     ]
    },
    {
     "name": "stdin",
     "output_type": "stream",
     "text": [
      "write stop to exit loop stop\n"
     ]
    }
   ],
   "source": [
    "while button != 'stop':\n",
    "    print(button)\n",
    "    button = input('write stop to exit loop')"
   ]
  },
  {
   "cell_type": "code",
   "execution_count": 27,
   "id": "66f49bea-b712-469d-bf18-b7ad94145189",
   "metadata": {},
   "outputs": [
    {
     "data": {
      "text/plain": [
       "False"
      ]
     },
     "execution_count": 27,
     "metadata": {},
     "output_type": "execute_result"
    }
   ],
   "source": [
    "'stop' != 'stop'"
   ]
  },
  {
   "cell_type": "code",
   "execution_count": 19,
   "id": "b17e9a12-89ca-499a-86bc-846d1780531b",
   "metadata": {},
   "outputs": [
    {
     "data": {
      "text/plain": [
       "str"
      ]
     },
     "execution_count": 19,
     "metadata": {},
     "output_type": "execute_result"
    }
   ],
   "source": [
    "type(button)"
   ]
  },
  {
   "cell_type": "code",
   "execution_count": 22,
   "id": "bfcf01b7-23ec-4fef-a2f7-11d8c48e7f49",
   "metadata": {},
   "outputs": [
    {
     "data": {
      "text/plain": [
       "True"
      ]
     },
     "execution_count": 22,
     "metadata": {},
     "output_type": "execute_result"
    }
   ],
   "source": [
    "button == 'hello'"
   ]
  },
  {
   "cell_type": "code",
   "execution_count": 23,
   "id": "65ad8ef3-b611-40aa-b5de-2d6204f531a5",
   "metadata": {},
   "outputs": [
    {
     "data": {
      "text/plain": [
       "False"
      ]
     },
     "execution_count": 23,
     "metadata": {},
     "output_type": "execute_result"
    }
   ],
   "source": [
    "'hello' != 'hello'"
   ]
  },
  {
   "cell_type": "markdown",
   "id": "c95de399-ac77-4701-a19c-397b758c8fc3",
   "metadata": {},
   "source": [
    "# Break, continue, pass"
   ]
  },
  {
   "cell_type": "code",
   "execution_count": 30,
   "id": "3bd7eca0-8692-4091-b901-ad1bbeb12fdd",
   "metadata": {},
   "outputs": [],
   "source": [
    "l = [1,2,3,4,5]"
   ]
  },
  {
   "cell_type": "code",
   "execution_count": 31,
   "id": "860d97c3-4857-4e2b-92f2-24fc09acf6de",
   "metadata": {},
   "outputs": [
    {
     "name": "stdout",
     "output_type": "stream",
     "text": [
      "1\n",
      "2\n",
      "3\n",
      "4\n",
      "5\n"
     ]
    }
   ],
   "source": [
    "for i in l:\n",
    "    print(i)"
   ]
  },
  {
   "cell_type": "code",
   "execution_count": 32,
   "id": "5e10aee9-d081-4cdf-82fc-cda15c5f98b7",
   "metadata": {},
   "outputs": [
    {
     "name": "stdout",
     "output_type": "stream",
     "text": [
      "1\n",
      "2\n"
     ]
    }
   ],
   "source": [
    "for i in l:\n",
    "    if i == 3:\n",
    "        break\n",
    "    print(i)"
   ]
  },
  {
   "cell_type": "code",
   "execution_count": 33,
   "id": "3aca0907-7f38-4588-a8a7-3b47b94b80fe",
   "metadata": {},
   "outputs": [
    {
     "name": "stdout",
     "output_type": "stream",
     "text": [
      "d\n",
      "a\n",
      "t\n",
      "a\n",
      " \n",
      "s\n"
     ]
    }
   ],
   "source": [
    "for i in 'data science':\n",
    "    if i == 'c':\n",
    "        break\n",
    "    print(i)"
   ]
  },
  {
   "cell_type": "code",
   "execution_count": 34,
   "id": "cf35627d-d818-489c-9074-0ca3f3bed23a",
   "metadata": {},
   "outputs": [],
   "source": [
    "# Continue"
   ]
  },
  {
   "cell_type": "code",
   "execution_count": 35,
   "id": "e578ffaa-d82f-414e-b2de-f0895e8714a8",
   "metadata": {},
   "outputs": [
    {
     "data": {
      "text/plain": [
       "[1, 2, 3, 4, 5]"
      ]
     },
     "execution_count": 35,
     "metadata": {},
     "output_type": "execute_result"
    }
   ],
   "source": [
    "l"
   ]
  },
  {
   "cell_type": "code",
   "execution_count": 36,
   "id": "98b463e5-b0ac-4322-aff2-de4c4942039d",
   "metadata": {},
   "outputs": [
    {
     "name": "stdout",
     "output_type": "stream",
     "text": [
      "1\n",
      "2\n",
      "4\n",
      "5\n"
     ]
    }
   ],
   "source": [
    "for i in l:\n",
    "    if i == 3:\n",
    "        continue\n",
    "    print(i)"
   ]
  },
  {
   "cell_type": "code",
   "execution_count": 37,
   "id": "62246377-1573-4966-a270-cda5315cde52",
   "metadata": {},
   "outputs": [
    {
     "name": "stdout",
     "output_type": "stream",
     "text": [
      "d\n",
      "t\n",
      " \n",
      "s\n",
      "c\n",
      "i\n",
      "e\n",
      "n\n",
      "c\n",
      "e\n"
     ]
    }
   ],
   "source": [
    "for i in 'data science':\n",
    "    if i == 'a':\n",
    "        continue\n",
    "    print(i)"
   ]
  },
  {
   "cell_type": "code",
   "execution_count": 38,
   "id": "f85edb4f-97b6-49f1-b0c7-660f9f61f0c4",
   "metadata": {},
   "outputs": [],
   "source": [
    "# pass"
   ]
  },
  {
   "cell_type": "code",
   "execution_count": 42,
   "id": "33cf4fe6-a846-4c86-90de-8aff760649cf",
   "metadata": {},
   "outputs": [
    {
     "ename": "SyntaxError",
     "evalue": "incomplete input (1525633252.py, line 2)",
     "output_type": "error",
     "traceback": [
      "\u001b[1;36m  Cell \u001b[1;32mIn[42], line 2\u001b[1;36m\u001b[0m\n\u001b[1;33m    \u001b[0m\n\u001b[1;37m    ^\u001b[0m\n\u001b[1;31mSyntaxError\u001b[0m\u001b[1;31m:\u001b[0m incomplete input\n"
     ]
    }
   ],
   "source": [
    "for i in l:\n",
    "    "
   ]
  },
  {
   "cell_type": "code",
   "execution_count": 41,
   "id": "d6901363-4417-4bd1-ab29-50d8ee4f98c8",
   "metadata": {},
   "outputs": [],
   "source": [
    "for i in l:\n",
    "    pass # do nothing"
   ]
  },
  {
   "cell_type": "code",
   "execution_count": 43,
   "id": "ac968318-7ff8-489c-a0cb-edf8d8290293",
   "metadata": {},
   "outputs": [
    {
     "name": "stdout",
     "output_type": "stream",
     "text": [
      "1\n",
      "2\n",
      "4\n",
      "5\n"
     ]
    }
   ],
   "source": [
    "for i in l:\n",
    "    if i == 3:\n",
    "        pass\n",
    "    else:\n",
    "        print(i)"
   ]
  },
  {
   "cell_type": "code",
   "execution_count": null,
   "id": "e7e1032f-308b-4faf-9ab1-3bff4bcc2e9e",
   "metadata": {},
   "outputs": [],
   "source": []
  }
 ],
 "metadata": {
  "kernelspec": {
   "display_name": "Python 3 (ipykernel)",
   "language": "python",
   "name": "python3"
  },
  "language_info": {
   "codemirror_mode": {
    "name": "ipython",
    "version": 3
   },
   "file_extension": ".py",
   "mimetype": "text/x-python",
   "name": "python",
   "nbconvert_exporter": "python",
   "pygments_lexer": "ipython3",
   "version": "3.12.4"
  }
 },
 "nbformat": 4,
 "nbformat_minor": 5
}
