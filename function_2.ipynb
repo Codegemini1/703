{
 "cells": [
  {
   "cell_type": "code",
   "execution_count": 1,
   "id": "71fa4e21-80c0-4a6a-b14b-3c2fd538b4c0",
   "metadata": {},
   "outputs": [],
   "source": [
    "def test(x):\n",
    "    if x > 10:\n",
    "        return 'Grater than 10'\n",
    "    else:\n",
    "        return 'Not greater than 10'"
   ]
  },
  {
   "cell_type": "code",
   "execution_count": 2,
   "id": "64996051-d8ab-4c4e-9bcf-bd8b688a5f4c",
   "metadata": {},
   "outputs": [
    {
     "data": {
      "text/plain": [
       "'Not greater than 10'"
      ]
     },
     "execution_count": 2,
     "metadata": {},
     "output_type": "execute_result"
    }
   ],
   "source": [
    "test(4)"
   ]
  },
  {
   "cell_type": "code",
   "execution_count": 3,
   "id": "d8f7ce03-7749-4557-a0f6-d0cc7992daaf",
   "metadata": {},
   "outputs": [
    {
     "data": {
      "text/plain": [
       "'Grater than 10'"
      ]
     },
     "execution_count": 3,
     "metadata": {},
     "output_type": "execute_result"
    }
   ],
   "source": [
    "test(19)"
   ]
  },
  {
   "cell_type": "code",
   "execution_count": 5,
   "id": "e4050ba9-c52f-418c-a4e7-d3852775fa5f",
   "metadata": {},
   "outputs": [],
   "source": [
    "def test2(a,b,c,d,e):\n",
    "    return a,b,c,d,e"
   ]
  },
  {
   "cell_type": "code",
   "execution_count": 7,
   "id": "99d0c9ad-b1a7-4995-9201-49bbb51d4823",
   "metadata": {},
   "outputs": [
    {
     "data": {
      "text/plain": [
       "(10, 40, 20, 50, 100)"
      ]
     },
     "execution_count": 7,
     "metadata": {},
     "output_type": "execute_result"
    }
   ],
   "source": [
    "test2(10,40,20,50,100)"
   ]
  },
  {
   "cell_type": "code",
   "execution_count": 8,
   "id": "fb342b17-9a9c-4b29-b89f-2d206d778761",
   "metadata": {},
   "outputs": [],
   "source": [
    "l = [1,2,3,4,[10,20,30,40],5,6,7]"
   ]
  },
  {
   "cell_type": "code",
   "execution_count": 9,
   "id": "d9f43fa2-9c63-4905-a2e2-934771433143",
   "metadata": {},
   "outputs": [
    {
     "data": {
      "text/plain": [
       "[10, 20, 30, 40]"
      ]
     },
     "execution_count": 9,
     "metadata": {},
     "output_type": "execute_result"
    }
   ],
   "source": [
    "l[4]"
   ]
  },
  {
   "cell_type": "code",
   "execution_count": 10,
   "id": "8cd389a9-a489-4a7a-9994-a39a08c8ca14",
   "metadata": {},
   "outputs": [],
   "source": [
    "mix = [10,1.5,True,'Hello']"
   ]
  },
  {
   "cell_type": "code",
   "execution_count": 20,
   "id": "b0d429c6-81e2-4075-aeaa-3eded9efc5d9",
   "metadata": {},
   "outputs": [],
   "source": [
    "def int_filter(x):\n",
    "    p = [] # local variable\n",
    "    for i in x:\n",
    "        if type(i) == int:\n",
    "            p.append(i)\n",
    "    return p"
   ]
  },
  {
   "cell_type": "code",
   "execution_count": 23,
   "id": "461ff815-6d1b-4b20-9205-20149659a53a",
   "metadata": {},
   "outputs": [
    {
     "ename": "NameError",
     "evalue": "name 'p' is not defined",
     "output_type": "error",
     "traceback": [
      "\u001b[1;31m---------------------------------------------------------------------------\u001b[0m",
      "\u001b[1;31mNameError\u001b[0m                                 Traceback (most recent call last)",
      "Cell \u001b[1;32mIn[23], line 1\u001b[0m\n\u001b[1;32m----> 1\u001b[0m p\n",
      "\u001b[1;31mNameError\u001b[0m: name 'p' is not defined"
     ]
    }
   ],
   "source": [
    "p"
   ]
  },
  {
   "cell_type": "code",
   "execution_count": 21,
   "id": "8dbbb96d-df77-4089-9b9e-63683c60a4ea",
   "metadata": {},
   "outputs": [
    {
     "data": {
      "text/plain": [
       "[10]"
      ]
     },
     "execution_count": 21,
     "metadata": {},
     "output_type": "execute_result"
    }
   ],
   "source": [
    "int_filter([10,1.5,True,'Hello'])"
   ]
  },
  {
   "cell_type": "code",
   "execution_count": 22,
   "id": "9a3a6301-56be-4b02-b9fb-c66d55882746",
   "metadata": {},
   "outputs": [
    {
     "data": {
      "text/plain": [
       "[1, 2, 3, 100, 200]"
      ]
     },
     "execution_count": 22,
     "metadata": {},
     "output_type": "execute_result"
    }
   ],
   "source": [
    "int_filter([10.5,1,2,3,True, 'Python', 100,200])"
   ]
  },
  {
   "cell_type": "code",
   "execution_count": null,
   "id": "82ec4594-6cc4-4ef7-8768-04c5b7b1220f",
   "metadata": {},
   "outputs": [],
   "source": [
    "# Local and globel variable"
   ]
  },
  {
   "cell_type": "code",
   "execution_count": 25,
   "id": "67586263-e498-4977-a4e5-c976482564e4",
   "metadata": {},
   "outputs": [],
   "source": [
    "x = [1,2,3,4] # Global variable"
   ]
  },
  {
   "cell_type": "code",
   "execution_count": 24,
   "id": "5c9e936a-b90e-4fff-9001-1a513e438159",
   "metadata": {},
   "outputs": [
    {
     "data": {
      "text/plain": [
       "[1, 2, 3, 4]"
      ]
     },
     "execution_count": 24,
     "metadata": {},
     "output_type": "execute_result"
    }
   ],
   "source": [
    "x"
   ]
  },
  {
   "cell_type": "code",
   "execution_count": 26,
   "id": "99892b0f-9e22-4116-b79e-99256abbfde5",
   "metadata": {},
   "outputs": [],
   "source": [
    "# Diff b/w local and globel variable"
   ]
  },
  {
   "cell_type": "code",
   "execution_count": 27,
   "id": "64f3eb5b-8ee3-44ec-a316-f1dd681f201e",
   "metadata": {},
   "outputs": [],
   "source": [
    "def float_filter(x):\n",
    "    o = []\n",
    "    for i in x:\n",
    "        if type(i) == float:\n",
    "            o.append(i)\n",
    "    return o"
   ]
  },
  {
   "cell_type": "code",
   "execution_count": 28,
   "id": "efa20322-faf4-4ad8-b521-4a15e02ad1d4",
   "metadata": {},
   "outputs": [
    {
     "data": {
      "text/plain": [
       "[10.5]"
      ]
     },
     "execution_count": 28,
     "metadata": {},
     "output_type": "execute_result"
    }
   ],
   "source": [
    "float_filter([10.5,1,2,3,True, 'Python', 100,200])"
   ]
  },
  {
   "cell_type": "code",
   "execution_count": 29,
   "id": "33d8076d-d8ea-424d-aff4-478be401a230",
   "metadata": {},
   "outputs": [],
   "source": [
    "# List filter"
   ]
  },
  {
   "cell_type": "code",
   "execution_count": 30,
   "id": "2beccff7-5f30-4b35-ace7-24573bb6af39",
   "metadata": {},
   "outputs": [],
   "source": [
    "m = [(1,2,3), [10,20,30], {1,2,3,4}, {'a':10,'b':20, 'c':30}]"
   ]
  },
  {
   "cell_type": "code",
   "execution_count": 31,
   "id": "f753c275-3948-4bb8-8861-cb6657746a11",
   "metadata": {},
   "outputs": [
    {
     "name": "stdout",
     "output_type": "stream",
     "text": [
      "(1, 2, 3) <class 'tuple'>\n",
      "[10, 20, 30] <class 'list'>\n",
      "{1, 2, 3, 4} <class 'set'>\n",
      "{'a': 10, 'b': 20, 'c': 30} <class 'dict'>\n"
     ]
    }
   ],
   "source": [
    "for i in m:\n",
    "    print(i,type(i))"
   ]
  },
  {
   "cell_type": "code",
   "execution_count": 32,
   "id": "1c8100e7-28cb-4719-b46f-d75c5a3f08b0",
   "metadata": {},
   "outputs": [],
   "source": [
    "def list_filter(x):\n",
    "    l = []\n",
    "    for i in x:\n",
    "        if type(i) == list:\n",
    "            l.append(i)\n",
    "    return l"
   ]
  },
  {
   "cell_type": "code",
   "execution_count": 33,
   "id": "702af256-02fd-4c89-8dd3-79a2c151b5c5",
   "metadata": {},
   "outputs": [
    {
     "data": {
      "text/plain": [
       "[[10, 20, 30]]"
      ]
     },
     "execution_count": 33,
     "metadata": {},
     "output_type": "execute_result"
    }
   ],
   "source": [
    "list_filter([(1,2,3), [10,20,30], {1,2,3,4}, {'a':10,'b':20, 'c':30}])"
   ]
  },
  {
   "cell_type": "code",
   "execution_count": 34,
   "id": "4f45979b-2ed9-4c51-8c1a-c3b918d1ece2",
   "metadata": {},
   "outputs": [],
   "source": [
    "# How to fetch nested list dataset"
   ]
  },
  {
   "cell_type": "code",
   "execution_count": 35,
   "id": "6d0a76f5-53e1-4596-a7d3-afe5376c922c",
   "metadata": {},
   "outputs": [],
   "source": [
    "l = [1,2,3,4,[10,20,30,40],5,6,7]"
   ]
  },
  {
   "cell_type": "code",
   "execution_count": 36,
   "id": "f888564a-1060-475a-adfc-3b11a6a94619",
   "metadata": {},
   "outputs": [
    {
     "data": {
      "text/plain": [
       "[1, 2, 3, 4, [10, 20, 30, 40], 5, 6, 7]"
      ]
     },
     "execution_count": 36,
     "metadata": {},
     "output_type": "execute_result"
    }
   ],
   "source": [
    "l"
   ]
  },
  {
   "cell_type": "code",
   "execution_count": 38,
   "id": "34f01175-0f06-43f0-a448-de0ee913c50b",
   "metadata": {},
   "outputs": [
    {
     "name": "stdout",
     "output_type": "stream",
     "text": [
      "10\n",
      "20\n",
      "30\n",
      "40\n"
     ]
    }
   ],
   "source": [
    "for i in l:\n",
    "    if type(i) == list:\n",
    "        for num in i:\n",
    "            print(num)"
   ]
  },
  {
   "cell_type": "code",
   "execution_count": 39,
   "id": "4c92a833-d536-4d38-a18a-b337d8a7c408",
   "metadata": {},
   "outputs": [
    {
     "name": "stdout",
     "output_type": "stream",
     "text": [
      "[10, 20, 30, 40]\n",
      "[10, 20, 30, 40]\n",
      "[10, 20, 30, 40]\n",
      "[10, 20, 30, 40]\n"
     ]
    }
   ],
   "source": [
    "for i in l:\n",
    "    if type(i) == list:\n",
    "        for num in i:\n",
    "            print(i)"
   ]
  },
  {
   "cell_type": "code",
   "execution_count": 40,
   "id": "af36a314-2aeb-443b-90a5-a6586fe6cd0c",
   "metadata": {},
   "outputs": [],
   "source": [
    "# Filter_out_int type of data"
   ]
  },
  {
   "cell_type": "code",
   "execution_count": 41,
   "id": "32bdec36-0a38-4fe2-826e-b9bb1a4f261f",
   "metadata": {},
   "outputs": [],
   "source": [
    "k = [1,1.5,10,True,[20,2.5,'Hey',100],8]"
   ]
  },
  {
   "cell_type": "code",
   "execution_count": 42,
   "id": "bd9b5808-2dea-4e28-891d-2f4608d6d820",
   "metadata": {},
   "outputs": [
    {
     "data": {
      "text/plain": [
       "[1, 1.5, 10, True, [20, 2.5, 'Hey', 100], 8]"
      ]
     },
     "execution_count": 42,
     "metadata": {},
     "output_type": "execute_result"
    }
   ],
   "source": [
    "k"
   ]
  },
  {
   "cell_type": "code",
   "execution_count": 43,
   "id": "4ed78ec1-bed4-4116-9437-104378bdaec4",
   "metadata": {},
   "outputs": [],
   "source": [
    "def int_nested_filter(x):\n",
    "    l = []\n",
    "    for i in x:\n",
    "        if type(i) == int:\n",
    "            l.append(i)\n",
    "        elif type(i) == list:\n",
    "            for num in i:\n",
    "                if type(num) == int:\n",
    "                    l.append(num)\n",
    "    return l"
   ]
  },
  {
   "cell_type": "code",
   "execution_count": 44,
   "id": "267d4e7b-11b7-490a-88a1-1bbb88f61a44",
   "metadata": {},
   "outputs": [
    {
     "data": {
      "text/plain": [
       "[1, 10, 20, 100, 8]"
      ]
     },
     "execution_count": 44,
     "metadata": {},
     "output_type": "execute_result"
    }
   ],
   "source": [
    "int_nested_filter([1,1.5,10,True,[20,2.5,'Hey',100],8])"
   ]
  },
  {
   "cell_type": "code",
   "execution_count": 45,
   "id": "5782ddab-8253-49a0-b95f-7e89052e5e32",
   "metadata": {},
   "outputs": [],
   "source": [
    "# What if i want to pass infinite data to my function"
   ]
  },
  {
   "cell_type": "code",
   "execution_count": null,
   "id": "c45134f4-b7b0-4579-ac83-b0410f88cab2",
   "metadata": {},
   "outputs": [],
   "source": [
    "def test4(a,b,c,d,e,r,t,s)"
   ]
  },
  {
   "cell_type": "code",
   "execution_count": 46,
   "id": "f073252d-03ec-48b5-bf9b-7dc7cb9a72f5",
   "metadata": {},
   "outputs": [],
   "source": [
    "# *args"
   ]
  },
  {
   "cell_type": "code",
   "execution_count": 49,
   "id": "cf67a06f-3f42-423e-b2df-5dab9b9a5a00",
   "metadata": {},
   "outputs": [],
   "source": [
    "def test5(*args): # Multiple arguments / infinite arguments\n",
    "    return args"
   ]
  },
  {
   "cell_type": "code",
   "execution_count": 50,
   "id": "800830f1-4bc8-49c0-b247-48c7211918fd",
   "metadata": {},
   "outputs": [
    {
     "data": {
      "text/plain": [
       "(10, 4, 8, 27, [1, 2, 3], 'Hello', 10, 20, 6, 7, 9, 34)"
      ]
     },
     "execution_count": 50,
     "metadata": {},
     "output_type": "execute_result"
    }
   ],
   "source": [
    "test5(10,4,8,27,[1,2,3], 'Hello', 10,20,6,7,9,34)"
   ]
  },
  {
   "cell_type": "code",
   "execution_count": null,
   "id": "7c323459-ce1a-4684-ab21-1a9fe996bfe7",
   "metadata": {},
   "outputs": [],
   "source": []
  }
 ],
 "metadata": {
  "kernelspec": {
   "display_name": "Python 3 (ipykernel)",
   "language": "python",
   "name": "python3"
  },
  "language_info": {
   "codemirror_mode": {
    "name": "ipython",
    "version": 3
   },
   "file_extension": ".py",
   "mimetype": "text/x-python",
   "name": "python",
   "nbconvert_exporter": "python",
   "pygments_lexer": "ipython3",
   "version": "3.12.4"
  }
 },
 "nbformat": 4,
 "nbformat_minor": 5
}
