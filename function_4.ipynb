{
 "cells": [
  {
   "cell_type": "markdown",
   "id": "3083befa-1aa7-43ef-8c3f-9c19a3800672",
   "metadata": {},
   "source": [
    "# Lamnda Function"
   ]
  },
  {
   "cell_type": "code",
   "execution_count": 1,
   "id": "69e6c36d-01c6-441c-9e46-9d2177759c2b",
   "metadata": {},
   "outputs": [],
   "source": [
    "f = lambda x:x + 100"
   ]
  },
  {
   "cell_type": "code",
   "execution_count": 2,
   "id": "ec5acbd5-235a-4532-bbc9-3fc8c46f4842",
   "metadata": {},
   "outputs": [
    {
     "data": {
      "text/plain": [
       "105"
      ]
     },
     "execution_count": 2,
     "metadata": {},
     "output_type": "execute_result"
    }
   ],
   "source": [
    "f(5)"
   ]
  },
  {
   "cell_type": "code",
   "execution_count": 3,
   "id": "94f529b1-2024-4310-acaa-76daad37a9d9",
   "metadata": {},
   "outputs": [],
   "source": [
    "def number_ten(x):\n",
    "    return x + 10"
   ]
  },
  {
   "cell_type": "code",
   "execution_count": 5,
   "id": "a31a24a7-e644-41b5-9f5c-120203aa8a8f",
   "metadata": {},
   "outputs": [
    {
     "data": {
      "text/plain": [
       "15"
      ]
     },
     "execution_count": 5,
     "metadata": {},
     "output_type": "execute_result"
    }
   ],
   "source": [
    "number_ten(5)"
   ]
  },
  {
   "cell_type": "code",
   "execution_count": 6,
   "id": "e4b771e2-a4bb-421c-84dd-4b162039ca60",
   "metadata": {},
   "outputs": [],
   "source": [
    "nt = lambda a:a+10"
   ]
  },
  {
   "cell_type": "code",
   "execution_count": 7,
   "id": "38309892-3f13-44bc-983d-d6969bf5a40c",
   "metadata": {},
   "outputs": [
    {
     "data": {
      "text/plain": [
       "15"
      ]
     },
     "execution_count": 7,
     "metadata": {},
     "output_type": "execute_result"
    }
   ],
   "source": [
    "nt(5)"
   ]
  },
  {
   "cell_type": "code",
   "execution_count": 8,
   "id": "89f043bd-4385-4b5e-af24-d048da5e655a",
   "metadata": {},
   "outputs": [],
   "source": [
    "# Square of number"
   ]
  },
  {
   "cell_type": "code",
   "execution_count": 9,
   "id": "4c83b2be-45e7-4b80-beca-c13e812c3a85",
   "metadata": {},
   "outputs": [],
   "source": [
    "def square_num(x):\n",
    "    return x * x"
   ]
  },
  {
   "cell_type": "code",
   "execution_count": 10,
   "id": "ca510702-297f-4007-b865-b56e99a491bb",
   "metadata": {},
   "outputs": [
    {
     "data": {
      "text/plain": [
       "4"
      ]
     },
     "execution_count": 10,
     "metadata": {},
     "output_type": "execute_result"
    }
   ],
   "source": [
    "square_num(2)"
   ]
  },
  {
   "cell_type": "code",
   "execution_count": 11,
   "id": "9556b79a-11c8-41fd-a7b8-4a89ece81e68",
   "metadata": {},
   "outputs": [],
   "source": [
    "sn = lambda x: x * x"
   ]
  },
  {
   "cell_type": "markdown",
   "id": "706603f3-99e0-485b-9966-c6f27b8910e4",
   "metadata": {},
   "source": [
    "sn(3)"
   ]
  },
  {
   "cell_type": "code",
   "execution_count": 13,
   "id": "69241ed9-d90e-4be5-9869-1b0513ec0a9f",
   "metadata": {},
   "outputs": [],
   "source": [
    "# aadition of two numbers"
   ]
  },
  {
   "cell_type": "code",
   "execution_count": 14,
   "id": "90d4b093-073b-4f8e-a83c-6172bbd4e85f",
   "metadata": {},
   "outputs": [],
   "source": [
    "test1 = lambda a,b : a + b"
   ]
  },
  {
   "cell_type": "code",
   "execution_count": 15,
   "id": "04c6b099-0ea7-459b-9cc9-78427eedb363",
   "metadata": {},
   "outputs": [
    {
     "data": {
      "text/plain": [
       "15"
      ]
     },
     "execution_count": 15,
     "metadata": {},
     "output_type": "execute_result"
    }
   ],
   "source": [
    "test1(10,5)"
   ]
  },
  {
   "cell_type": "code",
   "execution_count": 16,
   "id": "3a91e5c4-17cf-450d-b44f-bbde7ebe8236",
   "metadata": {},
   "outputs": [],
   "source": [
    "# Devide it and multiply it"
   ]
  },
  {
   "cell_type": "code",
   "execution_count": 21,
   "id": "f7fdf728-540b-441b-8c6c-c09a87196b1f",
   "metadata": {},
   "outputs": [],
   "source": [
    "test2 = lambda a , b : (a*b, a/b)"
   ]
  },
  {
   "cell_type": "code",
   "execution_count": 22,
   "id": "8736450d-1b6a-4cbf-91ca-1503545294e4",
   "metadata": {},
   "outputs": [
    {
     "data": {
      "text/plain": [
       "(6, 1.5)"
      ]
     },
     "execution_count": 22,
     "metadata": {},
     "output_type": "execute_result"
    }
   ],
   "source": [
    "test2(3,2)"
   ]
  },
  {
   "cell_type": "markdown",
   "id": "18f7b6b3-b5c6-43cb-be00-5e3603cc42ed",
   "metadata": {},
   "source": [
    "# List comprehensions"
   ]
  },
  {
   "cell_type": "code",
   "execution_count": 23,
   "id": "c93c042a-edd4-4483-a2ab-0fcf6cbaafeb",
   "metadata": {},
   "outputs": [],
   "source": [
    "l = [1,2,3,4]"
   ]
  },
  {
   "cell_type": "code",
   "execution_count": 24,
   "id": "8c7c84a4-bc4d-4cfc-86fd-93de7d403c3f",
   "metadata": {},
   "outputs": [
    {
     "name": "stdout",
     "output_type": "stream",
     "text": [
      "1\n",
      "2\n",
      "3\n",
      "4\n"
     ]
    }
   ],
   "source": [
    "for i in l:\n",
    "    print(i)"
   ]
  },
  {
   "cell_type": "code",
   "execution_count": 25,
   "id": "0dce51e1-1850-4052-af1c-47d65be2c8f2",
   "metadata": {},
   "outputs": [
    {
     "data": {
      "text/plain": [
       "[1, 2, 3, 4]"
      ]
     },
     "execution_count": 25,
     "metadata": {},
     "output_type": "execute_result"
    }
   ],
   "source": [
    "[i for i in l]"
   ]
  },
  {
   "cell_type": "code",
   "execution_count": 26,
   "id": "3fdef134-f061-4730-9eb8-a18ff88f9ce8",
   "metadata": {},
   "outputs": [
    {
     "data": {
      "text/plain": [
       "[11, 12, 13, 14]"
      ]
     },
     "execution_count": 26,
     "metadata": {},
     "output_type": "execute_result"
    }
   ],
   "source": [
    "[i+10 for i in l]"
   ]
  },
  {
   "cell_type": "code",
   "execution_count": null,
   "id": "1807eb20-18f1-4d52-a5ab-fe6e89fb454b",
   "metadata": {},
   "outputs": [],
   "source": [
    "#  [output for item in iterable]\n",
    "#  [output + 10 for item in iterable]"
   ]
  },
  {
   "cell_type": "code",
   "execution_count": 27,
   "id": "2e9f124c-0969-4316-b500-f8718dfa3361",
   "metadata": {},
   "outputs": [
    {
     "data": {
      "text/plain": [
       "[0, 1, 2, 3, 4]"
      ]
     },
     "execution_count": 27,
     "metadata": {},
     "output_type": "execute_result"
    }
   ],
   "source": [
    "[i for i in range(5)]"
   ]
  },
  {
   "cell_type": "code",
   "execution_count": 29,
   "id": "791b9b08-07af-4a92-b244-e4e7a29052c8",
   "metadata": {},
   "outputs": [
    {
     "data": {
      "text/plain": [
       "[1, 4, 9, 16, 25, 36, 49, 64, 81, 100]"
      ]
     },
     "execution_count": 29,
     "metadata": {},
     "output_type": "execute_result"
    }
   ],
   "source": [
    "[i * i for i in range(1,11)]"
   ]
  },
  {
   "cell_type": "code",
   "execution_count": 30,
   "id": "8d5174e3-7dc3-46cf-be24-49cb8c337973",
   "metadata": {},
   "outputs": [
    {
     "name": "stdout",
     "output_type": "stream",
     "text": [
      "2\n",
      "4\n",
      "6\n",
      "8\n",
      "10\n",
      "12\n",
      "14\n",
      "16\n",
      "18\n",
      "20\n"
     ]
    }
   ],
   "source": [
    "for i in range(1,21):\n",
    "    if i % 2 == 0:\n",
    "        print(i)"
   ]
  },
  {
   "cell_type": "code",
   "execution_count": 31,
   "id": "9f3b6711-54bf-447b-9082-02ced3895aab",
   "metadata": {},
   "outputs": [
    {
     "data": {
      "text/plain": [
       "[2, 4, 6, 8, 10, 12, 14, 16, 18, 20]"
      ]
     },
     "execution_count": 31,
     "metadata": {},
     "output_type": "execute_result"
    }
   ],
   "source": [
    "[i for i in range(1,21) if i % 2 == 0]"
   ]
  },
  {
   "cell_type": "code",
   "execution_count": 32,
   "id": "5924e986-7099-4597-a685-840158641a20",
   "metadata": {},
   "outputs": [],
   "source": [
    "numbers = [1,-2,-3,-4,5]"
   ]
  },
  {
   "cell_type": "code",
   "execution_count": 33,
   "id": "8ae8e692-f44c-400e-9aca-3c05cc5db1ac",
   "metadata": {},
   "outputs": [
    {
     "data": {
      "text/plain": [
       "[1, 'Negative', 'Negative', 'Negative', 5]"
      ]
     },
     "execution_count": 33,
     "metadata": {},
     "output_type": "execute_result"
    }
   ],
   "source": [
    "[i if i > 0 else 'Negative' for i in numbers]"
   ]
  },
  {
   "cell_type": "markdown",
   "id": "5558f5ce-cac4-4647-9c04-1c1dde4725dd",
   "metadata": {},
   "source": [
    "# Dictionary Comprehension"
   ]
  },
  {
   "cell_type": "code",
   "execution_count": 34,
   "id": "21d948c4-3119-4f16-ad14-4a25a43b3ff7",
   "metadata": {},
   "outputs": [
    {
     "data": {
      "text/plain": [
       "{0: 0, 1: 1, 2: 4, 3: 9, 4: 16}"
      ]
     },
     "execution_count": 34,
     "metadata": {},
     "output_type": "execute_result"
    }
   ],
   "source": [
    "{i:i*i for i in range(5)}"
   ]
  },
  {
   "cell_type": "raw",
   "id": "86a68e0f-593d-4ece-8211-6fd921db39af",
   "metadata": {},
   "source": [
    "1.What is the diff b/w list and tuple.\n",
    "2.Filter out any data from list.\n",
    "3.Change the the data with new data.\n",
    "4.What isnested list.\n",
    "5.How to reverse list.\n",
    "6.Diff b/w append and extend\n",
    "7.What is tuple.Property of tuple.\n",
    "8.What is set.Property of set.\n",
    "9.What is dict.\n",
    "10.Condetional statement.If else.\n",
    "11.What is for loop.\n",
    "12.What is while loop.\n",
    "13.what is break,continue,pass.\n",
    "14.What is function.\n",
    "15.What is the diff b/w print and return?\n",
    "16.How you can write down the dockstring/description for function?\n",
    "17.What is local and global varable?\n",
    "18.Write a function for checking given x number is even or odd.\n",
    "19.Function for square of number.\n",
    "20.Function for filter of int type of data.(a),(*args)"
   ]
  },
  {
   "cell_type": "code",
   "execution_count": null,
   "id": "03f11b9c-ba99-405e-9454-f62f756d44b2",
   "metadata": {},
   "outputs": [],
   "source": []
  }
 ],
 "metadata": {
  "kernelspec": {
   "display_name": "Python 3 (ipykernel)",
   "language": "python",
   "name": "python3"
  },
  "language_info": {
   "codemirror_mode": {
    "name": "ipython",
    "version": 3
   },
   "file_extension": ".py",
   "mimetype": "text/x-python",
   "name": "python",
   "nbconvert_exporter": "python",
   "pygments_lexer": "ipython3",
   "version": "3.12.4"
  }
 },
 "nbformat": 4,
 "nbformat_minor": 5
}
