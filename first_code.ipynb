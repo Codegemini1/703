{
 "cells": [
  {
   "cell_type": "markdown",
   "id": "cb458c79-6fa1-464c-ab52-25a5a32329a8",
   "metadata": {},
   "source": [
    "# First day"
   ]
  },
  {
   "cell_type": "markdown",
   "id": "28f0f867-0718-40b7-8f3a-5074af01d904",
   "metadata": {},
   "source": [
    "Today we are going to learn python"
   ]
  },
  {
   "cell_type": "raw",
   "id": "5f16cdce-3f3c-413c-9b1a-1fdf849415f3",
   "metadata": {},
   "source": [
    "x --> 10\n",
    "d -->6\n",
    "x * d\n",
    "sdygvd"
   ]
  },
  {
   "cell_type": "code",
   "execution_count": 1,
   "id": "3c121666-d613-4940-b397-4465969962a1",
   "metadata": {},
   "outputs": [
    {
     "data": {
      "text/plain": [
       "15"
      ]
     },
     "execution_count": 1,
     "metadata": {},
     "output_type": "execute_result"
    }
   ],
   "source": [
    "10 + 5"
   ]
  },
  {
   "cell_type": "code",
   "execution_count": 2,
   "id": "af0d7458-9e2f-4869-9817-98967ed09003",
   "metadata": {},
   "outputs": [
    {
     "data": {
      "text/plain": [
       "15"
      ]
     },
     "execution_count": 2,
     "metadata": {},
     "output_type": "execute_result"
    }
   ],
   "source": [
    "5 * 3"
   ]
  },
  {
   "cell_type": "markdown",
   "id": "29352330-1044-4d4c-b498-d4b4a220aad1",
   "metadata": {},
   "source": [
    "# Shift + enter"
   ]
  },
  {
   "cell_type": "markdown",
   "id": "75f54d20-74aa-40eb-8c21-863314f177d1",
   "metadata": {},
   "source": [
    "To run cell "
   ]
  },
  {
   "cell_type": "code",
   "execution_count": 3,
   "id": "13a8628b-23d6-42fb-a93f-7db8867c3403",
   "metadata": {},
   "outputs": [
    {
     "data": {
      "text/plain": [
       "2.0"
      ]
     },
     "execution_count": 3,
     "metadata": {},
     "output_type": "execute_result"
    }
   ],
   "source": [
    "10 / 5"
   ]
  },
  {
   "cell_type": "code",
   "execution_count": null,
   "id": "9482cbd8-c957-49bc-81d1-097ebac538b2",
   "metadata": {},
   "outputs": [],
   "source": []
  }
 ],
 "metadata": {
  "kernelspec": {
   "display_name": "Python 3 (ipykernel)",
   "language": "python",
   "name": "python3"
  },
  "language_info": {
   "codemirror_mode": {
    "name": "ipython",
    "version": 3
   },
   "file_extension": ".py",
   "mimetype": "text/x-python",
   "name": "python",
   "nbconvert_exporter": "python",
   "pygments_lexer": "ipython3",
   "version": "3.12.4"
  }
 },
 "nbformat": 4,
 "nbformat_minor": 5
}
