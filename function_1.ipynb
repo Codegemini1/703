{
 "cells": [
  {
   "cell_type": "code",
   "execution_count": 1,
   "id": "922b795f-c254-464b-8f81-d3ea647223ea",
   "metadata": {},
   "outputs": [
    {
     "name": "stdout",
     "output_type": "stream",
     "text": [
      "1 You are student\n",
      "3 You are student\n",
      "5 You are student\n",
      "7 You are student\n",
      "9 You are student\n",
      "11 You are student\n",
      "13 You are student\n",
      "15 You are student\n",
      "17 You are student\n"
     ]
    }
   ],
   "source": [
    "age = 1\n",
    "while age < 18:\n",
    "    print(age, 'You are student')\n",
    "    age = age + 2"
   ]
  },
  {
   "cell_type": "code",
   "execution_count": 2,
   "id": "d0868f4e-55d1-4dfe-b99f-922942cac2de",
   "metadata": {},
   "outputs": [],
   "source": [
    "def test():\n",
    "    print('I am test function')"
   ]
  },
  {
   "cell_type": "code",
   "execution_count": 3,
   "id": "0cdb0fea-f4ef-429b-860b-2f3bb171ab8b",
   "metadata": {},
   "outputs": [
    {
     "name": "stdout",
     "output_type": "stream",
     "text": [
      "I am test function\n"
     ]
    }
   ],
   "source": [
    "test()"
   ]
  },
  {
   "cell_type": "code",
   "execution_count": 4,
   "id": "00cd5fa5-da9f-437d-bb16-73eef4eb7c7f",
   "metadata": {},
   "outputs": [
    {
     "name": "stdout",
     "output_type": "stream",
     "text": [
      "I am test function\n"
     ]
    }
   ],
   "source": [
    "test()"
   ]
  },
  {
   "cell_type": "code",
   "execution_count": 5,
   "id": "58aeaa85-f9b3-4928-80e3-3a136259c4a4",
   "metadata": {},
   "outputs": [
    {
     "data": {
      "text/plain": [
       "4"
      ]
     },
     "execution_count": 5,
     "metadata": {},
     "output_type": "execute_result"
    }
   ],
   "source": [
    "len([1,2,3,4])"
   ]
  },
  {
   "cell_type": "code",
   "execution_count": 6,
   "id": "469b8ffd-30fe-496a-8f39-7ef47c0bca38",
   "metadata": {},
   "outputs": [],
   "source": [
    "def sum(x,y):\n",
    "    '''This is sum function.\n",
    "    Sum function is going to add x and y value.\n",
    "    You have to pass values for x and y.'''\n",
    "    print(x+y)"
   ]
  },
  {
   "cell_type": "code",
   "execution_count": null,
   "id": "59e13a1c-9e5e-443a-a7c9-9d605af41662",
   "metadata": {},
   "outputs": [],
   "source": [
    "# How to write description / dockstring of function"
   ]
  },
  {
   "cell_type": "code",
   "execution_count": 8,
   "id": "5be85c91-f859-4ba7-b704-ddeb62c5582f",
   "metadata": {},
   "outputs": [
    {
     "name": "stdout",
     "output_type": "stream",
     "text": [
      "3\n"
     ]
    }
   ],
   "source": [
    "sum(1,2)"
   ]
  },
  {
   "cell_type": "code",
   "execution_count": 9,
   "id": "89c0858b-936d-474b-bb86-ac7a867e2c62",
   "metadata": {},
   "outputs": [],
   "source": [
    "def banner():\n",
    "    print('This is banner of data science')"
   ]
  },
  {
   "cell_type": "code",
   "execution_count": 10,
   "id": "446d9022-4d30-45bb-9cf8-f1214f358204",
   "metadata": {},
   "outputs": [
    {
     "name": "stdout",
     "output_type": "stream",
     "text": [
      "This is banner of data science\n"
     ]
    }
   ],
   "source": [
    "banner()"
   ]
  },
  {
   "cell_type": "code",
   "execution_count": 12,
   "id": "6a3981c8-d87e-4e60-997e-44a1db8db741",
   "metadata": {},
   "outputs": [
    {
     "name": "stdout",
     "output_type": "stream",
     "text": [
      "I am test function\n"
     ]
    }
   ],
   "source": [
    "test()"
   ]
  },
  {
   "cell_type": "code",
   "execution_count": 15,
   "id": "b04a275d-1f97-41a1-b1b2-e7ee90882f42",
   "metadata": {},
   "outputs": [
    {
     "name": "stdout",
     "output_type": "stream",
     "text": [
      "3\n"
     ]
    },
    {
     "data": {
      "text/plain": [
       "NoneType"
      ]
     },
     "execution_count": 15,
     "metadata": {},
     "output_type": "execute_result"
    }
   ],
   "source": [
    "type(sum(1,2))"
   ]
  },
  {
   "cell_type": "code",
   "execution_count": 14,
   "id": "5de64a48-6520-4444-ac88-0e5526caa5e9",
   "metadata": {},
   "outputs": [
    {
     "name": "stdout",
     "output_type": "stream",
     "text": [
      "3\n"
     ]
    }
   ],
   "source": [
    "sum(1,2)"
   ]
  },
  {
   "cell_type": "code",
   "execution_count": 16,
   "id": "0111933f-1d16-4a5a-9940-3101db33c6a2",
   "metadata": {},
   "outputs": [],
   "source": [
    "def addition(x,y):\n",
    "    return x + y"
   ]
  },
  {
   "cell_type": "code",
   "execution_count": 17,
   "id": "2f11e453-ad9d-40d3-95b7-283d27617246",
   "metadata": {},
   "outputs": [
    {
     "data": {
      "text/plain": [
       "3"
      ]
     },
     "execution_count": 17,
     "metadata": {},
     "output_type": "execute_result"
    }
   ],
   "source": [
    "addition(1,2)"
   ]
  },
  {
   "cell_type": "code",
   "execution_count": 18,
   "id": "c7198f47-ef86-4275-813f-30d0be06c3e1",
   "metadata": {},
   "outputs": [
    {
     "data": {
      "text/plain": [
       "int"
      ]
     },
     "execution_count": 18,
     "metadata": {},
     "output_type": "execute_result"
    }
   ],
   "source": [
    "type(addition(1,2))"
   ]
  },
  {
   "cell_type": "code",
   "execution_count": 19,
   "id": "081bccbd-a07b-416f-ae87-5a6777730165",
   "metadata": {},
   "outputs": [],
   "source": [
    "# Diff b/w Print and return ?"
   ]
  },
  {
   "cell_type": "code",
   "execution_count": 20,
   "id": "604a01dd-fea7-4efb-a31c-c26c134d7c24",
   "metadata": {},
   "outputs": [],
   "source": [
    "def multiplication(x,y):\n",
    "    return x * y"
   ]
  },
  {
   "cell_type": "code",
   "execution_count": 21,
   "id": "bd615752-8baa-4c39-8365-3f23b52b40ba",
   "metadata": {},
   "outputs": [
    {
     "data": {
      "text/plain": [
       "50"
      ]
     },
     "execution_count": 21,
     "metadata": {},
     "output_type": "execute_result"
    }
   ],
   "source": [
    "multiplication(10,5)"
   ]
  },
  {
   "cell_type": "code",
   "execution_count": 22,
   "id": "b94a6c5d-130d-4a27-8e00-a811ad4463e6",
   "metadata": {},
   "outputs": [
    {
     "data": {
      "text/plain": [
       "int"
      ]
     },
     "execution_count": 22,
     "metadata": {},
     "output_type": "execute_result"
    }
   ],
   "source": [
    "type(multiplication(10,5))"
   ]
  },
  {
   "cell_type": "code",
   "execution_count": 23,
   "id": "9f3a65b4-b600-4b76-83af-90259501b106",
   "metadata": {},
   "outputs": [
    {
     "data": {
      "text/plain": [
       "53"
      ]
     },
     "execution_count": 23,
     "metadata": {},
     "output_type": "execute_result"
    }
   ],
   "source": [
    "multiplication(10,5)  + addition(1,2)"
   ]
  },
  {
   "cell_type": "code",
   "execution_count": 24,
   "id": "4eb3d8b7-c58e-4720-86bd-4bf2a3ff181d",
   "metadata": {},
   "outputs": [],
   "source": [
    "# Function for square of number"
   ]
  },
  {
   "cell_type": "code",
   "execution_count": 25,
   "id": "8306d175-a5da-4262-9c16-284ee6a3fc5a",
   "metadata": {},
   "outputs": [],
   "source": [
    "def square(x):\n",
    "    return x * x"
   ]
  },
  {
   "cell_type": "code",
   "execution_count": 26,
   "id": "37fb1154-cddb-48d0-bb43-5e272acfc815",
   "metadata": {},
   "outputs": [
    {
     "data": {
      "text/plain": [
       "25"
      ]
     },
     "execution_count": 26,
     "metadata": {},
     "output_type": "execute_result"
    }
   ],
   "source": [
    "square(5)"
   ]
  },
  {
   "cell_type": "code",
   "execution_count": 27,
   "id": "8a5f04bc-2ab0-4ac0-a5c1-68722d123d0e",
   "metadata": {},
   "outputs": [
    {
     "data": {
      "text/plain": [
       "9"
      ]
     },
     "execution_count": 27,
     "metadata": {},
     "output_type": "execute_result"
    }
   ],
   "source": [
    "square(3)"
   ]
  },
  {
   "cell_type": "code",
   "execution_count": 28,
   "id": "be965384-5ca6-4f11-a39b-8551e11359c7",
   "metadata": {},
   "outputs": [],
   "source": [
    "# Function for checking number is even or odd"
   ]
  },
  {
   "cell_type": "code",
   "execution_count": 29,
   "id": "12e52eff-c68c-4cdd-a874-c866b9e4b971",
   "metadata": {},
   "outputs": [],
   "source": [
    "def even_odd(a):\n",
    "    if a % 2 == 0:\n",
    "        return 'Number is even', a\n",
    "    else:\n",
    "        return 'Number is odd', a"
   ]
  },
  {
   "cell_type": "code",
   "execution_count": 30,
   "id": "f8df6c58-adbe-4205-b4de-d05c143bfc96",
   "metadata": {},
   "outputs": [
    {
     "data": {
      "text/plain": [
       "('Number is odd', 9)"
      ]
     },
     "execution_count": 30,
     "metadata": {},
     "output_type": "execute_result"
    }
   ],
   "source": [
    "even_odd(9)"
   ]
  },
  {
   "cell_type": "code",
   "execution_count": 31,
   "id": "067b2985-e3ee-44a6-9180-21f9445fecd5",
   "metadata": {},
   "outputs": [
    {
     "data": {
      "text/plain": [
       "('Number is even', 2)"
      ]
     },
     "execution_count": 31,
     "metadata": {},
     "output_type": "execute_result"
    }
   ],
   "source": [
    "even_odd(2)"
   ]
  },
  {
   "cell_type": "code",
   "execution_count": 32,
   "id": "6b1941b5-0da4-4aad-9da4-ffb9a8793aec",
   "metadata": {},
   "outputs": [],
   "source": [
    "def table(x):\n",
    "    for i in range(1,11):\n",
    "        print(i * x)"
   ]
  },
  {
   "cell_type": "code",
   "execution_count": 33,
   "id": "0fe29812-3f0f-4b45-8ba7-0285b3ca44c1",
   "metadata": {},
   "outputs": [
    {
     "name": "stdout",
     "output_type": "stream",
     "text": [
      "5\n",
      "10\n",
      "15\n",
      "20\n",
      "25\n",
      "30\n",
      "35\n",
      "40\n",
      "45\n",
      "50\n"
     ]
    }
   ],
   "source": [
    "table(5)"
   ]
  },
  {
   "cell_type": "code",
   "execution_count": 34,
   "id": "26cadbcd-660e-4ec4-ac44-9afc9bcf8603",
   "metadata": {},
   "outputs": [
    {
     "name": "stdout",
     "output_type": "stream",
     "text": [
      "1\n",
      "2\n",
      "3\n",
      "4\n",
      "5\n",
      "6\n",
      "7\n",
      "8\n",
      "9\n",
      "10\n"
     ]
    }
   ],
   "source": [
    "for i in range(1,11):\n",
    "    print(i)"
   ]
  },
  {
   "cell_type": "code",
   "execution_count": null,
   "id": "363c3246-4a19-4969-aff7-e0a02d71ac1e",
   "metadata": {},
   "outputs": [],
   "source": []
  }
 ],
 "metadata": {
  "kernelspec": {
   "display_name": "Python 3 (ipykernel)",
   "language": "python",
   "name": "python3"
  },
  "language_info": {
   "codemirror_mode": {
    "name": "ipython",
    "version": 3
   },
   "file_extension": ".py",
   "mimetype": "text/x-python",
   "name": "python",
   "nbconvert_exporter": "python",
   "pygments_lexer": "ipython3",
   "version": "3.12.4"
  }
 },
 "nbformat": 4,
 "nbformat_minor": 5
}
