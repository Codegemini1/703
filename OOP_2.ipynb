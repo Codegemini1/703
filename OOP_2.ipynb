{
 "cells": [
  {
   "cell_type": "markdown",
   "id": "15b285da-a737-4ed7-aace-e5d9bc2d99c1",
   "metadata": {},
   "source": [
    "# Encapsulation"
   ]
  },
  {
   "cell_type": "code",
   "execution_count": 1,
   "id": "cf4a6c93-c5b1-42cb-bd4b-345a03db1db1",
   "metadata": {},
   "outputs": [],
   "source": [
    "class full_name():\n",
    "    def __init__(self,first, Middle, last):\n",
    "        self.first = first\n",
    "        self.Middle = Middle\n",
    "        self.last = last\n",
    "        "
   ]
  },
  {
   "cell_type": "code",
   "execution_count": 2,
   "id": "959c5ae8-c8ea-4016-a501-d0dda710daf0",
   "metadata": {},
   "outputs": [],
   "source": [
    "person1 = full_name(\"Vaibhav\", \"Vilasraje\", \"Bhosale\")"
   ]
  },
  {
   "cell_type": "code",
   "execution_count": 3,
   "id": "e207a19c-4c92-4852-84fa-5acbf95a1d0c",
   "metadata": {},
   "outputs": [
    {
     "data": {
      "text/plain": [
       "'Vaibhav'"
      ]
     },
     "execution_count": 3,
     "metadata": {},
     "output_type": "execute_result"
    }
   ],
   "source": [
    "person1.first"
   ]
  },
  {
   "cell_type": "code",
   "execution_count": 4,
   "id": "a8564c5a-5f45-48db-ad25-74d64360111b",
   "metadata": {},
   "outputs": [
    {
     "data": {
      "text/plain": [
       "'Vilasraje'"
      ]
     },
     "execution_count": 4,
     "metadata": {},
     "output_type": "execute_result"
    }
   ],
   "source": [
    "person1.Middle"
   ]
  },
  {
   "cell_type": "code",
   "execution_count": 5,
   "id": "9350d336-c444-493c-b962-20418697b0d2",
   "metadata": {},
   "outputs": [
    {
     "data": {
      "text/plain": [
       "'Bhosale'"
      ]
     },
     "execution_count": 5,
     "metadata": {},
     "output_type": "execute_result"
    }
   ],
   "source": [
    "person1.last"
   ]
  },
  {
   "cell_type": "markdown",
   "id": "09612033-6c1b-4aee-8e2d-f0363e2bbb3c",
   "metadata": {},
   "source": [
    "Encapsulation"
   ]
  },
  {
   "cell_type": "code",
   "execution_count": 8,
   "id": "3d09b75c-00d1-4006-9480-e9d0d9361dcc",
   "metadata": {},
   "outputs": [],
   "source": [
    "class full_name():\n",
    "    def __init__(self,first, Middle, last):\n",
    "        self.first = first    #Public\n",
    "        self._Middle = Middle #Protected\n",
    "        self.__last = last    #Private"
   ]
  },
  {
   "cell_type": "code",
   "execution_count": 9,
   "id": "429e3ce6-ff23-4179-a7cd-1aee57c97aa3",
   "metadata": {},
   "outputs": [],
   "source": [
    "person2 = full_name(\"Vaibhav\", \"Vilasraje\", \"Bhosale\")"
   ]
  },
  {
   "cell_type": "code",
   "execution_count": 10,
   "id": "f860f6fa-11e9-48f4-adb5-0aade06e6e67",
   "metadata": {},
   "outputs": [
    {
     "data": {
      "text/plain": [
       "'Vaibhav'"
      ]
     },
     "execution_count": 10,
     "metadata": {},
     "output_type": "execute_result"
    }
   ],
   "source": [
    "person2.first"
   ]
  },
  {
   "cell_type": "code",
   "execution_count": 11,
   "id": "901d00db-d53c-4ee5-85a6-c117e5eca019",
   "metadata": {},
   "outputs": [
    {
     "data": {
      "text/plain": [
       "'Vilasraje'"
      ]
     },
     "execution_count": 11,
     "metadata": {},
     "output_type": "execute_result"
    }
   ],
   "source": [
    "# Protected\n",
    "person2._Middle"
   ]
  },
  {
   "cell_type": "code",
   "execution_count": 13,
   "id": "b42198cc-cfce-495a-8b0d-c85b4050673f",
   "metadata": {},
   "outputs": [
    {
     "data": {
      "text/plain": [
       "'Bhosale'"
      ]
     },
     "execution_count": 13,
     "metadata": {},
     "output_type": "execute_result"
    }
   ],
   "source": [
    "# Private\n",
    "person2._full_name__last"
   ]
  },
  {
   "cell_type": "code",
   "execution_count": 14,
   "id": "6d7cef5b-6b79-42c6-af50-c9ac9a47ae37",
   "metadata": {},
   "outputs": [],
   "source": [
    "class students_data():\n",
    "    def __init__(self,name,roll_no,mobile_no):\n",
    "        self.name = name\n",
    "        self._roll_no = roll_no\n",
    "        self.__mobile_no = mobile_no"
   ]
  },
  {
   "cell_type": "code",
   "execution_count": 15,
   "id": "ca3ce60f-d784-4e9f-b6dd-f59ef7e4379f",
   "metadata": {},
   "outputs": [],
   "source": [
    "person3  = students_data('Vaibhav', 42, 8180899804)"
   ]
  },
  {
   "cell_type": "code",
   "execution_count": 16,
   "id": "a07a1e45-cd3f-4839-854d-9f9f5aa80dc7",
   "metadata": {},
   "outputs": [
    {
     "data": {
      "text/plain": [
       "'Vaibhav'"
      ]
     },
     "execution_count": 16,
     "metadata": {},
     "output_type": "execute_result"
    }
   ],
   "source": [
    "person3.name"
   ]
  },
  {
   "cell_type": "code",
   "execution_count": 17,
   "id": "ff8806e6-a6f8-4748-a4d1-60ae0aa6f84d",
   "metadata": {},
   "outputs": [
    {
     "data": {
      "text/plain": [
       "42"
      ]
     },
     "execution_count": 17,
     "metadata": {},
     "output_type": "execute_result"
    }
   ],
   "source": [
    "person3._roll_no"
   ]
  },
  {
   "cell_type": "code",
   "execution_count": 18,
   "id": "e550a36f-be4c-43e8-9143-08091ce03195",
   "metadata": {},
   "outputs": [
    {
     "data": {
      "text/plain": [
       "8180899804"
      ]
     },
     "execution_count": 18,
     "metadata": {},
     "output_type": "execute_result"
    }
   ],
   "source": [
    "person3._students_data__mobile_no"
   ]
  },
  {
   "cell_type": "code",
   "execution_count": 19,
   "id": "c8b560b1-6590-4884-a24e-2c2e8aaf7439",
   "metadata": {},
   "outputs": [],
   "source": [
    "# Overwritting"
   ]
  },
  {
   "cell_type": "code",
   "execution_count": 20,
   "id": "34212315-d631-480c-9f34-0f73f117a881",
   "metadata": {},
   "outputs": [
    {
     "data": {
      "text/plain": [
       "'Vaibhav'"
      ]
     },
     "execution_count": 20,
     "metadata": {},
     "output_type": "execute_result"
    }
   ],
   "source": [
    "person3.name"
   ]
  },
  {
   "cell_type": "code",
   "execution_count": 21,
   "id": "a0193dad-cff7-4d2a-8234-78bfbc958b81",
   "metadata": {},
   "outputs": [],
   "source": [
    "person3.name = 'Rock'"
   ]
  },
  {
   "cell_type": "code",
   "execution_count": 22,
   "id": "bbc1f772-f492-4ee7-a623-dc1f12ebfe0a",
   "metadata": {},
   "outputs": [
    {
     "data": {
      "text/plain": [
       "'Rock'"
      ]
     },
     "execution_count": 22,
     "metadata": {},
     "output_type": "execute_result"
    }
   ],
   "source": [
    "person3.name"
   ]
  },
  {
   "cell_type": "code",
   "execution_count": 23,
   "id": "9aba925b-a73d-435c-b078-146368509cff",
   "metadata": {},
   "outputs": [
    {
     "data": {
      "text/plain": [
       "42"
      ]
     },
     "execution_count": 23,
     "metadata": {},
     "output_type": "execute_result"
    }
   ],
   "source": [
    "person3._roll_no"
   ]
  },
  {
   "cell_type": "code",
   "execution_count": 24,
   "id": "3433a737-1f28-4c54-92f1-1297b4793a33",
   "metadata": {},
   "outputs": [],
   "source": [
    "person3._roll_no = 50"
   ]
  },
  {
   "cell_type": "code",
   "execution_count": 25,
   "id": "2e0b56e9-eff8-43d1-8f16-91a12dfa5fc9",
   "metadata": {},
   "outputs": [
    {
     "data": {
      "text/plain": [
       "50"
      ]
     },
     "execution_count": 25,
     "metadata": {},
     "output_type": "execute_result"
    }
   ],
   "source": [
    "person3._roll_no"
   ]
  },
  {
   "cell_type": "code",
   "execution_count": 26,
   "id": "d2252674-0148-4d4b-9c14-3306da232728",
   "metadata": {},
   "outputs": [
    {
     "data": {
      "text/plain": [
       "8180899804"
      ]
     },
     "execution_count": 26,
     "metadata": {},
     "output_type": "execute_result"
    }
   ],
   "source": [
    "person3._students_data__mobile_no"
   ]
  },
  {
   "cell_type": "code",
   "execution_count": 27,
   "id": "cb46daf4-8685-415e-a018-c4fac27e7265",
   "metadata": {},
   "outputs": [],
   "source": [
    "person3._students_data__mobile_no = 9373610956"
   ]
  },
  {
   "cell_type": "code",
   "execution_count": 28,
   "id": "ea5644cf-9520-4743-81eb-4dd0a077ccf1",
   "metadata": {},
   "outputs": [
    {
     "data": {
      "text/plain": [
       "9373610956"
      ]
     },
     "execution_count": 28,
     "metadata": {},
     "output_type": "execute_result"
    }
   ],
   "source": [
    "person3._students_data__mobile_no"
   ]
  },
  {
   "cell_type": "markdown",
   "id": "fdc2bcd7-a1da-47b3-9755-7cffb816079d",
   "metadata": {},
   "source": [
    "# Inheritance"
   ]
  },
  {
   "cell_type": "markdown",
   "id": "45aeb385-401e-47ad-9c44-bd0b9066b5ef",
   "metadata": {},
   "source": [
    "Parent class Properties to child class"
   ]
  },
  {
   "cell_type": "code",
   "execution_count": 29,
   "id": "225ea490-ed22-428a-bca9-31d1f32f431e",
   "metadata": {},
   "outputs": [],
   "source": [
    "class parent():\n",
    "    def singing(self):\n",
    "        return 'Parent is having singing skills & I am in parent class with singing function'"
   ]
  },
  {
   "cell_type": "code",
   "execution_count": 30,
   "id": "368f6d59-e976-4e5c-8f60-7538092e099f",
   "metadata": {},
   "outputs": [],
   "source": [
    "p1 = parent()"
   ]
  },
  {
   "cell_type": "code",
   "execution_count": 31,
   "id": "1f4b27fb-3e02-408c-bd8a-aa72ec475266",
   "metadata": {},
   "outputs": [
    {
     "data": {
      "text/plain": [
       "'Parent is having singing skills & I am in parent class with singing function'"
      ]
     },
     "execution_count": 31,
     "metadata": {},
     "output_type": "execute_result"
    }
   ],
   "source": [
    "p1.singing()"
   ]
  },
  {
   "cell_type": "code",
   "execution_count": 32,
   "id": "e21915ea-e6cb-42c6-8286-3dcb52df627e",
   "metadata": {},
   "outputs": [],
   "source": [
    "# Child class"
   ]
  },
  {
   "cell_type": "code",
   "execution_count": 33,
   "id": "e4e14d6a-2b93-4a68-912b-a22e2d3dd257",
   "metadata": {},
   "outputs": [],
   "source": [
    "class child(parent):\n",
    "    def cricket(self):\n",
    "        return 'Child is good cricket player & I am in child class with cricket function.'"
   ]
  },
  {
   "cell_type": "code",
   "execution_count": 34,
   "id": "f94f6d16-07c3-457d-aac6-7fb072c29a1e",
   "metadata": {},
   "outputs": [],
   "source": [
    "c = child()"
   ]
  },
  {
   "cell_type": "code",
   "execution_count": 35,
   "id": "ea357481-8667-4bb1-9492-808dc7d73460",
   "metadata": {},
   "outputs": [
    {
     "data": {
      "text/plain": [
       "'Parent is having singing skills & I am in parent class with singing function'"
      ]
     },
     "execution_count": 35,
     "metadata": {},
     "output_type": "execute_result"
    }
   ],
   "source": [
    "c.singing()"
   ]
  },
  {
   "cell_type": "code",
   "execution_count": 37,
   "id": "c7223bbc-a19d-4c2a-986c-2021bb4ac18b",
   "metadata": {},
   "outputs": [
    {
     "data": {
      "text/plain": [
       "'Child is good cricket player & I am in child class with cricket function.'"
      ]
     },
     "execution_count": 37,
     "metadata": {},
     "output_type": "execute_result"
    }
   ],
   "source": [
    "c.cricket()"
   ]
  },
  {
   "cell_type": "code",
   "execution_count": 38,
   "id": "c6b48d5f-5977-4e74-959f-6f464fb2b737",
   "metadata": {},
   "outputs": [],
   "source": [
    "class students_data():                           #Parent classs\n",
    "    def __init__(self,name,roll_no,mobile_no):\n",
    "        self.name = name\n",
    "        self._roll_no = roll_no\n",
    "        self.__mobile_no = mobile_no"
   ]
  },
  {
   "cell_type": "code",
   "execution_count": 39,
   "id": "e98d9e20-0bbf-4fdb-bcba-cef8b3f34d6d",
   "metadata": {},
   "outputs": [],
   "source": [
    "class primary_students(students_data):        # Child class\n",
    "    pass"
   ]
  },
  {
   "cell_type": "code",
   "execution_count": 40,
   "id": "0974fb0b-3422-49a5-ab52-48d72efe8e33",
   "metadata": {},
   "outputs": [],
   "source": [
    "p1 = primary_students(\"x\", 1, 2222222)"
   ]
  },
  {
   "cell_type": "code",
   "execution_count": 41,
   "id": "bb2e932b-e922-47e0-b663-cb10af6a1e32",
   "metadata": {},
   "outputs": [
    {
     "data": {
      "text/plain": [
       "'x'"
      ]
     },
     "execution_count": 41,
     "metadata": {},
     "output_type": "execute_result"
    }
   ],
   "source": [
    "p1.name"
   ]
  },
  {
   "cell_type": "code",
   "execution_count": 42,
   "id": "18dbf54f-81bd-48d2-960a-ff1916b861a2",
   "metadata": {},
   "outputs": [
    {
     "data": {
      "text/plain": [
       "1"
      ]
     },
     "execution_count": 42,
     "metadata": {},
     "output_type": "execute_result"
    }
   ],
   "source": [
    "p1._roll_no"
   ]
  },
  {
   "cell_type": "code",
   "execution_count": 43,
   "id": "c2c3483b-8fd8-48d1-82da-b4fa9ff7b9ee",
   "metadata": {},
   "outputs": [
    {
     "data": {
      "text/plain": [
       "2222222"
      ]
     },
     "execution_count": 43,
     "metadata": {},
     "output_type": "execute_result"
    }
   ],
   "source": [
    "p1._students_data__mobile_no"
   ]
  },
  {
   "cell_type": "code",
   "execution_count": null,
   "id": "aed7f805-1296-48be-904e-ab3771ecf079",
   "metadata": {},
   "outputs": [],
   "source": []
  }
 ],
 "metadata": {
  "kernelspec": {
   "display_name": "Python 3 (ipykernel)",
   "language": "python",
   "name": "python3"
  },
  "language_info": {
   "codemirror_mode": {
    "name": "ipython",
    "version": 3
   },
   "file_extension": ".py",
   "mimetype": "text/x-python",
   "name": "python",
   "nbconvert_exporter": "python",
   "pygments_lexer": "ipython3",
   "version": "3.12.4"
  }
 },
 "nbformat": 4,
 "nbformat_minor": 5
}
